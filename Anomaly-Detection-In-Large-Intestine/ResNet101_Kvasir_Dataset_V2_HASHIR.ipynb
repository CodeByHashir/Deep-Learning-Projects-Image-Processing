{
  "cells": [
    {
      "cell_type": "code",
      "execution_count": 4,
      "metadata": {
        "id": "foaZFqzIFCr4"
      },
      "outputs": [],
      "source": [
        "# import pertinent libraries\n",
        "import os\n",
        "import datetime\n",
        "import glob as glob\n",
        "import numpy as np\n",
        "from keras.models import Model\n",
        "from keras.layers import Input, add, Add, Dense, Activation, ZeroPadding2D, BatchNormalization, Flatten, Conv2D, AveragePooling2D, MaxPooling2D, GlobalMaxPooling2D,MaxPool2D, Dropout\n",
        "from keras.preprocessing.image import ImageDataGenerator\n",
        "from tensorflow import keras\n",
        "import tensorflow as tf\n",
        "import matplotlib.pyplot as plt\n",
        "from sklearn.metrics import classification_report, confusion_matrix\n",
        "from tensorflow.keras.optimizers import Adam\n",
        "from tensorflow.keras.callbacks import EarlyStopping\n",
        "from keras.models import Sequential"
      ]
    },
    {
      "cell_type": "code",
      "execution_count": 6,
      "metadata": {
        "colab": {
          "base_uri": "https://localhost:8080/"
        },
        "id": "f9g6m9lpCv2O",
        "outputId": "5fc52f67-2b65-481f-a501-9274e4fd3b32"
      },
      "outputs": [
        {
          "name": "stdout",
          "output_type": "stream",
          "text": [
            "Mounted at /content/drive\n"
          ]
        }
      ],
      "source": [
        "from google.colab import drive\n",
        "drive.mount('/content/drive')"
      ]
    },
    {
      "cell_type": "code",
      "execution_count": 7,
      "metadata": {
        "id": "x1L-iqLTFtx7"
      },
      "outputs": [],
      "source": [
        "img_width, img_height = 224, 224\n",
        "\n",
        "train_dir = '/content/drive/MyDrive/Data_Sets_of_abnormality_in_large_intestine/kvasir_dataset_v2/train'\n",
        "validate_dir = '/content/drive/MyDrive/Data_Sets_of_abnormality_in_large_intestine/kvasir_dataset_v2/val'\n",
        "test_dir = '/content/drive/MyDrive/Data_Sets_of_abnormality_in_large_intestine/kvasir_dataset_v2/test'\n",
        "nb_epochs = 10\n",
        "batch_size = 32\n",
        "nb_classes = len(glob.glob(train_dir + '/*'))\n",
        "\n",
        "# get number of images in training directory\n",
        "nb_train_samples = 0\n",
        "for r, dirs, files in os.walk(train_dir):\n",
        "    for dr in dirs:\n",
        "        nb_train_samples += len(glob.glob(os.path.join(r, dr + \"/*\")))\n",
        "# get number of images in validation directory\n",
        "nb_validate_samples = 0\n",
        "for r, dirs, files in os.walk(validate_dir):\n",
        "    for dr in dirs:\n",
        "        nb_validate_samples += len(glob.glob(os.path.join(r, dr + \"/*\")))\n",
        "# get the number of images in test directory\n",
        "nb_test_samples = 0\n",
        "for r, dirs, files in os.walk(test_dir):\n",
        "    for dr in dirs:\n",
        "        nb_test_samples += len(glob.glob(os.path.join(r, dr + \"/*\")))"
      ]
    },
    {
      "cell_type": "code",
      "execution_count": 8,
      "metadata": {
        "colab": {
          "base_uri": "https://localhost:8080/"
        },
        "id": "nhXU9_bEFz4w",
        "outputId": "aee23811-3bdf-483b-d7b0-249683d3384b"
      },
      "outputs": [
        {
          "name": "stdout",
          "output_type": "stream",
          "text": [
            "8\n"
          ]
        }
      ],
      "source": [
        "print(nb_classes)"
      ]
    },
    {
      "cell_type": "code",
      "execution_count": 9,
      "metadata": {
        "id": "T8F5x-hQF2U8"
      },
      "outputs": [],
      "source": [
        "# Data preprocessing for training\n",
        "train_datagen =  ImageDataGenerator(\n",
        "    rotation_range = 20,\n",
        "    fill_mode = 'nearest',\n",
        "    horizontal_flip = True)"
      ]
    },
    {
      "cell_type": "code",
      "execution_count": 10,
      "metadata": {
        "id": "Aza66pLBF5TE"
      },
      "outputs": [],
      "source": [
        "# data pre-processing for validation\n",
        "validate_datagen =  ImageDataGenerator(\n",
        "    rotation_range = 20,\n",
        "    fill_mode = 'nearest',\n",
        "    horizontal_flip = True)"
      ]
    },
    {
      "cell_type": "code",
      "execution_count": 11,
      "metadata": {
        "id": "UgqJcemKqPu3"
      },
      "outputs": [],
      "source": [
        "# data pre-processing for testing\n",
        "test_datagen =  ImageDataGenerator(\n",
        "    rotation_range = 20,\n",
        "    fill_mode = 'nearest',\n",
        "    horizontal_flip = True)"
      ]
    },
    {
      "cell_type": "code",
      "execution_count": 12,
      "metadata": {
        "colab": {
          "base_uri": "https://localhost:8080/"
        },
        "id": "KxXG3-9TqSuo",
        "outputId": "1e361332-dc94-4753-a2fb-8e6890fcaa28"
      },
      "outputs": [
        {
          "name": "stdout",
          "output_type": "stream",
          "text": [
            "Found 6400 images belonging to 8 classes.\n"
          ]
        }
      ],
      "source": [
        "# generate and store training data\n",
        "train_generator = train_datagen.flow_from_directory(\n",
        "    train_dir,\n",
        "    target_size = (img_width, img_height),\n",
        "    batch_size = batch_size)"
      ]
    },
    {
      "cell_type": "code",
      "execution_count": 13,
      "metadata": {
        "colab": {
          "base_uri": "https://localhost:8080/"
        },
        "id": "OxKvxb6RqVvm",
        "outputId": "dc15fe5f-99c6-4187-dbe9-20be5d1f09df"
      },
      "outputs": [
        {
          "name": "stdout",
          "output_type": "stream",
          "text": [
            "Found 810 images belonging to 8 classes.\n"
          ]
        }
      ],
      "source": [
        "# generate and store validation data\n",
        "validate_generator = validate_datagen.flow_from_directory(\n",
        "    validate_dir,\n",
        "    target_size = (img_width, img_height),\n",
        "    batch_size = batch_size)"
      ]
    },
    {
      "cell_type": "code",
      "execution_count": 14,
      "metadata": {
        "colab": {
          "base_uri": "https://localhost:8080/"
        },
        "id": "VsAdPiKMqYxr",
        "outputId": "f98bd15f-0a71-438d-d463-bf3c5a2a735f"
      },
      "outputs": [
        {
          "name": "stdout",
          "output_type": "stream",
          "text": [
            "Found 800 images belonging to 8 classes.\n"
          ]
        }
      ],
      "source": [
        "# generate and store test data\n",
        "test_generator = validate_datagen.flow_from_directory(\n",
        "    test_dir,\n",
        "    target_size = (img_width, img_height),\n",
        "    batch_size = batch_size)"
      ]
    },
    {
      "cell_type": "code",
      "execution_count": 15,
      "metadata": {
        "colab": {
          "base_uri": "https://localhost:8080/"
        },
        "id": "6Vs8IDMuel-n",
        "outputId": "42069257-3d49-4eaa-fecf-bf777a8d5e47"
      },
      "outputs": [
        {
          "name": "stdout",
          "output_type": "stream",
          "text": [
            "Downloading data from https://storage.googleapis.com/tensorflow/keras-applications/resnet/resnet101_weights_tf_dim_ordering_tf_kernels_notop.h5\n",
            "171446536/171446536 [==============================] - 1s 0us/step\n"
          ]
        }
      ],
      "source": [
        "# building model\n",
        "resnet_101_model = Sequential()\n",
        "\n",
        "pretrained_model= tf.keras.applications.ResNet101(include_top=False,\n",
        "                   input_shape=(224,224,3),\n",
        "                   pooling='avg',classes=8,\n",
        "                   weights='imagenet')\n",
        "for layer in pretrained_model.layers:\n",
        "        layer.trainable=False\n",
        "\n",
        "resnet_101_model.add(pretrained_model)\n",
        "resnet_101_model.add(Flatten())\n",
        "resnet_101_model.add(Dense(512, activation='relu'))\n",
        "resnet_101_model.add(Dropout(0.5))\n",
        "resnet_101_model.add(Dense(8, activation='softmax'))"
      ]
    },
    {
      "cell_type": "code",
      "execution_count": 16,
      "metadata": {
        "id": "YjB1bQPHGHcm"
      },
      "outputs": [],
      "source": [
        "resnet_101_model.compile(Adam(learning_rate = 0.0001), loss = 'categorical_crossentropy', metrics = ['accuracy'])"
      ]
    },
    {
      "cell_type": "code",
      "execution_count": 17,
      "metadata": {
        "colab": {
          "base_uri": "https://localhost:8080/"
        },
        "id": "6JhYKBuSGJ7t",
        "outputId": "26aef8eb-17aa-44f5-c7c6-dac8db1e5434"
      },
      "outputs": [
        {
          "name": "stdout",
          "output_type": "stream",
          "text": [
            "Model: \"sequential\"\n",
            "_________________________________________________________________\n",
            " Layer (type)                Output Shape              Param #   \n",
            "=================================================================\n",
            " resnet101 (Functional)      (None, 2048)              42658176  \n",
            "                                                                 \n",
            " flatten (Flatten)           (None, 2048)              0         \n",
            "                                                                 \n",
            " dense (Dense)               (None, 512)               1049088   \n",
            "                                                                 \n",
            " dropout (Dropout)           (None, 512)               0         \n",
            "                                                                 \n",
            " dense_1 (Dense)             (None, 8)                 4104      \n",
            "                                                                 \n",
            "=================================================================\n",
            "Total params: 43,711,368\n",
            "Trainable params: 1,053,192\n",
            "Non-trainable params: 42,658,176\n",
            "_________________________________________________________________\n"
          ]
        }
      ],
      "source": [
        "resnet_101_model.summary()"
      ]
    },
    {
      "cell_type": "code",
      "execution_count": null,
      "metadata": {
        "id": "ZTXJi9c2Gen8"
      },
      "outputs": [],
      "source": [
        "# fit the model, log the results and the training time\n",
        "now = datetime.datetime.now\n",
        "t = now()\n",
        "history = resnet_101_model.fit_generator(\n",
        "    train_generator,\n",
        "    epochs = nb_epochs,\n",
        "    steps_per_epoch = nb_train_samples//batch_size,\n",
        "    validation_data = validate_generator,\n",
        "    validation_steps = nb_validate_samples//batch_size)\n",
        "print('Training time: %s' % (now() - t))"
      ]
    },
    {
      "cell_type": "code",
      "execution_count": null,
      "metadata": {
        "id": "C52fCc3ZF-H1"
      },
      "outputs": [],
      "source": [
        "model = resnet_101_model.save(\"ResNet101_Kvasir_Dataset_V2.h5\")"
      ]
    },
    {
      "cell_type": "code",
      "execution_count": null,
      "metadata": {
        "id": "kZ9F8oK3GBhF"
      },
      "outputs": [],
      "source": [
        "from keras import models\n",
        "model = models.load_model(\"ResNet101_Kvasir_Dataset_V2.h5\")"
      ]
    },
    {
      "cell_type": "code",
      "execution_count": null,
      "metadata": {
        "colab": {
          "base_uri": "https://localhost:8080/",
          "height": 295
        },
        "id": "D-0QC92zMVbM",
        "outputId": "7966e61d-4a24-4634-f559-d7d7d80c51d5"
      },
      "outputs": [
        {
          "data": {
            "image/png": "[encoded data removed]",
            "text/plain": [
              "<Figure size 432x288 with 1 Axes>"
            ]
          },
          "metadata": {
            "needs_background": "light"
          },
          "output_type": "display_data"
        }
      ],
      "source": [
        "plt.plot(history.history[\"loss\"])\n",
        "plt.plot(history.history[\"val_loss\"])\n",
        "plt.grid()\n",
        "plt.title(\"Model Loss\")\n",
        "plt.ylabel(\"Loss\")\n",
        "plt.xlabel(\"Epochs\")\n",
        "plt.legend([\"train\", \"validation\"])\n",
        "plt.show()"
      ]
    },
    {
      "cell_type": "code",
      "execution_count": null,
      "metadata": {
        "id": "f6RSgAy7McsE"
      },
      "outputs": [],
      "source": [
        "X_test, Y_test = next(test_generator)"
      ]
    },
    {
      "cell_type": "code",
      "execution_count": null,
      "metadata": {
        "colab": {
          "base_uri": "https://localhost:8080/"
        },
        "id": "SnJab0vJMfF5",
        "outputId": "3ba2ddc5-77c4-4446-f1da-f87bb83ffd07"
      },
      "outputs": [
        {
          "name": "stdout",
          "output_type": "stream",
          "text": [
            "[[[[ 2.          2.          2.        ]\n",
            "   [ 2.          2.          2.        ]\n",
            "   [ 2.          2.          2.        ]\n",
            "   ...\n",
            "   [ 6.          6.          6.        ]\n",
            "   [ 6.          6.          6.        ]\n",
            "   [ 6.          6.          6.        ]]\n",
            "\n",
            "  [[ 1.2856396   2.7143602   2.        ]\n",
            "   [ 1.5236553   2.4763448   2.        ]\n",
            "   [ 1.7616708   2.2383292   2.        ]\n",
            "   ...\n",
            "   [ 6.          6.          6.        ]\n",
            "   [ 6.          6.          6.        ]\n",
            "   [ 6.          6.          6.        ]]\n",
            "\n",
            "  [[ 1.          3.          0.62875664]\n",
            "   [ 1.          3.          1.1047878 ]\n",
            "   [ 1.          3.          1.580819  ]\n",
            "   ...\n",
            "   [ 6.          6.          6.        ]\n",
            "   [ 6.          6.          6.        ]\n",
            "   [ 6.          6.          6.        ]]\n",
            "\n",
            "  ...\n",
            "\n",
            "  [[ 3.          3.          3.        ]\n",
            "   [ 3.          3.          3.        ]\n",
            "   [ 3.          3.          3.        ]\n",
            "   ...\n",
            "   [ 2.          2.          2.        ]\n",
            "   [ 2.          2.          2.        ]\n",
            "   [ 2.          2.          2.        ]]\n",
            "\n",
            "  [[ 3.          3.          3.        ]\n",
            "   [ 3.          3.          3.        ]\n",
            "   [ 3.          3.          3.        ]\n",
            "   ...\n",
            "   [ 2.          2.          0.4766583 ]\n",
            "   [ 2.          2.          0.95268947]\n",
            "   [ 2.          2.          1.4287207 ]]\n",
            "\n",
            "  [[ 3.          3.          3.        ]\n",
            "   [ 3.          3.          3.        ]\n",
            "   [ 3.          3.          3.        ]\n",
            "   ...\n",
            "   [ 2.          2.          1.4658643 ]\n",
            "   [ 2.          2.          0.9898332 ]\n",
            "   [ 2.          2.          0.513802  ]]]\n",
            "\n",
            "\n",
            " [[[ 0.          0.          0.        ]\n",
            "   [ 0.          0.          0.        ]\n",
            "   [ 0.          0.          0.        ]\n",
            "   ...\n",
            "   [ 0.          0.          0.        ]\n",
            "   [ 0.          0.          0.        ]\n",
            "   [ 0.          0.          0.        ]]\n",
            "\n",
            "  [[ 0.          0.          0.        ]\n",
            "   [ 0.          0.          0.        ]\n",
            "   [ 0.          0.          0.        ]\n",
            "   ...\n",
            "   [ 0.          0.          0.        ]\n",
            "   [ 0.          0.          0.        ]\n",
            "   [ 0.          0.          0.        ]]\n",
            "\n",
            "  [[ 0.          0.          0.        ]\n",
            "   [ 0.          0.          0.        ]\n",
            "   [ 0.          0.          0.        ]\n",
            "   ...\n",
            "   [ 0.          0.          0.        ]\n",
            "   [ 0.          0.          0.        ]\n",
            "   [ 0.          0.          0.        ]]\n",
            "\n",
            "  ...\n",
            "\n",
            "  [[ 0.          0.          0.        ]\n",
            "   [ 0.          0.          0.        ]\n",
            "   [ 0.          0.          0.        ]\n",
            "   ...\n",
            "   [ 0.          0.          0.        ]\n",
            "   [ 0.          0.          0.        ]\n",
            "   [ 0.          0.          0.        ]]\n",
            "\n",
            "  [[ 0.          0.          0.        ]\n",
            "   [ 0.          0.          0.        ]\n",
            "   [ 0.          0.          0.        ]\n",
            "   ...\n",
            "   [ 0.          0.          0.        ]\n",
            "   [ 0.          0.          0.        ]\n",
            "   [ 0.          0.          0.        ]]\n",
            "\n",
            "  [[ 0.          0.          0.        ]\n",
            "   [ 0.          0.          0.        ]\n",
            "   [ 0.          0.          0.        ]\n",
            "   ...\n",
            "   [ 0.          0.          0.        ]\n",
            "   [ 0.          0.          0.        ]\n",
            "   [ 0.          0.          0.        ]]]\n",
            "\n",
            "\n",
            " [[[15.         15.         15.        ]\n",
            "   [15.         15.         15.        ]\n",
            "   [15.         15.         15.        ]\n",
            "   ...\n",
            "   [15.         15.         15.        ]\n",
            "   [15.         15.         15.        ]\n",
            "   [15.         15.         15.        ]]\n",
            "\n",
            "  [[15.         15.         15.        ]\n",
            "   [15.         15.         15.        ]\n",
            "   [15.         15.         15.        ]\n",
            "   ...\n",
            "   [15.         15.         15.        ]\n",
            "   [15.         15.         15.        ]\n",
            "   [15.         15.         15.        ]]\n",
            "\n",
            "  [[15.         15.         15.        ]\n",
            "   [15.         15.         15.        ]\n",
            "   [15.         15.         15.        ]\n",
            "   ...\n",
            "   [15.         15.         15.        ]\n",
            "   [15.         15.         15.        ]\n",
            "   [15.         15.         15.        ]]\n",
            "\n",
            "  ...\n",
            "\n",
            "  [[15.         15.         15.        ]\n",
            "   [15.         15.         15.        ]\n",
            "   [15.         15.         15.        ]\n",
            "   ...\n",
            "   [15.         15.         15.        ]\n",
            "   [15.         15.         15.        ]\n",
            "   [15.         15.         15.        ]]\n",
            "\n",
            "  [[15.         15.         15.        ]\n",
            "   [15.         15.         15.        ]\n",
            "   [15.         15.         15.        ]\n",
            "   ...\n",
            "   [15.         15.         15.        ]\n",
            "   [15.         15.         15.        ]\n",
            "   [15.         15.         15.        ]]\n",
            "\n",
            "  [[15.         15.         15.        ]\n",
            "   [15.         15.         15.        ]\n",
            "   [15.         15.         15.        ]\n",
            "   ...\n",
            "   [15.         15.         15.        ]\n",
            "   [15.         15.         15.        ]\n",
            "   [15.         15.         15.        ]]]\n",
            "\n",
            "\n",
            " ...\n",
            "\n",
            "\n",
            " [[[ 1.9669527   1.9669527   0.        ]\n",
            "   [ 2.001364    2.001364    0.12397157]\n",
            "   [ 3.          3.          3.        ]\n",
            "   ...\n",
            "   [ 3.          3.          2.9337564 ]\n",
            "   [ 3.          3.          1.        ]\n",
            "   [ 2.9669528   2.9669528   1.0330473 ]]\n",
            "\n",
            "  [[ 1.0330846   1.0330846   0.9669154 ]\n",
            "   [ 1.1395528   1.1395528   0.96453327]\n",
            "   [ 3.          3.          1.1955245 ]\n",
            "   ...\n",
            "   [ 3.0585938   3.0585938   2.9799736 ]\n",
            "   [ 3.0478745   3.0478745   1.1436236 ]\n",
            "   [ 2.9583178   2.9583178   1.0382373 ]]\n",
            "\n",
            "  [[ 1.          1.          1.        ]\n",
            "   [ 1.1171875   1.1171875   1.1122941 ]\n",
            "   [ 3.0556056   3.0556056   2.9607236 ]\n",
            "   ...\n",
            "   [ 4.          4.          4.        ]\n",
            "   [ 3.9521594   3.9521594   3.856478  ]\n",
            "   [ 2.988892    2.988892    1.0714651 ]]\n",
            "\n",
            "  ...\n",
            "\n",
            "  [[ 0.9909694   0.9909694   0.9125511 ]\n",
            "   [ 1.9521593   1.9521593   1.9471318 ]\n",
            "   [ 2.          2.          2.        ]\n",
            "   ...\n",
            "   [ 2.          2.          2.1112113 ]\n",
            "   [ 2.          2.          0.19580771]\n",
            "   [ 2.          2.          0.06624372]]\n",
            "\n",
            "  [[ 1.9169939   1.9169939   1.9169939 ]\n",
            "   [ 1.9979157   1.9979157   1.9979157 ]\n",
            "   [ 2.          2.          2.        ]\n",
            "   ...\n",
            "   [ 2.          2.          2.        ]\n",
            "   [ 1.9603647   1.9603647   1.9603647 ]\n",
            "   [ 1.9669154   1.9669154   1.9669154 ]]\n",
            "\n",
            "  [[ 1.9669527   1.9669527   1.9669527 ]\n",
            "   [ 2.          2.          2.        ]\n",
            "   [ 2.          2.          2.        ]\n",
            "   ...\n",
            "   [ 2.          2.          2.        ]\n",
            "   [ 1.0413239   1.0413239   1.0413239 ]\n",
            "   [ 1.          1.          1.        ]]]\n",
            "\n",
            "\n",
            " [[[ 1.9676296   1.9676296   1.9676296 ]\n",
            "   [ 1.799486    1.799486    1.799486  ]\n",
            "   [ 1.5666016   1.5666016   1.5666016 ]\n",
            "   ...\n",
            "   [ 5.          5.          5.        ]\n",
            "   [ 5.          5.          5.        ]\n",
            "   [ 5.          5.          5.        ]]\n",
            "\n",
            "  [[ 1.          1.          0.9951251 ]\n",
            "   [ 1.2280096   1.2280096   1.2280096 ]\n",
            "   [ 1.460894    1.460894    1.460894  ]\n",
            "   ...\n",
            "   [ 5.          5.          5.        ]\n",
            "   [ 5.          5.          5.        ]\n",
            "   [ 5.          5.          5.        ]]\n",
            "\n",
            "  [[ 1.          1.          0.02262071]\n",
            "   [ 1.          1.          0.25550514]\n",
            "   [ 1.          1.          0.48838955]\n",
            "   ...\n",
            "   [ 5.          5.          5.        ]\n",
            "   [ 5.          5.          5.        ]\n",
            "   [ 5.          5.          5.        ]]\n",
            "\n",
            "  ...\n",
            "\n",
            "  [[ 2.          2.          2.        ]\n",
            "   [ 2.          2.          2.        ]\n",
            "   [ 2.          2.          2.        ]\n",
            "   ...\n",
            "   [ 2.0232208   3.          1.4883896 ]\n",
            "   [ 2.4889898   3.          1.2555051 ]\n",
            "   [ 2.9547586   3.          1.0226207 ]]\n",
            "\n",
            "  [[ 2.          2.          2.        ]\n",
            "   [ 2.          2.          2.        ]\n",
            "   [ 2.          2.          2.        ]\n",
            "   ...\n",
            "   [ 1.          3.          2.        ]\n",
            "   [ 1.          3.          2.        ]\n",
            "   [ 1.0097498   3.          1.9951252 ]]\n",
            "\n",
            "  [[ 2.          2.          2.        ]\n",
            "   [ 2.          2.          2.        ]\n",
            "   [ 2.          2.          2.        ]\n",
            "   ...\n",
            "   [ 1.          3.          2.        ]\n",
            "   [ 1.          3.          2.        ]\n",
            "   [ 1.          3.          2.        ]]]\n",
            "\n",
            "\n",
            " [[[ 0.          0.          0.        ]\n",
            "   [ 0.          0.          0.        ]\n",
            "   [ 0.          0.          0.        ]\n",
            "   ...\n",
            "   [ 0.          0.          0.        ]\n",
            "   [ 0.          0.          0.        ]\n",
            "   [ 0.          0.          0.        ]]\n",
            "\n",
            "  [[ 0.          0.          0.        ]\n",
            "   [ 0.          0.          0.        ]\n",
            "   [ 0.          0.          0.        ]\n",
            "   ...\n",
            "   [ 0.          0.          0.        ]\n",
            "   [ 0.          0.          0.        ]\n",
            "   [ 0.          0.          0.        ]]\n",
            "\n",
            "  [[ 0.          0.          0.        ]\n",
            "   [ 0.          0.          0.        ]\n",
            "   [ 0.          0.          0.        ]\n",
            "   ...\n",
            "   [ 0.          0.          0.        ]\n",
            "   [ 0.          0.          0.        ]\n",
            "   [ 0.          0.          0.        ]]\n",
            "\n",
            "  ...\n",
            "\n",
            "  [[ 0.          0.          0.        ]\n",
            "   [ 0.          0.          0.        ]\n",
            "   [ 0.          0.          0.        ]\n",
            "   ...\n",
            "   [ 0.          0.          0.        ]\n",
            "   [ 0.          0.          0.        ]\n",
            "   [ 0.          0.          0.        ]]\n",
            "\n",
            "  [[ 0.          0.          0.        ]\n",
            "   [ 0.          0.          0.        ]\n",
            "   [ 0.          0.          0.        ]\n",
            "   ...\n",
            "   [ 0.          0.          0.        ]\n",
            "   [ 0.          0.          0.        ]\n",
            "   [ 0.          0.          0.        ]]\n",
            "\n",
            "  [[ 0.          0.          0.        ]\n",
            "   [ 0.          0.          0.        ]\n",
            "   [ 0.          0.          0.        ]\n",
            "   ...\n",
            "   [ 0.          0.          0.        ]\n",
            "   [ 0.          0.          0.        ]\n",
            "   [ 0.          0.          0.        ]]]] [[0. 0. 0. 0. 0. 0. 0. 1.]\n",
            " [0. 0. 1. 0. 0. 0. 0. 0.]\n",
            " [0. 0. 0. 0. 1. 0. 0. 0.]\n",
            " [0. 0. 0. 0. 0. 0. 1. 0.]\n",
            " [0. 1. 0. 0. 0. 0. 0. 0.]\n",
            " [0. 1. 0. 0. 0. 0. 0. 0.]\n",
            " [0. 0. 0. 0. 0. 0. 0. 1.]\n",
            " [0. 0. 0. 1. 0. 0. 0. 0.]\n",
            " [0. 0. 1. 0. 0. 0. 0. 0.]\n",
            " [0. 1. 0. 0. 0. 0. 0. 0.]\n",
            " [0. 0. 0. 0. 1. 0. 0. 0.]\n",
            " [0. 0. 0. 0. 1. 0. 0. 0.]\n",
            " [0. 0. 0. 0. 0. 0. 0. 1.]\n",
            " [0. 0. 0. 0. 1. 0. 0. 0.]\n",
            " [0. 0. 0. 0. 0. 0. 1. 0.]\n",
            " [0. 0. 0. 0. 0. 0. 1. 0.]\n",
            " [1. 0. 0. 0. 0. 0. 0. 0.]\n",
            " [0. 0. 0. 0. 0. 0. 0. 1.]\n",
            " [0. 0. 0. 0. 0. 0. 1. 0.]\n",
            " [0. 0. 0. 1. 0. 0. 0. 0.]\n",
            " [0. 1. 0. 0. 0. 0. 0. 0.]\n",
            " [0. 0. 0. 0. 0. 1. 0. 0.]\n",
            " [0. 0. 0. 0. 1. 0. 0. 0.]\n",
            " [0. 1. 0. 0. 0. 0. 0. 0.]\n",
            " [1. 0. 0. 0. 0. 0. 0. 0.]\n",
            " [0. 0. 1. 0. 0. 0. 0. 0.]\n",
            " [0. 0. 0. 0. 0. 0. 1. 0.]\n",
            " [0. 0. 1. 0. 0. 0. 0. 0.]\n",
            " [0. 0. 0. 0. 1. 0. 0. 0.]\n",
            " [1. 0. 0. 0. 0. 0. 0. 0.]\n",
            " [0. 0. 0. 1. 0. 0. 0. 0.]\n",
            " [0. 0. 0. 0. 0. 1. 0. 0.]]\n"
          ]
        }
      ],
      "source": [
        "print(X_test,Y_test)"
      ]
    },
    {
      "cell_type": "code",
      "execution_count": null,
      "metadata": {
        "id": "5FtY5IFSx4Hb"
      },
      "outputs": [],
      "source": [
        "y_true=[]\n",
        "for i in range(len(Y_test)):\n",
        "    K= Y_test[i]\n",
        "    \n",
        "    y_true.append(list(K).index(max(list(K))))"
      ]
    },
    {
      "cell_type": "code",
      "execution_count": null,
      "metadata": {
        "colab": {
          "base_uri": "https://localhost:8080/"
        },
        "id": "1Roy8LKix_OM",
        "outputId": "f43b79aa-c830-4d77-dc02-7d0ed1907a0e"
      },
      "outputs": [
        {
          "name": "stdout",
          "output_type": "stream",
          "text": [
            "[7, 2, 4, 6, 1, 1, 7, 3, 2, 1, 4, 4, 7, 4, 6, 6, 0, 7, 6, 3, 1, 5, 4, 1, 0, 2, 6, 2, 4, 0, 3, 5]\n"
          ]
        }
      ],
      "source": [
        "print(y_true)"
      ]
    },
    {
      "cell_type": "code",
      "execution_count": null,
      "metadata": {
        "colab": {
          "base_uri": "https://localhost:8080/"
        },
        "id": "jbKxhRrGyDnE",
        "outputId": "720b3631-c085-43be-c802-e35ba78ff815"
      },
      "outputs": [
        {
          "name": "stdout",
          "output_type": "stream",
          "text": [
            "1/1 [==============================] - 2s 2s/step\n"
          ]
        }
      ],
      "source": [
        "M = resnet_101_model.predict(X_test)\n",
        "X_t=[]\n",
        "for i in range(len(M)):\n",
        "    K= M[i]\n",
        "    X_t.append(list(K).index(max(list(K))))"
      ]
    },
    {
      "cell_type": "code",
      "execution_count": null,
      "metadata": {
        "colab": {
          "base_uri": "https://localhost:8080/"
        },
        "id": "sWqG4FlRyMaD",
        "outputId": "0a6ac383-2ddb-4c1f-a7f7-974089bd039e"
      },
      "outputs": [
        {
          "name": "stdout",
          "output_type": "stream",
          "text": [
            "[7, 2, 4, 6, 1, 0, 7, 3, 2, 0, 4, 4, 7, 4, 6, 6, 1, 7, 6, 3, 0, 5, 4, 0, 0, 2, 6, 2, 4, 1, 3, 5]\n"
          ]
        }
      ],
      "source": [
        "print(X_t)"
      ]
    },
    {
      "cell_type": "code",
      "execution_count": null,
      "metadata": {
        "colab": {
          "base_uri": "https://localhost:8080/"
        },
        "id": "iDCGi_RAySaM",
        "outputId": "a842a616-e499-4cce-f6ce-6a74db499b37"
      },
      "outputs": [
        {
          "name": "stdout",
          "output_type": "stream",
          "text": [
            "              precision    recall  f1-score   support\n",
            "\n",
            "           0       0.20      0.33      0.25         3\n",
            "           1       0.33      0.20      0.25         5\n",
            "           2       1.00      1.00      1.00         4\n",
            "           3       1.00      1.00      1.00         3\n",
            "           4       1.00      1.00      1.00         6\n",
            "           5       1.00      1.00      1.00         2\n",
            "           6       1.00      1.00      1.00         5\n",
            "           7       1.00      1.00      1.00         4\n",
            "\n",
            "    accuracy                           0.81        32\n",
            "   macro avg       0.82      0.82      0.81        32\n",
            "weighted avg       0.82      0.81      0.81        32\n",
            "\n"
          ]
        }
      ],
      "source": [
        "print(classification_report(y_true, X_t, zero_division = 0))"
      ]
    },
    {
      "cell_type": "code",
      "execution_count": null,
      "metadata": {
        "colab": {
          "base_uri": "https://localhost:8080/"
        },
        "id": "NwmPJLsuyVHe",
        "outputId": "f3a15e47-48ad-4db1-8fd7-03c05f9e97d3"
      },
      "outputs": [
        {
          "name": "stdout",
          "output_type": "stream",
          "text": [
            "[[1 2 0 0 0 0 0 0]\n",
            " [4 1 0 0 0 0 0 0]\n",
            " [0 0 4 0 0 0 0 0]\n",
            " [0 0 0 3 0 0 0 0]\n",
            " [0 0 0 0 6 0 0 0]\n",
            " [0 0 0 0 0 2 0 0]\n",
            " [0 0 0 0 0 0 5 0]\n",
            " [0 0 0 0 0 0 0 4]]\n"
          ]
        }
      ],
      "source": [
        "print(confusion_matrix(y_true,X_t))"
      ]
    },
    {
      "cell_type": "code",
      "execution_count": null,
      "metadata": {
        "id": "FJVOeLTHFz8X"
      },
      "outputs": [],
      "source": []
    }
  ],
  "metadata": {
    "accelerator": "GPU",
    "colab": {
      "provenance": []
    },
    "kernelspec": {
      "display_name": "Python 3",
      "name": "python3"
    },
    "language_info": {
      "name": "python"
    }
  },
  "nbformat": 4,
  "nbformat_minor": 0
}
