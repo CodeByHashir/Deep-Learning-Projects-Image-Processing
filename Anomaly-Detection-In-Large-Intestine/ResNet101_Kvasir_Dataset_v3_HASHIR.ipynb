{
  "nbformat": 4,
  "nbformat_minor": 0,
  "metadata": {
    "colab": {
      "provenance": []
    },
    "kernelspec": {
      "name": "python3",
      "display_name": "Python 3"
    },
    "language_info": {
      "name": "python"
    },
    "accelerator": "GPU"
  },
  "cells": [
    {
      "cell_type": "code",
      "execution_count": 1,
      "metadata": {
        "id": "foaZFqzIFCr4"
      },
      "outputs": [],
      "source": [
        "# import pertinent libraries\n",
        "import os\n",
        "import datetime\n",
        "import glob as glob\n",
        "import numpy as np\n",
        "from keras.models import Model\n",
        "from keras.layers import Input, add, Add, Dense, Activation, ZeroPadding2D, BatchNormalization, Flatten, Conv2D, AveragePooling2D, MaxPooling2D, GlobalMaxPooling2D,MaxPool2D, Dropout\n",
        "from keras.preprocessing.image import ImageDataGenerator\n",
        "from tensorflow import keras\n",
        "import tensorflow as tf\n",
        "import matplotlib.pyplot as plt\n",
        "from sklearn.metrics import classification_report, confusion_matrix\n",
        "from tensorflow.keras.optimizers import Adam\n",
        "from tensorflow.keras.callbacks import EarlyStopping\n",
        "from keras.models import Sequential"
      ]
    },
    {
      "cell_type": "code",
      "source": [
        "from google.colab import drive\n",
        "drive.mount('/content/drive')"
      ],
      "metadata": {
        "id": "f9g6m9lpCv2O",
        "colab": {
          "base_uri": "https://localhost:8080/"
        },
        "outputId": "e9354524-e339-4386-df0c-09a5ba4d8fc6"
      },
      "execution_count": 3,
      "outputs": [
        {
          "output_type": "stream",
          "name": "stdout",
          "text": [
            "Mounted at /content/drive\n"
          ]
        }
      ]
    },
    {
      "cell_type": "code",
      "source": [
        "img_width, img_height = 224, 224\n",
        "\n",
        "train_dir = '/content/drive/MyDrive/Data_Sets_of_abnormality_in_large_intestine/kvasir_dataset_v3/train'\n",
        "validate_dir = '/content/drive/MyDrive/Data_Sets_of_abnormality_in_large_intestine/kvasir_dataset_v3/val'\n",
        "test_dir = '/content/drive/MyDrive/Data_Sets_of_abnormality_in_large_intestine/kvasir_dataset_v3/test'\n",
        "nb_epochs = 10\n",
        "batch_size = 32\n",
        "nb_classes = len(glob.glob(train_dir + '/*'))\n",
        "\n",
        "# get number of images in training directory\n",
        "nb_train_samples = 0\n",
        "for r, dirs, files in os.walk(train_dir):\n",
        "    for dr in dirs:\n",
        "        nb_train_samples += len(glob.glob(os.path.join(r, dr + \"/*\")))\n",
        "# get number of images in validation directory\n",
        "nb_validate_samples = 0\n",
        "for r, dirs, files in os.walk(validate_dir):\n",
        "    for dr in dirs:\n",
        "        nb_validate_samples += len(glob.glob(os.path.join(r, dr + \"/*\")))\n",
        "# get the number of images in test directory\n",
        "nb_test_samples = 0\n",
        "for r, dirs, files in os.walk(test_dir):\n",
        "    for dr in dirs:\n",
        "        nb_test_samples += len(glob.glob(os.path.join(r, dr + \"/*\")))"
      ],
      "metadata": {
        "id": "x1L-iqLTFtx7"
      },
      "execution_count": 4,
      "outputs": []
    },
    {
      "cell_type": "code",
      "source": [
        "print(nb_classes)"
      ],
      "metadata": {
        "colab": {
          "base_uri": "https://localhost:8080/"
        },
        "id": "nhXU9_bEFz4w",
        "outputId": "c4c83f35-19c5-4d61-b6d1-8260a657a29f"
      },
      "execution_count": 5,
      "outputs": [
        {
          "output_type": "stream",
          "name": "stdout",
          "text": [
            "14\n"
          ]
        }
      ]
    },
    {
      "cell_type": "code",
      "source": [
        "# Data preprocessing for training\n",
        "train_datagen =  ImageDataGenerator(\n",
        "    rotation_range = 20,\n",
        "    fill_mode = 'nearest',\n",
        "    horizontal_flip = True)"
      ],
      "metadata": {
        "id": "T8F5x-hQF2U8"
      },
      "execution_count": 6,
      "outputs": []
    },
    {
      "cell_type": "code",
      "source": [
        "# data pre-processing for validation\n",
        "validate_datagen =  ImageDataGenerator(\n",
        "    rotation_range = 20,\n",
        "    fill_mode = 'nearest',\n",
        "    horizontal_flip = True)"
      ],
      "metadata": {
        "id": "Aza66pLBF5TE"
      },
      "execution_count": 7,
      "outputs": []
    },
    {
      "cell_type": "code",
      "source": [
        "# data pre-processing for testing\n",
        "test_datagen =  ImageDataGenerator(\n",
        "    rotation_range = 20,\n",
        "    fill_mode = 'nearest',\n",
        "    horizontal_flip = True)"
      ],
      "metadata": {
        "id": "UgqJcemKqPu3"
      },
      "execution_count": 8,
      "outputs": []
    },
    {
      "cell_type": "code",
      "source": [
        "# generate and store training data\n",
        "train_generator = train_datagen.flow_from_directory(\n",
        "    train_dir,\n",
        "    target_size = (img_width, img_height),\n",
        "    batch_size = batch_size)"
      ],
      "metadata": {
        "colab": {
          "base_uri": "https://localhost:8080/"
        },
        "id": "KxXG3-9TqSuo",
        "outputId": "666dff23-fd4e-4988-ec2a-59d00cd574cb"
      },
      "execution_count": 9,
      "outputs": [
        {
          "output_type": "stream",
          "name": "stdout",
          "text": [
            "Found 5309 images belonging to 14 classes.\n"
          ]
        }
      ]
    },
    {
      "cell_type": "code",
      "source": [
        "# generate and store validation data\n",
        "validate_generator = validate_datagen.flow_from_directory(\n",
        "    validate_dir,\n",
        "    target_size = (img_width, img_height),\n",
        "    batch_size = batch_size)"
      ],
      "metadata": {
        "colab": {
          "base_uri": "https://localhost:8080/"
        },
        "id": "OxKvxb6RqVvm",
        "outputId": "e37aef44-0232-49c8-d181-323fd3d31e49"
      },
      "execution_count": 10,
      "outputs": [
        {
          "output_type": "stream",
          "name": "stdout",
          "text": [
            "Found 713 images belonging to 14 classes.\n"
          ]
        }
      ]
    },
    {
      "cell_type": "code",
      "source": [
        "# generate and store test data\n",
        "test_generator = validate_datagen.flow_from_directory(\n",
        "    test_dir,\n",
        "    target_size = (img_width, img_height),\n",
        "    batch_size = batch_size)"
      ],
      "metadata": {
        "colab": {
          "base_uri": "https://localhost:8080/"
        },
        "id": "VsAdPiKMqYxr",
        "outputId": "ec6c4af1-67e2-4776-bc97-afc91ce61cf2"
      },
      "execution_count": 11,
      "outputs": [
        {
          "output_type": "stream",
          "name": "stdout",
          "text": [
            "Found 735 images belonging to 14 classes.\n"
          ]
        }
      ]
    },
    {
      "cell_type": "code",
      "source": [
        "# building model\n",
        "resnet_101_model = Sequential()\n",
        "\n",
        "pretrained_model= tf.keras.applications.ResNet101(include_top=False,\n",
        "                   input_shape=(224,224,3),\n",
        "                   pooling='avg',classes=8,\n",
        "                   weights='imagenet')\n",
        "for layer in pretrained_model.layers:\n",
        "        layer.trainable=False\n",
        "\n",
        "resnet_101_model.add(pretrained_model)\n",
        "resnet_101_model.add(Flatten())\n",
        "resnet_101_model.add(Dense(512, activation='relu'))\n",
        "resnet_101_model.add(Dropout(0.5))\n",
        "resnet_101_model.add(Dense(14, activation='softmax'))"
      ],
      "metadata": {
        "colab": {
          "base_uri": "https://localhost:8080/"
        },
        "id": "6Vs8IDMuel-n",
        "outputId": "170043f2-c5e7-49b2-bdb1-e9b71944f25f"
      },
      "execution_count": 12,
      "outputs": [
        {
          "output_type": "stream",
          "name": "stdout",
          "text": [
            "Downloading data from https://storage.googleapis.com/tensorflow/keras-applications/resnet/resnet101_weights_tf_dim_ordering_tf_kernels_notop.h5\n",
            "171446536/171446536 [==============================] - 2s 0us/step\n"
          ]
        }
      ]
    },
    {
      "cell_type": "code",
      "source": [
        "resnet_101_model.compile(Adam(learning_rate = 0.0001), loss = 'categorical_crossentropy', metrics = ['accuracy'])"
      ],
      "metadata": {
        "id": "YjB1bQPHGHcm"
      },
      "execution_count": 13,
      "outputs": []
    },
    {
      "cell_type": "code",
      "source": [
        "resnet_101_model.summary()"
      ],
      "metadata": {
        "colab": {
          "base_uri": "https://localhost:8080/"
        },
        "id": "6JhYKBuSGJ7t",
        "outputId": "9ee95a0c-a888-4264-e1d9-d3148df6806a"
      },
      "execution_count": 14,
      "outputs": [
        {
          "output_type": "stream",
          "name": "stdout",
          "text": [
            "Model: \"sequential\"\n",
            "_________________________________________________________________\n",
            " Layer (type)                Output Shape              Param #   \n",
            "=================================================================\n",
            " resnet101 (Functional)      (None, 2048)              42658176  \n",
            "                                                                 \n",
            " flatten (Flatten)           (None, 2048)              0         \n",
            "                                                                 \n",
            " dense (Dense)               (None, 512)               1049088   \n",
            "                                                                 \n",
            " dropout (Dropout)           (None, 512)               0         \n",
            "                                                                 \n",
            " dense_1 (Dense)             (None, 14)                7182      \n",
            "                                                                 \n",
            "=================================================================\n",
            "Total params: 43,714,446\n",
            "Trainable params: 1,056,270\n",
            "Non-trainable params: 42,658,176\n",
            "_________________________________________________________________\n"
          ]
        }
      ]
    },
    {
      "cell_type": "code",
      "source": [
        "# fit the model, log the results and the training time\n",
        "now = datetime.datetime.now\n",
        "t = now()\n",
        "history = resnet_101_model.fit_generator(\n",
        "    train_generator,\n",
        "    epochs = nb_epochs,\n",
        "    steps_per_epoch = nb_train_samples//batch_size,\n",
        "    validation_data = validate_generator,\n",
        "    validation_steps = nb_validate_samples//batch_size)\n",
        "print('Training time: %s' % (now() - t))"
      ],
      "metadata": {
        "colab": {
          "base_uri": "https://localhost:8080/"
        },
        "id": "ZTXJi9c2Gen8",
        "outputId": "cf1cd147-1fde-4f5b-900b-23e027ca148d"
      },
      "execution_count": 15,
      "outputs": [
        {
          "output_type": "stream",
          "name": "stderr",
          "text": [
            "<ipython-input-15-287188d3be17>:4: UserWarning: `Model.fit_generator` is deprecated and will be removed in a future version. Please use `Model.fit`, which supports generators.\n",
            "  history = resnet_101_model.fit_generator(\n"
          ]
        },
        {
          "output_type": "stream",
          "name": "stdout",
          "text": [
            "Epoch 1/10\n",
            "165/165 [==============================] - 2005s 12s/step - loss: 1.1871 - accuracy: 0.6265 - val_loss: 0.7696 - val_accuracy: 0.8054\n",
            "Epoch 2/10\n",
            "165/165 [==============================] - 1993s 12s/step - loss: 0.5410 - accuracy: 0.8294 - val_loss: 0.6679 - val_accuracy: 0.8324\n",
            "Epoch 3/10\n",
            "165/165 [==============================] - 1998s 12s/step - loss: 0.4288 - accuracy: 0.8636 - val_loss: 0.5586 - val_accuracy: 0.8409\n",
            "Epoch 4/10\n",
            "165/165 [==============================] - 1998s 12s/step - loss: 0.3701 - accuracy: 0.8806 - val_loss: 0.5261 - val_accuracy: 0.8523\n",
            "Epoch 5/10\n",
            "165/165 [==============================] - 1985s 12s/step - loss: 0.3201 - accuracy: 0.8969 - val_loss: 0.5056 - val_accuracy: 0.8594\n",
            "Epoch 6/10\n",
            "165/165 [==============================] - 2003s 12s/step - loss: 0.2914 - accuracy: 0.9068 - val_loss: 0.5112 - val_accuracy: 0.8466\n",
            "Epoch 7/10\n",
            "165/165 [==============================] - 1996s 12s/step - loss: 0.2733 - accuracy: 0.9098 - val_loss: 0.4980 - val_accuracy: 0.8594\n",
            "Epoch 8/10\n",
            "165/165 [==============================] - 1991s 12s/step - loss: 0.2542 - accuracy: 0.9187 - val_loss: 0.4207 - val_accuracy: 0.8665\n",
            "Epoch 9/10\n",
            "165/165 [==============================] - 1978s 12s/step - loss: 0.2414 - accuracy: 0.9236 - val_loss: 0.4618 - val_accuracy: 0.8679\n",
            "Epoch 10/10\n",
            "165/165 [==============================] - 1998s 12s/step - loss: 0.2227 - accuracy: 0.9270 - val_loss: 0.4394 - val_accuracy: 0.8764\n",
            "Training time: 5:32:51.256967\n"
          ]
        }
      ]
    },
    {
      "cell_type": "code",
      "source": [
        "model = resnet_101_model.save(\"ResNet101_Kvasir_Dataset.h5\")"
      ],
      "metadata": {
        "id": "C52fCc3ZF-H1"
      },
      "execution_count": 16,
      "outputs": []
    },
    {
      "cell_type": "code",
      "source": [
        "from keras import models\n",
        "model = models.load_model(\"ResNet101_Kvasir_Dataset.h5\")"
      ],
      "metadata": {
        "id": "kZ9F8oK3GBhF"
      },
      "execution_count": 17,
      "outputs": []
    },
    {
      "cell_type": "code",
      "source": [
        "plt.plot(history.history[\"loss\"])\n",
        "plt.plot(history.history[\"val_loss\"])\n",
        "plt.grid()\n",
        "plt.title(\"Model Loss\")\n",
        "plt.ylabel(\"Loss\")\n",
        "plt.xlabel(\"Epochs\")\n",
        "plt.legend([\"train\", \"validation\"])\n",
        "plt.show()"
      ],
      "metadata": {
        "colab": {
          "base_uri": "https://localhost:8080/",
          "height": 295
        },
        "id": "D-0QC92zMVbM",
        "outputId": "3f2f1e33-0854-49ff-b7fb-ca9b59a2973e"
      },
      "execution_count": 18,
      "outputs": [
        {
          "output_type": "display_data",
          "data": {
            "text/plain": [
              "<Figure size 432x288 with 1 Axes>"
            ],
            "image/png": "[encoded data removed]"
          },
          "metadata": {
            "needs_background": "light"
          }
        }
      ]
    },
    {
      "cell_type": "code",
      "source": [
        "X_test, Y_test = next(test_generator)"
      ],
      "metadata": {
        "id": "f6RSgAy7McsE"
      },
      "execution_count": 19,
      "outputs": []
    },
    {
      "cell_type": "code",
      "source": [
        "print(X_test,Y_test)"
      ],
      "metadata": {
        "colab": {
          "base_uri": "https://localhost:8080/"
        },
        "id": "SnJab0vJMfF5",
        "outputId": "8bb3107b-6d89-491f-8636-9d3bd0822dd8"
      },
      "execution_count": 20,
      "outputs": [
        {
          "output_type": "stream",
          "name": "stdout",
          "text": [
            "[[[[4.00000000e+00 4.00000000e+00 4.00000000e+00]\n",
            "   [4.00000000e+00 4.00000000e+00 4.00000000e+00]\n",
            "   [4.00000000e+00 4.00000000e+00 4.00000000e+00]\n",
            "   ...\n",
            "   [2.89439797e+00 3.63146591e+00 1.26293206e+00]\n",
            "   [2.00878596e+00 3.33626199e+00 1.34504783e+00]\n",
            "   [3.69601011e+00 4.30398989e+00 4.00000000e+00]]\n",
            "\n",
            "  [[4.00000000e+00 4.00000000e+00 4.00000000e+00]\n",
            "   [4.00000000e+00 4.00000000e+00 4.00000000e+00]\n",
            "   [4.00000000e+00 4.00000000e+00 4.00000000e+00]\n",
            "   ...\n",
            "   [2.13840675e+00 3.37946892e+00 7.58937776e-01]\n",
            "   [2.76477742e+00 3.58825922e+00 2.35303640e+00]\n",
            "   [3.44401288e+00 4.55598688e+00 4.00000000e+00]]\n",
            "\n",
            "  [[4.00000000e+00 4.00000000e+00 4.00000000e+00]\n",
            "   [4.00000000e+00 4.00000000e+00 4.00000000e+00]\n",
            "   [4.00000000e+00 4.00000000e+00 4.00000000e+00]\n",
            "   ...\n",
            "   [1.38241529e+00 3.12747169e+00 2.54943490e-01]\n",
            "   [3.52076864e+00 3.84025621e+00 3.36102486e+00]\n",
            "   [3.19201589e+00 4.80798435e+00 4.00000000e+00]]\n",
            "\n",
            "  ...\n",
            "\n",
            "  [[4.03992128e+00 1.00000000e+00 2.19201589e+00]\n",
            "   [5.75077581e+00 2.59743762e+00 3.63897514e+00]\n",
            "   [4.32658882e+01 1.39318504e+01 9.42196369e+00]\n",
            "   ...\n",
            "   [4.33824158e+01 1.60382416e+02 1.34382416e+02]\n",
            "   [4.41384048e+01 1.61138412e+02 1.35138412e+02]\n",
            "   [4.48943977e+01 1.61894394e+02 1.35894394e+02]]\n",
            "\n",
            "  [[2.77993536e+00 1.00000000e+00 2.44401288e+00]\n",
            "   [1.48226719e+01 5.11740875e+00 4.64696360e+00]\n",
            "   [5.76297264e+01 1.97277851e+01 1.42099085e+01]\n",
            "   ...\n",
            "   [4.30000000e+01 1.62520767e+02 1.35680511e+02]\n",
            "   [4.30000000e+01 1.61764771e+02 1.35176514e+02]\n",
            "   [4.30000000e+01 1.61008789e+02 1.34672531e+02]]\n",
            "\n",
            "  [[1.51994979e+00 1.00000000e+00 2.69601011e+00]\n",
            "   [2.38945694e+01 7.63738012e+00 5.65495205e+00]\n",
            "   [7.19935608e+01 2.55237179e+01 1.89978542e+01]\n",
            "   ...\n",
            "   [4.70399208e+01 1.65423950e+02 1.39231934e+02]\n",
            "   [4.57799339e+01 1.64667969e+02 1.38223953e+02]\n",
            "   [4.45199509e+01 1.63911972e+02 1.37215958e+02]]]\n",
            "\n",
            "\n",
            " [[[7.73050487e-01 1.22694945e+00 1.00000000e+00]\n",
            "   [6.48360968e-01 1.35163903e+00 1.00000000e+00]\n",
            "   [5.23671448e-01 1.47632861e+00 1.00000000e+00]\n",
            "   ...\n",
            "   [4.00000000e+00 4.00000000e+00 2.00000000e+00]\n",
            "   [3.76524639e+00 3.76524639e+00 2.23475361e+00]\n",
            "   [2.77305055e+00 3.22694945e+00 3.00000000e+00]]\n",
            "\n",
            "  [[1.00000000e+00 1.00000000e+00 1.00000000e+00]\n",
            "   [1.00000000e+00 1.00000000e+00 1.00000000e+00]\n",
            "   [1.00000000e+00 1.00000000e+00 1.00000000e+00]\n",
            "   ...\n",
            "   [4.00000000e+00 4.00000000e+00 2.00000000e+00]\n",
            "   [3.64055681e+00 3.64055681e+00 2.35944319e+00]\n",
            "   [2.64836097e+00 3.35163903e+00 3.00000000e+00]]\n",
            "\n",
            "  [[1.00000000e+00 1.00000000e+00 2.42557883e-01]\n",
            "   [1.00000000e+00 1.00000000e+00 3.67247403e-01]\n",
            "   [1.00000000e+00 1.00000000e+00 4.91936952e-01]\n",
            "   ...\n",
            "   [4.00000000e+00 4.00000000e+00 2.00000000e+00]\n",
            "   [3.51586723e+00 3.51586723e+00 2.48413277e+00]\n",
            "   [2.52367139e+00 3.47632861e+00 3.00000000e+00]]\n",
            "\n",
            "  ...\n",
            "\n",
            "  [[1.00000000e+00 1.00000000e+00 1.00000000e+00]\n",
            "   [1.00000000e+00 1.00000000e+00 1.00000000e+00]\n",
            "   [4.91936952e-01 4.91936952e-01 4.91936952e-01]\n",
            "   ...\n",
            "   [7.04758072e+01 1.43000000e+02 1.28491943e+02]\n",
            "   [7.01017456e+01 1.43000000e+02 1.28367249e+02]\n",
            "   [6.97276764e+01 1.43000000e+02 1.28242554e+02]]\n",
            "\n",
            "  [[1.00000000e+00 1.00000000e+00 1.00000000e+00]\n",
            "   [1.00000000e+00 1.00000000e+00 1.00000000e+00]\n",
            "   [3.67247403e-01 3.67247403e-01 3.67247403e-01]\n",
            "   ...\n",
            "   [7.15158691e+01 1.43000000e+02 1.29968262e+02]\n",
            "   [7.16405563e+01 1.43000000e+02 1.29718887e+02]\n",
            "   [7.17652435e+01 1.43000000e+02 1.29469513e+02]]\n",
            "\n",
            "  [[1.00000000e+00 1.00000000e+00 1.00000000e+00]\n",
            "   [1.00000000e+00 1.00000000e+00 1.00000000e+00]\n",
            "   [2.42557883e-01 2.42557883e-01 2.42557883e-01]\n",
            "   ...\n",
            "   [6.95710144e+01 1.42523666e+02 1.29094681e+02]\n",
            "   [6.99450836e+01 1.42648361e+02 1.29593445e+02]\n",
            "   [7.03191528e+01 1.42773056e+02 1.30092209e+02]]]\n",
            "\n",
            "\n",
            " [[[0.00000000e+00 4.61415768e+00 0.00000000e+00]\n",
            "   [0.00000000e+00 2.68822837e+00 0.00000000e+00]\n",
            "   [0.00000000e+00 1.11885047e+00 0.00000000e+00]\n",
            "   ...\n",
            "   [0.00000000e+00 0.00000000e+00 0.00000000e+00]\n",
            "   [0.00000000e+00 0.00000000e+00 0.00000000e+00]\n",
            "   [0.00000000e+00 0.00000000e+00 0.00000000e+00]]\n",
            "\n",
            "  [[0.00000000e+00 4.61646748e+00 1.53413042e-01]\n",
            "   [0.00000000e+00 3.22748375e+00 0.00000000e+00]\n",
            "   [0.00000000e+00 1.30155444e+00 0.00000000e+00]\n",
            "   ...\n",
            "   [0.00000000e+00 0.00000000e+00 0.00000000e+00]\n",
            "   [0.00000000e+00 0.00000000e+00 0.00000000e+00]\n",
            "   [0.00000000e+00 0.00000000e+00 0.00000000e+00]]\n",
            "\n",
            "  [[0.00000000e+00 3.26832914e+00 6.92668319e-01]\n",
            "   [0.00000000e+00 3.76673889e+00 0.00000000e+00]\n",
            "   [0.00000000e+00 1.84080970e+00 0.00000000e+00]\n",
            "   ...\n",
            "   [0.00000000e+00 0.00000000e+00 0.00000000e+00]\n",
            "   [0.00000000e+00 0.00000000e+00 0.00000000e+00]\n",
            "   [0.00000000e+00 0.00000000e+00 0.00000000e+00]]\n",
            "\n",
            "  ...\n",
            "\n",
            "  [[0.00000000e+00 0.00000000e+00 0.00000000e+00]\n",
            "   [0.00000000e+00 0.00000000e+00 0.00000000e+00]\n",
            "   [0.00000000e+00 0.00000000e+00 0.00000000e+00]\n",
            "   ...\n",
            "   [0.00000000e+00 0.00000000e+00 0.00000000e+00]\n",
            "   [0.00000000e+00 0.00000000e+00 0.00000000e+00]\n",
            "   [0.00000000e+00 0.00000000e+00 0.00000000e+00]]\n",
            "\n",
            "  [[0.00000000e+00 0.00000000e+00 0.00000000e+00]\n",
            "   [0.00000000e+00 0.00000000e+00 0.00000000e+00]\n",
            "   [0.00000000e+00 0.00000000e+00 0.00000000e+00]\n",
            "   ...\n",
            "   [0.00000000e+00 0.00000000e+00 0.00000000e+00]\n",
            "   [0.00000000e+00 0.00000000e+00 0.00000000e+00]\n",
            "   [0.00000000e+00 0.00000000e+00 0.00000000e+00]]\n",
            "\n",
            "  [[0.00000000e+00 0.00000000e+00 0.00000000e+00]\n",
            "   [0.00000000e+00 0.00000000e+00 0.00000000e+00]\n",
            "   [0.00000000e+00 0.00000000e+00 0.00000000e+00]\n",
            "   ...\n",
            "   [0.00000000e+00 0.00000000e+00 0.00000000e+00]\n",
            "   [0.00000000e+00 0.00000000e+00 0.00000000e+00]\n",
            "   [0.00000000e+00 0.00000000e+00 0.00000000e+00]]]\n",
            "\n",
            "\n",
            " ...\n",
            "\n",
            "\n",
            " [[[0.00000000e+00 0.00000000e+00 0.00000000e+00]\n",
            "   [0.00000000e+00 0.00000000e+00 0.00000000e+00]\n",
            "   [0.00000000e+00 0.00000000e+00 0.00000000e+00]\n",
            "   ...\n",
            "   [0.00000000e+00 0.00000000e+00 0.00000000e+00]\n",
            "   [0.00000000e+00 0.00000000e+00 0.00000000e+00]\n",
            "   [0.00000000e+00 0.00000000e+00 0.00000000e+00]]\n",
            "\n",
            "  [[0.00000000e+00 0.00000000e+00 0.00000000e+00]\n",
            "   [0.00000000e+00 0.00000000e+00 0.00000000e+00]\n",
            "   [0.00000000e+00 0.00000000e+00 0.00000000e+00]\n",
            "   ...\n",
            "   [0.00000000e+00 0.00000000e+00 0.00000000e+00]\n",
            "   [0.00000000e+00 0.00000000e+00 0.00000000e+00]\n",
            "   [0.00000000e+00 0.00000000e+00 0.00000000e+00]]\n",
            "\n",
            "  [[0.00000000e+00 0.00000000e+00 0.00000000e+00]\n",
            "   [0.00000000e+00 0.00000000e+00 0.00000000e+00]\n",
            "   [0.00000000e+00 0.00000000e+00 0.00000000e+00]\n",
            "   ...\n",
            "   [0.00000000e+00 0.00000000e+00 0.00000000e+00]\n",
            "   [0.00000000e+00 0.00000000e+00 0.00000000e+00]\n",
            "   [0.00000000e+00 0.00000000e+00 0.00000000e+00]]\n",
            "\n",
            "  ...\n",
            "\n",
            "  [[0.00000000e+00 0.00000000e+00 1.87077439e+00]\n",
            "   [0.00000000e+00 0.00000000e+00 1.21069026e+00]\n",
            "   [0.00000000e+00 0.00000000e+00 5.50606132e-01]\n",
            "   ...\n",
            "   [1.97493942e+02 1.04595154e+02 3.86518173e+01]\n",
            "   [2.13029953e+02 1.13680641e+02 3.96746521e+01]\n",
            "   [1.89206421e+02 1.04972672e+02 4.83515511e+01]]\n",
            "\n",
            "  [[0.00000000e+00 0.00000000e+00 0.00000000e+00]\n",
            "   [0.00000000e+00 0.00000000e+00 0.00000000e+00]\n",
            "   [0.00000000e+00 0.00000000e+00 0.00000000e+00]\n",
            "   ...\n",
            "   [1.90893097e+02 9.93144760e+01 4.06320724e+01]\n",
            "   [2.08079315e+02 1.11370346e+02 3.83544846e+01]\n",
            "   [2.04718399e+02 1.10913429e+02 4.43910484e+01]]\n",
            "\n",
            "  [[0.00000000e+00 0.00000000e+00 0.00000000e+00]\n",
            "   [0.00000000e+00 0.00000000e+00 0.00000000e+00]\n",
            "   [0.00000000e+00 0.00000000e+00 0.00000000e+00]\n",
            "   ...\n",
            "   [1.84292252e+02 9.40338058e+01 4.26123238e+01]\n",
            "   [2.03128693e+02 1.09060051e+02 3.70343170e+01]\n",
            "   [2.17288177e+02 1.15667816e+02 4.08101807e+01]]]\n",
            "\n",
            "\n",
            " [[[3.00000000e+00 3.00000000e+00 3.00000000e+00]\n",
            "   [3.00000000e+00 3.00000000e+00 2.00282431e+00]\n",
            "   [3.49588037e+00 3.49588037e+00 2.48764086e+00]\n",
            "   ...\n",
            "   [1.00000000e+00 1.00000000e+00 1.00000000e+00]\n",
            "   [1.00000000e+00 1.00000000e+00 1.00000000e+00]\n",
            "   [1.00000000e+00 1.00000000e+00 1.00000000e+00]]\n",
            "\n",
            "  [[3.00000000e+00 3.00000000e+00 3.00000000e+00]\n",
            "   [3.00000000e+00 3.00000000e+00 2.14989877e+00]\n",
            "   [3.42234302e+00 3.42234302e+00 2.26702905e+00]\n",
            "   ...\n",
            "   [1.00000000e+00 1.00000000e+00 1.00000000e+00]\n",
            "   [1.00000000e+00 1.00000000e+00 1.00000000e+00]\n",
            "   [1.00000000e+00 1.00000000e+00 1.00000000e+00]]\n",
            "\n",
            "  [[3.00000000e+00 3.00000000e+00 3.00000000e+00]\n",
            "   [3.00000000e+00 3.00000000e+00 2.29697347e+00]\n",
            "   [3.34880567e+00 3.34880567e+00 2.04641724e+00]\n",
            "   ...\n",
            "   [1.00000000e+00 1.00000000e+00 1.00000000e+00]\n",
            "   [1.00000000e+00 1.00000000e+00 1.00000000e+00]\n",
            "   [1.00000000e+00 1.00000000e+00 1.00000000e+00]]\n",
            "\n",
            "  ...\n",
            "\n",
            "  [[6.94958801e+01 1.45008240e+02 1.29504120e+02]\n",
            "   [6.94223404e+01 1.45155319e+02 1.29577652e+02]\n",
            "   [6.93488083e+01 1.45302383e+02 1.29651199e+02]\n",
            "   ...\n",
            "   [1.65119421e+00 1.65119421e+00 2.34880567e+00]\n",
            "   [2.00000000e+00 2.00000000e+00 2.00000000e+00]\n",
            "   [2.00000000e+00 2.00000000e+00 7.08441675e-01]]\n",
            "\n",
            "  [[6.95014114e+01 1.44997177e+02 1.28495758e+02]\n",
            "   [6.95749512e+01 1.44850098e+02 1.28275146e+02]\n",
            "   [6.96484833e+01 1.44703033e+02 1.28054535e+02]\n",
            "   ...\n",
            "   [1.57765698e+00 1.57765698e+00 2.42234302e+00]\n",
            "   [2.00000000e+00 2.00000000e+00 2.00000000e+00]\n",
            "   [2.00000000e+00 2.00000000e+00 8.55516195e-01]]\n",
            "\n",
            "  [[6.90025940e+01 1.43002594e+02 1.27000000e+02]\n",
            "   [6.88555145e+01 1.42855515e+02 1.27000000e+02]\n",
            "   [6.87084427e+01 1.42708435e+02 1.27000000e+02]\n",
            "   ...\n",
            "   [1.50411963e+00 1.50411963e+00 2.49588037e+00]\n",
            "   [2.00000000e+00 2.00000000e+00 2.00000000e+00]\n",
            "   [2.00000000e+00 2.00000000e+00 1.00259078e+00]]]\n",
            "\n",
            "\n",
            " [[[3.13847065e+00 3.13847065e+00 3.13847065e+00]\n",
            "   [3.00000000e+00 3.00000000e+00 3.00000000e+00]\n",
            "   [3.00000000e+00 3.00000000e+00 3.00000000e+00]\n",
            "   ...\n",
            "   [3.00000000e+00 3.00000000e+00 1.22101712e+00]\n",
            "   [3.87551045e+00 3.87551045e+00 1.87551045e+00]\n",
            "   [4.00000000e+00 4.00000000e+00 2.00000000e+00]]\n",
            "\n",
            "  [[3.87551045e+00 3.87551045e+00 3.62653136e+00]\n",
            "   [3.95785642e+00 3.95785642e+00 3.95785642e+00]\n",
            "   [3.79122353e+00 3.79122353e+00 3.79122353e+00]\n",
            "   ...\n",
            "   [3.05612445e+00 3.05612445e+00 1.05612457e+00]\n",
            "   [4.00000000e+00 4.00000000e+00 2.00000000e+00]\n",
            "   [3.97183752e+00 3.97183752e+00 1.97183752e+00]]\n",
            "\n",
            "  [[3.00000000e+00 3.00000000e+00 1.00000000e+00]\n",
            "   [3.05612445e+00 3.05612445e+00 1.16837358e+00]\n",
            "   [3.22275758e+00 3.22275758e+00 1.66827273e+00]\n",
            "   ...\n",
            "   [3.22275758e+00 3.22275758e+00 1.22275758e+00]\n",
            "   [4.00000000e+00 4.00000000e+00 2.00000000e+00]\n",
            "   [3.80520439e+00 3.80520439e+00 1.80520451e+00]]\n",
            "\n",
            "  ...\n",
            "\n",
            "  [[1.00000000e+00 1.00000000e+00 8.05204451e-01]\n",
            "   [1.00000000e+00 1.00000000e+00 2.08776563e-01]\n",
            "   [1.00000000e+00 1.00000000e+00 0.00000000e+00]\n",
            "   ...\n",
            "   [1.44551516e+00 1.44551516e+00 6.68272734e-01]\n",
            "   [1.11224902e+00 1.11224902e+00 1.68373555e-01]\n",
            "   [1.11050856e+00 1.11050856e+00 2.21017092e-01]]\n",
            "\n",
            "  [[1.00000000e+00 1.00000000e+00 9.71837521e-01]\n",
            "   [1.00000000e+00 1.00000000e+00 4.21434939e-02]\n",
            "   [1.00000000e+00 1.00000000e+00 0.00000000e+00]\n",
            "   ...\n",
            "   [3.00000000e+00 3.00000000e+00 2.58244681e+00]\n",
            "   [3.00000000e+00 3.00000000e+00 2.91571307e+00]\n",
            "   [2.75102091e+00 2.75102091e+00 2.62653136e+00]]\n",
            "\n",
            "  [[1.00000000e+00 1.00000000e+00 8.61529410e-01]\n",
            "   [1.00000000e+00 1.00000000e+00 0.00000000e+00]\n",
            "   [1.11050856e+00 1.11050856e+00 0.00000000e+00]\n",
            "   ...\n",
            "   [2.80520439e+00 2.80520439e+00 1.19479549e+00]\n",
            "   [2.97183752e+00 2.97183752e+00 1.02816248e+00]\n",
            "   [3.00000000e+00 3.00000000e+00 1.27694118e+00]]]] [[0. 0. 0. 0. 0. 0. 0. 0. 0. 0. 0. 1. 0. 0.]\n",
            " [0. 0. 0. 1. 0. 0. 0. 0. 0. 0. 0. 0. 0. 0.]\n",
            " [0. 0. 0. 0. 0. 0. 1. 0. 0. 0. 0. 0. 0. 0.]\n",
            " [0. 0. 0. 0. 0. 0. 1. 0. 0. 0. 0. 0. 0. 0.]\n",
            " [0. 0. 0. 0. 0. 0. 0. 0. 0. 0. 0. 1. 0. 0.]\n",
            " [0. 0. 0. 0. 0. 0. 0. 0. 0. 0. 0. 0. 0. 1.]\n",
            " [1. 0. 0. 0. 0. 0. 0. 0. 0. 0. 0. 0. 0. 0.]\n",
            " [0. 0. 0. 0. 0. 0. 1. 0. 0. 0. 0. 0. 0. 0.]\n",
            " [0. 0. 0. 0. 0. 0. 1. 0. 0. 0. 0. 0. 0. 0.]\n",
            " [0. 0. 0. 0. 1. 0. 0. 0. 0. 0. 0. 0. 0. 0.]\n",
            " [0. 0. 0. 0. 1. 0. 0. 0. 0. 0. 0. 0. 0. 0.]\n",
            " [0. 0. 0. 0. 0. 0. 0. 0. 0. 0. 0. 1. 0. 0.]\n",
            " [0. 0. 0. 0. 0. 0. 1. 0. 0. 0. 0. 0. 0. 0.]\n",
            " [0. 0. 0. 0. 0. 0. 0. 0. 0. 1. 0. 0. 0. 0.]\n",
            " [0. 1. 0. 0. 0. 0. 0. 0. 0. 0. 0. 0. 0. 0.]\n",
            " [0. 0. 0. 0. 0. 0. 0. 0. 1. 0. 0. 0. 0. 0.]\n",
            " [0. 0. 1. 0. 0. 0. 0. 0. 0. 0. 0. 0. 0. 0.]\n",
            " [1. 0. 0. 0. 0. 0. 0. 0. 0. 0. 0. 0. 0. 0.]\n",
            " [0. 0. 1. 0. 0. 0. 0. 0. 0. 0. 0. 0. 0. 0.]\n",
            " [0. 0. 0. 0. 1. 0. 0. 0. 0. 0. 0. 0. 0. 0.]\n",
            " [0. 0. 0. 0. 0. 0. 0. 1. 0. 0. 0. 0. 0. 0.]\n",
            " [0. 0. 0. 0. 0. 0. 0. 1. 0. 0. 0. 0. 0. 0.]\n",
            " [0. 0. 0. 0. 0. 0. 1. 0. 0. 0. 0. 0. 0. 0.]\n",
            " [0. 0. 0. 1. 0. 0. 0. 0. 0. 0. 0. 0. 0. 0.]\n",
            " [0. 1. 0. 0. 0. 0. 0. 0. 0. 0. 0. 0. 0. 0.]\n",
            " [0. 1. 0. 0. 0. 0. 0. 0. 0. 0. 0. 0. 0. 0.]\n",
            " [0. 0. 0. 0. 0. 0. 0. 1. 0. 0. 0. 0. 0. 0.]\n",
            " [0. 0. 1. 0. 0. 0. 0. 0. 0. 0. 0. 0. 0. 0.]\n",
            " [0. 1. 0. 0. 0. 0. 0. 0. 0. 0. 0. 0. 0. 0.]\n",
            " [0. 0. 0. 0. 0. 0. 1. 0. 0. 0. 0. 0. 0. 0.]\n",
            " [0. 0. 1. 0. 0. 0. 0. 0. 0. 0. 0. 0. 0. 0.]\n",
            " [0. 0. 0. 0. 1. 0. 0. 0. 0. 0. 0. 0. 0. 0.]]\n"
          ]
        }
      ]
    },
    {
      "cell_type": "code",
      "source": [
        "y_true=[]\n",
        "for i in range(len(Y_test)):\n",
        "    K= Y_test[i]\n",
        "    \n",
        "    y_true.append(list(K).index(max(list(K))))"
      ],
      "metadata": {
        "id": "5FtY5IFSx4Hb"
      },
      "execution_count": 21,
      "outputs": []
    },
    {
      "cell_type": "code",
      "source": [
        "print(y_true)"
      ],
      "metadata": {
        "colab": {
          "base_uri": "https://localhost:8080/"
        },
        "id": "1Roy8LKix_OM",
        "outputId": "4d383152-2eba-40ae-dfcf-473a722433fb"
      },
      "execution_count": 22,
      "outputs": [
        {
          "output_type": "stream",
          "name": "stdout",
          "text": [
            "[11, 3, 6, 6, 11, 13, 0, 6, 6, 4, 4, 11, 6, 9, 1, 8, 2, 0, 2, 4, 7, 7, 6, 3, 1, 1, 7, 2, 1, 6, 2, 4]\n"
          ]
        }
      ]
    },
    {
      "cell_type": "code",
      "source": [
        "M = resnet_101_model.predict(X_test)\n",
        "X_t=[]\n",
        "for i in range(len(M)):\n",
        "    K= M[i]\n",
        "    X_t.append(list(K).index(max(list(K))))"
      ],
      "metadata": {
        "id": "jbKxhRrGyDnE",
        "colab": {
          "base_uri": "https://localhost:8080/"
        },
        "outputId": "524c1bd9-52cc-4290-8185-127595ea0cb2"
      },
      "execution_count": 23,
      "outputs": [
        {
          "output_type": "stream",
          "name": "stdout",
          "text": [
            "1/1 [==============================] - 12s 12s/step\n"
          ]
        }
      ]
    },
    {
      "cell_type": "code",
      "source": [
        "print(X_t)"
      ],
      "metadata": {
        "colab": {
          "base_uri": "https://localhost:8080/"
        },
        "id": "sWqG4FlRyMaD",
        "outputId": "7550271e-c7cf-4bc0-fbc4-7beaaf51f138"
      },
      "execution_count": 24,
      "outputs": [
        {
          "output_type": "stream",
          "name": "stdout",
          "text": [
            "[11, 3, 6, 6, 11, 11, 0, 6, 6, 4, 4, 11, 6, 11, 1, 11, 2, 0, 2, 4, 7, 7, 6, 3, 1, 1, 7, 2, 1, 6, 2, 4]\n"
          ]
        }
      ]
    },
    {
      "cell_type": "code",
      "source": [
        "print(classification_report(y_true, X_t, zero_division = 0))"
      ],
      "metadata": {
        "id": "iDCGi_RAySaM",
        "outputId": "75708d58-ac48-4687-dfff-c576a4ffd381",
        "colab": {
          "base_uri": "https://localhost:8080/"
        }
      },
      "execution_count": 25,
      "outputs": [
        {
          "output_type": "stream",
          "name": "stdout",
          "text": [
            "              precision    recall  f1-score   support\n",
            "\n",
            "           0       1.00      1.00      1.00         2\n",
            "           1       1.00      1.00      1.00         4\n",
            "           2       1.00      1.00      1.00         4\n",
            "           3       1.00      1.00      1.00         2\n",
            "           4       1.00      1.00      1.00         4\n",
            "           6       1.00      1.00      1.00         7\n",
            "           7       1.00      1.00      1.00         3\n",
            "           8       0.00      0.00      0.00         1\n",
            "           9       0.00      0.00      0.00         1\n",
            "          11       0.50      1.00      0.67         3\n",
            "          13       0.00      0.00      0.00         1\n",
            "\n",
            "    accuracy                           0.91        32\n",
            "   macro avg       0.68      0.73      0.70        32\n",
            "weighted avg       0.86      0.91      0.88        32\n",
            "\n"
          ]
        }
      ]
    },
    {
      "cell_type": "code",
      "source": [
        "print(confusion_matrix(y_true,X_t))"
      ],
      "metadata": {
        "id": "NwmPJLsuyVHe",
        "outputId": "4f3f4703-cb6e-4707-8010-5710fe8ee18d",
        "colab": {
          "base_uri": "https://localhost:8080/"
        }
      },
      "execution_count": 26,
      "outputs": [
        {
          "output_type": "stream",
          "name": "stdout",
          "text": [
            "[[2 0 0 0 0 0 0 0 0 0 0]\n",
            " [0 4 0 0 0 0 0 0 0 0 0]\n",
            " [0 0 4 0 0 0 0 0 0 0 0]\n",
            " [0 0 0 2 0 0 0 0 0 0 0]\n",
            " [0 0 0 0 4 0 0 0 0 0 0]\n",
            " [0 0 0 0 0 7 0 0 0 0 0]\n",
            " [0 0 0 0 0 0 3 0 0 0 0]\n",
            " [0 0 0 0 0 0 0 0 0 1 0]\n",
            " [0 0 0 0 0 0 0 0 0 1 0]\n",
            " [0 0 0 0 0 0 0 0 0 3 0]\n",
            " [0 0 0 0 0 0 0 0 0 1 0]]\n"
          ]
        }
      ]
    },
    {
      "cell_type": "code",
      "source": [],
      "metadata": {
        "id": "FJVOeLTHFz8X"
      },
      "execution_count": null,
      "outputs": []
    }
  ]
}