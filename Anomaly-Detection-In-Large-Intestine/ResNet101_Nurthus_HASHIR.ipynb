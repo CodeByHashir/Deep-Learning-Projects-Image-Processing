{
  "cells": [
    {
      "cell_type": "code",
      "execution_count": 4,
      "metadata": {
        "id": "foaZFqzIFCr4"
      },
      "outputs": [],
      "source": [
        "# import pertinent libraries\n",
        "import os\n",
        "import datetime\n",
        "import glob as glob\n",
        "import numpy as np\n",
        "from keras.models import Model\n",
        "from keras.layers import Input, add, Add, Dense, Activation, ZeroPadding2D, BatchNormalization, Flatten, Conv2D, AveragePooling2D, MaxPooling2D, GlobalMaxPooling2D,MaxPool2D, Dropout\n",
        "from keras.preprocessing.image import ImageDataGenerator\n",
        "from tensorflow import keras\n",
        "import tensorflow as tf\n",
        "import matplotlib.pyplot as plt\n",
        "from sklearn.metrics import classification_report, confusion_matrix\n",
        "from tensorflow.keras.optimizers import Adam\n",
        "from tensorflow.keras.callbacks import EarlyStopping\n",
        "from keras.models import Sequential"
      ]
    },
    {
      "cell_type": "code",
      "execution_count": 1,
      "metadata": {
        "colab": {
          "base_uri": "https://localhost:8080/"
        },
        "id": "f9g6m9lpCv2O",
        "outputId": "bca989d0-9eca-4703-ca1c-650c01b7d3f4"
      },
      "outputs": [
        {
          "name": "stdout",
          "output_type": "stream",
          "text": [
            "Mounted at /content/drive\n"
          ]
        }
      ],
      "source": [
        "from google.colab import drive\n",
        "drive.mount('/content/drive')"
      ]
    },
    {
      "cell_type": "code",
      "execution_count": 5,
      "metadata": {
        "id": "x1L-iqLTFtx7"
      },
      "outputs": [],
      "source": [
        "img_width, img_height = 224, 224\n",
        "\n",
        "train_dir = '/content/drive/MyDrive/Data_Sets_of_abnormality_in_large_intestine/nerthus_dataset/train'\n",
        "validate_dir = '/content/drive/MyDrive/Data_Sets_of_abnormality_in_large_intestine/nerthus_dataset/val'\n",
        "test_dir = '/content/drive/MyDrive/Data_Sets_of_abnormality_in_large_intestine/nerthus_dataset/test'\n",
        "nb_epochs = 10\n",
        "batch_size = 32\n",
        "nb_classes = len(glob.glob(train_dir + '/*'))\n",
        "\n",
        "# get number of images in training directory\n",
        "nb_train_samples = 0\n",
        "for r, dirs, files in os.walk(train_dir):\n",
        "    for dr in dirs:\n",
        "        nb_train_samples += len(glob.glob(os.path.join(r, dr + \"/*\")))\n",
        "# get number of images in validation directory\n",
        "nb_validate_samples = 0\n",
        "for r, dirs, files in os.walk(validate_dir):\n",
        "    for dr in dirs:\n",
        "        nb_validate_samples += len(glob.glob(os.path.join(r, dr + \"/*\")))\n",
        "# get the number of images in test directory\n",
        "nb_test_samples = 0\n",
        "for r, dirs, files in os.walk(test_dir):\n",
        "    for dr in dirs:\n",
        "        nb_test_samples += len(glob.glob(os.path.join(r, dr + \"/*\")))"
      ]
    },
    {
      "cell_type": "code",
      "execution_count": 6,
      "metadata": {
        "colab": {
          "base_uri": "https://localhost:8080/"
        },
        "id": "nhXU9_bEFz4w",
        "outputId": "e81aafb5-99ab-4b42-dc21-269abb4db119"
      },
      "outputs": [
        {
          "name": "stdout",
          "output_type": "stream",
          "text": [
            "4\n"
          ]
        }
      ],
      "source": [
        "print(nb_classes)"
      ]
    },
    {
      "cell_type": "code",
      "execution_count": 7,
      "metadata": {
        "id": "T8F5x-hQF2U8"
      },
      "outputs": [],
      "source": [
        "# Data preprocessing for training\n",
        "train_datagen =  ImageDataGenerator(\n",
        "    rotation_range = 20,\n",
        "    fill_mode = 'nearest',\n",
        "    horizontal_flip = True)"
      ]
    },
    {
      "cell_type": "code",
      "execution_count": 8,
      "metadata": {
        "id": "Aza66pLBF5TE"
      },
      "outputs": [],
      "source": [
        "# data pre-processing for validation\n",
        "validate_datagen =  ImageDataGenerator(\n",
        "    rotation_range = 20,\n",
        "    fill_mode = 'nearest',\n",
        "    horizontal_flip = True)"
      ]
    },
    {
      "cell_type": "code",
      "execution_count": 9,
      "metadata": {
        "id": "UgqJcemKqPu3"
      },
      "outputs": [],
      "source": [
        "# data pre-processing for testing\n",
        "test_datagen =  ImageDataGenerator(\n",
        "    rotation_range = 20,\n",
        "    fill_mode = 'nearest',\n",
        "    horizontal_flip = True)"
      ]
    },
    {
      "cell_type": "code",
      "execution_count": 10,
      "metadata": {
        "colab": {
          "base_uri": "https://localhost:8080/"
        },
        "id": "KxXG3-9TqSuo",
        "outputId": "5954c33e-3a99-4e38-9b6d-f773d264ea52"
      },
      "outputs": [
        {
          "name": "stdout",
          "output_type": "stream",
          "text": [
            "Found 4420 images belonging to 4 classes.\n"
          ]
        }
      ],
      "source": [
        "# generate and store training data\n",
        "train_generator = train_datagen.flow_from_directory(\n",
        "    train_dir,\n",
        "    target_size = (img_width, img_height),\n",
        "    batch_size = batch_size)"
      ]
    },
    {
      "cell_type": "code",
      "execution_count": 11,
      "metadata": {
        "colab": {
          "base_uri": "https://localhost:8080/"
        },
        "id": "OxKvxb6RqVvm",
        "outputId": "3bd50291-f415-4ff1-d4b9-aa0710a41fe6"
      },
      "outputs": [
        {
          "name": "stdout",
          "output_type": "stream",
          "text": [
            "Found 552 images belonging to 4 classes.\n"
          ]
        }
      ],
      "source": [
        "# generate and store validation data\n",
        "validate_generator = validate_datagen.flow_from_directory(\n",
        "    validate_dir,\n",
        "    target_size = (img_width, img_height),\n",
        "    batch_size = batch_size)"
      ]
    },
    {
      "cell_type": "code",
      "execution_count": 12,
      "metadata": {
        "colab": {
          "base_uri": "https://localhost:8080/"
        },
        "id": "VsAdPiKMqYxr",
        "outputId": "87201fb5-8a17-45a2-9177-ffe7a65bb5c0"
      },
      "outputs": [
        {
          "name": "stdout",
          "output_type": "stream",
          "text": [
            "Found 553 images belonging to 4 classes.\n"
          ]
        }
      ],
      "source": [
        "# generate and store test data\n",
        "test_generator = validate_datagen.flow_from_directory(\n",
        "    test_dir,\n",
        "    target_size = (img_width, img_height),\n",
        "    batch_size = batch_size)"
      ]
    },
    {
      "cell_type": "code",
      "execution_count": 13,
      "metadata": {
        "colab": {
          "base_uri": "https://localhost:8080/"
        },
        "id": "6Vs8IDMuel-n",
        "outputId": "e1b2f99d-3595-42fa-a3bc-4098c270da44"
      },
      "outputs": [
        {
          "name": "stdout",
          "output_type": "stream",
          "text": [
            "Downloading data from https://storage.googleapis.com/tensorflow/keras-applications/resnet/resnet101_weights_tf_dim_ordering_tf_kernels_notop.h5\n",
            "171446536/171446536 [==============================] - 2s 0us/step\n"
          ]
        }
      ],
      "source": [
        "# building model\n",
        "resnet_101_model = Sequential()\n",
        "\n",
        "pretrained_model= tf.keras.applications.ResNet101(include_top=False,\n",
        "                   input_shape=(224,224,3),\n",
        "                   pooling='avg',classes=8,\n",
        "                   weights='imagenet')\n",
        "for layer in pretrained_model.layers:\n",
        "        layer.trainable=False\n",
        "\n",
        "resnet_101_model.add(pretrained_model)\n",
        "resnet_101_model.add(Flatten())\n",
        "resnet_101_model.add(Dense(512, activation='relu'))\n",
        "resnet_101_model.add(Dropout(0.5))\n",
        "resnet_101_model.add(Dense(4, activation='softmax'))"
      ]
    },
    {
      "cell_type": "code",
      "execution_count": 14,
      "metadata": {
        "id": "YjB1bQPHGHcm"
      },
      "outputs": [],
      "source": [
        "resnet_101_model.compile(Adam(learning_rate = 0.0001), loss = 'categorical_crossentropy', metrics = ['accuracy'])"
      ]
    },
    {
      "cell_type": "code",
      "execution_count": 15,
      "metadata": {
        "colab": {
          "base_uri": "https://localhost:8080/"
        },
        "id": "6JhYKBuSGJ7t",
        "outputId": "14f1a454-aa8a-456f-c67c-a68ea62d10bf"
      },
      "outputs": [
        {
          "name": "stdout",
          "output_type": "stream",
          "text": [
            "Model: \"sequential\"\n",
            "_________________________________________________________________\n",
            " Layer (type)                Output Shape              Param #   \n",
            "=================================================================\n",
            " resnet101 (Functional)      (None, 2048)              42658176  \n",
            "                                                                 \n",
            " flatten (Flatten)           (None, 2048)              0         \n",
            "                                                                 \n",
            " dense (Dense)               (None, 512)               1049088   \n",
            "                                                                 \n",
            " dropout (Dropout)           (None, 512)               0         \n",
            "                                                                 \n",
            " dense_1 (Dense)             (None, 4)                 2052      \n",
            "                                                                 \n",
            "=================================================================\n",
            "Total params: 43,709,316\n",
            "Trainable params: 1,051,140\n",
            "Non-trainable params: 42,658,176\n",
            "_________________________________________________________________\n"
          ]
        }
      ],
      "source": [
        "resnet_101_model.summary()"
      ]
    },
    {
      "cell_type": "code",
      "execution_count": 16,
      "metadata": {
        "colab": {
          "base_uri": "https://localhost:8080/"
        },
        "id": "ZTXJi9c2Gen8",
        "outputId": "0a26bbde-e109-4b7a-9456-905f8d4828c5"
      },
      "outputs": [
        {
          "name": "stderr",
          "output_type": "stream",
          "text": [
            "<ipython-input-16-287188d3be17>:4: UserWarning: `Model.fit_generator` is deprecated and will be removed in a future version. Please use `Model.fit`, which supports generators.\n",
            "  history = resnet_101_model.fit_generator(\n"
          ]
        },
        {
          "name": "stdout",
          "output_type": "stream",
          "text": [
            "Epoch 1/10\n",
            "138/138 [==============================] - 1585s 11s/step - loss: 0.5163 - accuracy: 0.8079 - val_loss: 0.1757 - val_accuracy: 0.9559\n",
            "Epoch 2/10\n",
            "138/138 [==============================] - 1504s 11s/step - loss: 0.1625 - accuracy: 0.9524 - val_loss: 0.0973 - val_accuracy: 0.9761\n",
            "Epoch 3/10\n",
            "138/138 [==============================] - 1517s 11s/step - loss: 0.1077 - accuracy: 0.9711 - val_loss: 0.0710 - val_accuracy: 0.9871\n",
            "Epoch 4/10\n",
            "138/138 [==============================] - 1513s 11s/step - loss: 0.0745 - accuracy: 0.9811 - val_loss: 0.0571 - val_accuracy: 0.9853\n",
            "Epoch 5/10\n",
            "138/138 [==============================] - 1504s 11s/step - loss: 0.0559 - accuracy: 0.9861 - val_loss: 0.0509 - val_accuracy: 0.9853\n",
            "Epoch 6/10\n",
            "138/138 [==============================] - 1512s 11s/step - loss: 0.0451 - accuracy: 0.9886 - val_loss: 0.0432 - val_accuracy: 0.9890\n",
            "Epoch 7/10\n",
            "138/138 [==============================] - 1507s 11s/step - loss: 0.0393 - accuracy: 0.9907 - val_loss: 0.0366 - val_accuracy: 0.9926\n",
            "Epoch 8/10\n",
            "138/138 [==============================] - 1505s 11s/step - loss: 0.0318 - accuracy: 0.9929 - val_loss: 0.0291 - val_accuracy: 0.9945\n",
            "Epoch 9/10\n",
            "138/138 [==============================] - 1504s 11s/step - loss: 0.0268 - accuracy: 0.9945 - val_loss: 0.0249 - val_accuracy: 0.9908\n",
            "Epoch 10/10\n",
            "138/138 [==============================] - 1514s 11s/step - loss: 0.0250 - accuracy: 0.9945 - val_loss: 0.0255 - val_accuracy: 0.9945\n",
            "Training time: 4:13:45.342553\n"
          ]
        }
      ],
      "source": [
        "# fit the model, log the results and the training time\n",
        "now = datetime.datetime.now\n",
        "t = now()\n",
        "history = resnet_101_model.fit_generator(\n",
        "    train_generator,\n",
        "    epochs = nb_epochs,\n",
        "    steps_per_epoch = nb_train_samples//batch_size,\n",
        "    validation_data = validate_generator,\n",
        "    validation_steps = nb_validate_samples//batch_size)\n",
        "print('Training time: %s' % (now() - t))"
      ]
    },
    {
      "cell_type": "code",
      "execution_count": 17,
      "metadata": {
        "id": "C52fCc3ZF-H1"
      },
      "outputs": [],
      "source": [
        "model = resnet_101_model.save(\"ResNet101_Nurthus_Dataset.h5\")"
      ]
    },
    {
      "cell_type": "code",
      "execution_count": 18,
      "metadata": {
        "id": "kZ9F8oK3GBhF"
      },
      "outputs": [],
      "source": [
        "from keras import models\n",
        "model = models.load_model(\"ResNet101_Nurthus_Dataset.h5\")"
      ]
    },
    {
      "cell_type": "code",
      "execution_count": 19,
      "metadata": {
        "colab": {
          "base_uri": "https://localhost:8080/",
          "height": 295
        },
        "id": "D-0QC92zMVbM",
        "outputId": "de76f36e-beb5-4d5c-f9cf-dade9ead6222"
      },
      "outputs": [
        {
          "data": {
            "image/png": "[encoded data removed]",
            "text/plain": [
              "<Figure size 432x288 with 1 Axes>"
            ]
          },
          "metadata": {
            "needs_background": "light"
          },
          "output_type": "display_data"
        }
      ],
      "source": [
        "plt.plot(history.history[\"loss\"])\n",
        "plt.plot(history.history[\"val_loss\"])\n",
        "plt.grid()\n",
        "plt.title(\"Model Loss\")\n",
        "plt.ylabel(\"Loss\")\n",
        "plt.xlabel(\"Epochs\")\n",
        "plt.legend([\"train\", \"validation\"])\n",
        "plt.show()"
      ]
    },
    {
      "cell_type": "code",
      "execution_count": 20,
      "metadata": {
        "id": "f6RSgAy7McsE"
      },
      "outputs": [],
      "source": [
        "X_test, Y_test = next(test_generator)"
      ]
    },
    {
      "cell_type": "code",
      "execution_count": null,
      "metadata": {
        "colab": {
          "base_uri": "https://localhost:8080/"
        },
        "id": "SnJab0vJMfF5",
        "outputId": "d7f41199-d7c5-4f90-e77e-372567ffadb3"
      },
      "outputs": [],
      "source": [
        "print(X_test,Y_test)"
      ]
    },
    {
      "cell_type": "code",
      "execution_count": 22,
      "metadata": {
        "id": "5FtY5IFSx4Hb"
      },
      "outputs": [],
      "source": [
        "y_true=[]\n",
        "for i in range(len(Y_test)):\n",
        "    K= Y_test[i]\n",
        "    \n",
        "    y_true.append(list(K).index(max(list(K))))"
      ]
    },
    {
      "cell_type": "code",
      "execution_count": 23,
      "metadata": {
        "colab": {
          "base_uri": "https://localhost:8080/"
        },
        "id": "1Roy8LKix_OM",
        "outputId": "8fa9d1b6-f7a5-4654-a88c-b73fb3018307"
      },
      "outputs": [
        {
          "name": "stdout",
          "output_type": "stream",
          "text": [
            "[1, 3, 1, 3, 1, 1, 1, 0, 3, 1, 1, 0, 1, 2, 1, 3, 3, 2, 1, 1, 2, 3, 0, 0, 1, 3, 3, 2, 1, 2, 2, 3]\n"
          ]
        }
      ],
      "source": [
        "print(y_true)"
      ]
    },
    {
      "cell_type": "code",
      "execution_count": 24,
      "metadata": {
        "colab": {
          "base_uri": "https://localhost:8080/"
        },
        "id": "jbKxhRrGyDnE",
        "outputId": "2494e10d-013d-4ae0-8fbd-0b027e10f4a2"
      },
      "outputs": [
        {
          "name": "stdout",
          "output_type": "stream",
          "text": [
            "1/1 [==============================] - 11s 11s/step\n"
          ]
        }
      ],
      "source": [
        "M = resnet_101_model.predict(X_test)\n",
        "X_t=[]\n",
        "for i in range(len(M)):\n",
        "    K= M[i]\n",
        "    X_t.append(list(K).index(max(list(K))))"
      ]
    },
    {
      "cell_type": "code",
      "execution_count": 25,
      "metadata": {
        "colab": {
          "base_uri": "https://localhost:8080/"
        },
        "id": "sWqG4FlRyMaD",
        "outputId": "296c5b2a-a73e-43c9-dcbd-46c27e340f6d"
      },
      "outputs": [
        {
          "name": "stdout",
          "output_type": "stream",
          "text": [
            "[1, 3, 1, 3, 1, 1, 1, 0, 3, 1, 1, 0, 1, 2, 1, 3, 3, 2, 1, 1, 2, 3, 0, 2, 1, 3, 3, 2, 1, 2, 2, 3]\n"
          ]
        }
      ],
      "source": [
        "print(X_t)"
      ]
    },
    {
      "cell_type": "code",
      "execution_count": 26,
      "metadata": {
        "colab": {
          "base_uri": "https://localhost:8080/"
        },
        "id": "iDCGi_RAySaM",
        "outputId": "98f5e865-2bd9-46ee-bc9b-f759ec0c346a"
      },
      "outputs": [
        {
          "name": "stdout",
          "output_type": "stream",
          "text": [
            "              precision    recall  f1-score   support\n",
            "\n",
            "           0       1.00      0.75      0.86         4\n",
            "           1       1.00      1.00      1.00        13\n",
            "           2       0.86      1.00      0.92         6\n",
            "           3       1.00      1.00      1.00         9\n",
            "\n",
            "    accuracy                           0.97        32\n",
            "   macro avg       0.96      0.94      0.95        32\n",
            "weighted avg       0.97      0.97      0.97        32\n",
            "\n"
          ]
        }
      ],
      "source": [
        "print(classification_report(y_true, X_t, zero_division = 0))"
      ]
    },
    {
      "cell_type": "code",
      "execution_count": 27,
      "metadata": {
        "colab": {
          "base_uri": "https://localhost:8080/"
        },
        "id": "NwmPJLsuyVHe",
        "outputId": "497ecdfd-df2e-474e-9c78-e34e82c3842a"
      },
      "outputs": [
        {
          "name": "stdout",
          "output_type": "stream",
          "text": [
            "[[ 3  0  1  0]\n",
            " [ 0 13  0  0]\n",
            " [ 0  0  6  0]\n",
            " [ 0  0  0  9]]\n"
          ]
        }
      ],
      "source": [
        "print(confusion_matrix(y_true,X_t))"
      ]
    },
    {
      "cell_type": "code",
      "execution_count": null,
      "metadata": {
        "id": "FJVOeLTHFz8X"
      },
      "outputs": [],
      "source": []
    }
  ],
  "metadata": {
    "accelerator": "GPU",
    "colab": {
      "provenance": []
    },
    "kernelspec": {
      "display_name": "Python 3",
      "name": "python3"
    },
    "language_info": {
      "name": "python"
    }
  },
  "nbformat": 4,
  "nbformat_minor": 0
}
