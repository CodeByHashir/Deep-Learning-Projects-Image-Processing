{
  "nbformat": 4,
  "nbformat_minor": 0,
  "metadata": {
    "colab": {
      "provenance": []
    },
    "kernelspec": {
      "name": "python3",
      "display_name": "Python 3"
    },
    "language_info": {
      "name": "python"
    },
    "accelerator": "GPU"
  },
  "cells": [
    {
      "cell_type": "code",
      "source": [
        "# THIS CODE IS DONE DONT MAKE CHANGES IN IT -----\"Kvasir_Dataset_V2\"-------"
      ],
      "metadata": {
        "id": "HTFFlG7IXw4t"
      },
      "execution_count": null,
      "outputs": []
    },
    {
      "cell_type": "code",
      "source": [
        "!pip install tensorflow"
      ],
      "metadata": {
        "id": "9WrD97drFEu_"
      },
      "execution_count": null,
      "outputs": []
    },
    {
      "cell_type": "code",
      "execution_count": null,
      "metadata": {
        "id": "SLMopQZo4dUJ"
      },
      "outputs": [],
      "source": [
        "# import pertinent libraries\n",
        "import os\n",
        "import datetime\n",
        "import glob as glob\n",
        "import numpy as np\n",
        "from keras.models import Model, Sequential\n",
        "from keras.layers import Input, Add, Dense, Dropout, Activation, ZeroPadding2D, BatchNormalization, Flatten, Conv2D, AveragePooling2D, MaxPooling2D, GlobalMaxPooling2D,MaxPool2D\n",
        "from keras.preprocessing.image import ImageDataGenerator\n",
        "from tensorflow import keras\n",
        "import tensorflow as tf\n",
        "import matplotlib.pyplot as plt\n",
        "from sklearn.metrics import classification_report, confusion_matrix\n",
        "from tensorflow.keras.optimizers import Adam\n",
        "from tensorflow.keras.callbacks import EarlyStopping"
      ]
    },
    {
      "cell_type": "code",
      "source": [
        "from google.colab import drive\n",
        "drive.mount('/content/drive')"
      ],
      "metadata": {
        "colab": {
          "base_uri": "https://localhost:8080/"
        },
        "id": "kJmKjzzSE6MX",
        "outputId": "d17a8236-2753-40e1-a39e-09167e3d3be7"
      },
      "execution_count": null,
      "outputs": [
        {
          "output_type": "stream",
          "name": "stdout",
          "text": [
            "Mounted at /content/drive\n"
          ]
        }
      ]
    },
    {
      "cell_type": "code",
      "source": [
        "img_width, img_height = 224, 224\n",
        "\n",
        "train_dir = '/content/drive/MyDrive/Data_Sets_of_abnormality_in_large_intestine/kvasir_dataset_v2/train'\n",
        "validate_dir = '/content/drive/MyDrive/Data_Sets_of_abnormality_in_large_intestine/kvasir_dataset_v2/val'\n",
        "test_dir = '/content/drive/MyDrive/Data_Sets_of_abnormality_in_large_intestine/kvasir_dataset_v2/test'\n",
        "nb_epochs = 10\n",
        "batch_size = 32\n",
        "nb_classes = len(glob.glob(train_dir + '/*'))\n",
        "\n",
        "# get number of images in training directory\n",
        "nb_train_samples = 0\n",
        "for r, dirs, files in os.walk(train_dir):\n",
        "    for dr in dirs:\n",
        "        nb_train_samples += len(glob.glob(os.path.join(r, dr + \"/*\")))\n",
        "# get number of images in validation directory\n",
        "nb_validate_samples = 0\n",
        "for r, dirs, files in os.walk(validate_dir):\n",
        "    for dr in dirs:\n",
        "        nb_validate_samples += len(glob.glob(os.path.join(r, dr + \"/*\")))\n",
        "# get the number of images in test directory\n",
        "nb_test_samples = 0\n",
        "for r, dirs, files in os.walk(test_dir):\n",
        "    for dr in dirs:\n",
        "        nb_test_samples += len(glob.glob(os.path.join(r, dr + \"/*\")))"
      ],
      "metadata": {
        "id": "_0p8ddiH5G5j"
      },
      "execution_count": null,
      "outputs": []
    },
    {
      "cell_type": "code",
      "source": [
        "print(nb_classes)"
      ],
      "metadata": {
        "colab": {
          "base_uri": "https://localhost:8080/"
        },
        "id": "qu2ey6cg5Y4E",
        "outputId": "1030a401-520c-41de-b7b6-9c4a266444f6"
      },
      "execution_count": null,
      "outputs": [
        {
          "output_type": "stream",
          "name": "stdout",
          "text": [
            "8\n"
          ]
        }
      ]
    },
    {
      "cell_type": "code",
      "source": [
        "# Data preprocessing for training\n",
        "train_datagen =  ImageDataGenerator(\n",
        "    rotation_range = 20,\n",
        "    fill_mode = 'nearest',\n",
        "    horizontal_flip = True)"
      ],
      "metadata": {
        "id": "sari641T5dEE"
      },
      "execution_count": null,
      "outputs": []
    },
    {
      "cell_type": "code",
      "source": [
        "# data pre-processing for validation\n",
        "validate_datagen =  ImageDataGenerator(\n",
        "    rotation_range = 20,\n",
        "    fill_mode = 'nearest',\n",
        "    horizontal_flip = True)"
      ],
      "metadata": {
        "id": "X9IxG8fZ5hmJ"
      },
      "execution_count": null,
      "outputs": []
    },
    {
      "cell_type": "code",
      "source": [
        "# data pre-processing for testing\n",
        "test_datagen =  ImageDataGenerator(\n",
        "    rotation_range = 20,\n",
        "    fill_mode = 'nearest',\n",
        "    horizontal_flip = True)"
      ],
      "metadata": {
        "id": "ejNveqWHB2kY"
      },
      "execution_count": null,
      "outputs": []
    },
    {
      "cell_type": "code",
      "source": [
        "# generate and store training data\n",
        "train_generator = train_datagen.flow_from_directory(\n",
        "    train_dir,\n",
        "    target_size = (img_width, img_height),\n",
        "    batch_size = batch_size)"
      ],
      "metadata": {
        "colab": {
          "base_uri": "https://localhost:8080/"
        },
        "id": "9DqEtkzJB4_o",
        "outputId": "f0919bf2-9ec3-4723-fd61-0add6380d145"
      },
      "execution_count": null,
      "outputs": [
        {
          "output_type": "stream",
          "name": "stdout",
          "text": [
            "Found 6400 images belonging to 8 classes.\n"
          ]
        }
      ]
    },
    {
      "cell_type": "code",
      "source": [
        "# generate and store validation data\n",
        "validate_generator = validate_datagen.flow_from_directory(\n",
        "    validate_dir,\n",
        "    target_size = (img_width, img_height),\n",
        "    batch_size = batch_size)"
      ],
      "metadata": {
        "colab": {
          "base_uri": "https://localhost:8080/"
        },
        "id": "N0yCqRGZB9uf",
        "outputId": "284a43ac-a235-4259-ee89-adfbfa83be2d"
      },
      "execution_count": null,
      "outputs": [
        {
          "output_type": "stream",
          "name": "stdout",
          "text": [
            "Found 810 images belonging to 8 classes.\n"
          ]
        }
      ]
    },
    {
      "cell_type": "code",
      "source": [
        "# generate and store test data\n",
        "test_generator = validate_datagen.flow_from_directory(\n",
        "    test_dir,\n",
        "    target_size = (img_width, img_height),\n",
        "    batch_size = batch_size)"
      ],
      "metadata": {
        "colab": {
          "base_uri": "https://localhost:8080/"
        },
        "id": "Tt-ImVBvCA83",
        "outputId": "6fc596b7-db20-409b-8ca9-25b8b597dfd7"
      },
      "execution_count": null,
      "outputs": [
        {
          "output_type": "stream",
          "name": "stdout",
          "text": [
            "Found 800 images belonging to 8 classes.\n"
          ]
        }
      ]
    },
    {
      "cell_type": "code",
      "source": [
        "# building model\n",
        "resnet_50_model = Sequential()\n",
        "\n",
        "pretrained_model= tf.keras.applications.ResNet50(include_top=False,\n",
        "                   input_shape=(224,224,3),\n",
        "                   pooling='avg',classes=8,\n",
        "                   weights='imagenet')\n",
        "for layer in pretrained_model.layers:\n",
        "        layer.trainable=False\n",
        "\n",
        "resnet_50_model.add(pretrained_model)\n",
        "resnet_50_model.add(Flatten())\n",
        "resnet_50_model.add(Dense(512, activation='relu'))\n",
        "resnet_50_model.add(Dropout(0.5))\n",
        "resnet_50_model.add(Dense(8, activation='softmax'))   # making flatten vector"
      ],
      "metadata": {
        "id": "wbJBIVM4uYLc",
        "colab": {
          "base_uri": "https://localhost:8080/"
        },
        "outputId": "b5c08582-5d0e-4b21-b189-89f530d7d396"
      },
      "execution_count": null,
      "outputs": [
        {
          "output_type": "stream",
          "name": "stdout",
          "text": [
            "Downloading data from https://storage.googleapis.com/tensorflow/keras-applications/resnet/resnet50_weights_tf_dim_ordering_tf_kernels_notop.h5\n",
            "94765736/94765736 [==============================] - 3s 0us/step\n"
          ]
        }
      ]
    },
    {
      "cell_type": "code",
      "source": [
        "resnet_50_model.compile(Adam(learning_rate = 0.0001), loss = 'categorical_crossentropy', metrics = ['accuracy'])"
      ],
      "metadata": {
        "id": "X5Nwi2qa5w3V"
      },
      "execution_count": null,
      "outputs": []
    },
    {
      "cell_type": "code",
      "source": [
        "resnet_50_model.summary()"
      ],
      "metadata": {
        "colab": {
          "base_uri": "https://localhost:8080/"
        },
        "id": "zqsixaqt5zcz",
        "outputId": "0f29d0d3-f8b4-447e-a217-0d698688a7f4"
      },
      "execution_count": null,
      "outputs": [
        {
          "output_type": "stream",
          "name": "stdout",
          "text": [
            "Model: \"sequential\"\n",
            "_________________________________________________________________\n",
            " Layer (type)                Output Shape              Param #   \n",
            "=================================================================\n",
            " resnet50 (Functional)       (None, 2048)              23587712  \n",
            "                                                                 \n",
            " flatten (Flatten)           (None, 2048)              0         \n",
            "                                                                 \n",
            " dense (Dense)               (None, 512)               1049088   \n",
            "                                                                 \n",
            " dropout (Dropout)           (None, 512)               0         \n",
            "                                                                 \n",
            " dense_1 (Dense)             (None, 8)                 4104      \n",
            "                                                                 \n",
            "=================================================================\n",
            "Total params: 24,640,904\n",
            "Trainable params: 1,053,192\n",
            "Non-trainable params: 23,587,712\n",
            "_________________________________________________________________\n"
          ]
        }
      ]
    },
    {
      "cell_type": "code",
      "source": [
        "# fit the model, log the results and the training time\n",
        "now = datetime.datetime.now\n",
        "t = now()\n",
        "history = resnet_50_model.fit_generator(\n",
        "    train_generator,\n",
        "    epochs = nb_epochs,\n",
        "    steps_per_epoch = nb_train_samples//batch_size,\n",
        "    validation_data = validate_generator,\n",
        "    validation_steps = nb_validate_samples//batch_size)\n",
        "print('Training time: %s' % (now() - t))"
      ],
      "metadata": {
        "colab": {
          "base_uri": "https://localhost:8080/"
        },
        "id": "YIBe-piR59LO",
        "outputId": "b2a07ba1-2aed-4037-96ca-2c2adf1b3311"
      },
      "execution_count": null,
      "outputs": [
        {
          "metadata": {
            "tags": null
          },
          "name": "stderr",
          "output_type": "stream",
          "text": [
            "<ipython-input-15-93aae8122837>:4: UserWarning: `Model.fit_generator` is deprecated and will be removed in a future version. Please use `Model.fit`, which supports generators.\n",
            "  history = resnet_50_model.fit_generator(\n"
          ]
        },
        {
          "output_type": "stream",
          "name": "stdout",
          "text": [
            "Epoch 1/10\n",
            "200/200 [==============================] - 3374s 17s/step - loss: 1.0550 - accuracy: 0.6119 - val_loss: 0.8542 - val_accuracy: 0.6850\n",
            "Epoch 2/10\n",
            "200/200 [==============================] - 207s 1s/step - loss: 0.5495 - accuracy: 0.7870 - val_loss: 0.8717 - val_accuracy: 0.6737\n",
            "Epoch 3/10\n",
            "200/200 [==============================] - 206s 1s/step - loss: 0.4590 - accuracy: 0.8200 - val_loss: 0.9037 - val_accuracy: 0.6812\n",
            "Epoch 4/10\n",
            "200/200 [==============================] - 206s 1s/step - loss: 0.4090 - accuracy: 0.8406 - val_loss: 0.9065 - val_accuracy: 0.6825\n",
            "Epoch 5/10\n",
            "200/200 [==============================] - 205s 1s/step - loss: 0.3820 - accuracy: 0.8478 - val_loss: 0.8975 - val_accuracy: 0.6913\n",
            "Epoch 6/10\n",
            "200/200 [==============================] - 205s 1s/step - loss: 0.3507 - accuracy: 0.8627 - val_loss: 0.8785 - val_accuracy: 0.6925\n",
            "Epoch 7/10\n",
            "200/200 [==============================] - 204s 1s/step - loss: 0.3454 - accuracy: 0.8625 - val_loss: 0.9055 - val_accuracy: 0.6812\n",
            "Epoch 8/10\n",
            "200/200 [==============================] - 204s 1s/step - loss: 0.3104 - accuracy: 0.8745 - val_loss: 0.8985 - val_accuracy: 0.7075\n",
            "Epoch 9/10\n",
            "200/200 [==============================] - 204s 1s/step - loss: 0.3105 - accuracy: 0.8734 - val_loss: 0.9606 - val_accuracy: 0.7063\n",
            "Epoch 10/10\n",
            "200/200 [==============================] - 203s 1s/step - loss: 0.2916 - accuracy: 0.8839 - val_loss: 0.9515 - val_accuracy: 0.6900\n",
            "Training time: 1:27:14.663277\n"
          ]
        }
      ]
    },
    {
      "cell_type": "code",
      "source": [
        "model = resnet_50_model.save(\"ResNet50_Kvasir_V2.h5\")"
      ],
      "metadata": {
        "id": "kyyCV1WXROMr"
      },
      "execution_count": null,
      "outputs": []
    },
    {
      "cell_type": "code",
      "source": [
        "from keras import models\n",
        "model = models.load_model(\"ResNet50_Kvasir_V2.h5\")"
      ],
      "metadata": {
        "id": "Sn1vCkawRXpI"
      },
      "execution_count": null,
      "outputs": []
    },
    {
      "cell_type": "code",
      "source": [
        "plt.plot(history.history[\"loss\"])\n",
        "plt.plot(history.history[\"val_loss\"])\n",
        "plt.grid()\n",
        "plt.title(\"Model Loss\")\n",
        "plt.ylabel(\"Loss\")\n",
        "plt.xlabel(\"Epochs\")\n",
        "plt.legend([\"train\", \"validation\"])\n",
        "plt.show()"
      ],
      "metadata": {
        "colab": {
          "base_uri": "https://localhost:8080/",
          "height": 295
        },
        "id": "QZ1pOdce9PI5",
        "outputId": "6f0cbecb-afd6-4d5b-e01a-bfdb1d9c1732"
      },
      "execution_count": null,
      "outputs": [
        {
          "output_type": "display_data",
          "data": {
            "text/plain": [
              "<Figure size 432x288 with 1 Axes>"
            ],
            "image/png": "[encoded data removed]"
          },
          "metadata": {
            "needs_background": "light"
          }
        }
      ]
    },
    {
      "cell_type": "code",
      "source": [
        "X_test, Y_test = next(test_generator)"
      ],
      "metadata": {
        "id": "mUinuGB9TGDg"
      },
      "execution_count": null,
      "outputs": []
    },
    {
      "cell_type": "code",
      "source": [
        "print(X_test,Y_test)"
      ],
      "metadata": {
        "colab": {
          "base_uri": "https://localhost:8080/"
        },
        "id": "P1ajbJ4gTJJC",
        "outputId": "bec60938-f3d2-4e4e-8edd-a54a4ac6e7b0"
      },
      "execution_count": null,
      "outputs": [
        {
          "output_type": "stream",
          "name": "stdout",
          "text": [
            "[[[[ 4.3454533   5.6545467   4.3090935 ]\n",
            "   [ 5.          5.          3.6448913 ]\n",
            "   [ 4.700562    4.700562    4.101686  ]\n",
            "   ...\n",
            "   [ 1.          1.          1.        ]\n",
            "   [ 1.          1.          1.        ]\n",
            "   [ 1.          1.          1.        ]]\n",
            "\n",
            "  [[ 4.132179    5.867821    4.735642  ]\n",
            "   [ 5.          5.          3.2183425 ]\n",
            "   [ 4.9138365   4.9138365   4.7415094 ]\n",
            "   ...\n",
            "   [ 1.          1.          1.        ]\n",
            "   [ 1.          1.          1.        ]\n",
            "   [ 1.          1.          1.        ]]\n",
            "\n",
            "  [[ 4.0810957   5.9189043   5.        ]\n",
            "   [ 4.895897    5.104103    3.2082064 ]\n",
            "   [ 5.          5.          4.745778  ]\n",
            "   ...\n",
            "   [ 1.          1.          1.        ]\n",
            "   [ 1.          1.          1.        ]\n",
            "   [ 1.          1.          1.        ]]\n",
            "\n",
            "  ...\n",
            "\n",
            "  [[ 0.          0.          0.        ]\n",
            "   [ 0.          0.          0.        ]\n",
            "   [ 0.          0.          0.        ]\n",
            "   ...\n",
            "   [ 3.          3.          3.        ]\n",
            "   [ 2.895897    2.895897    2.895897  ]\n",
            "   [ 2.          2.          2.        ]]\n",
            "\n",
            "  [[ 0.          0.          0.        ]\n",
            "   [ 0.          0.          0.        ]\n",
            "   [ 0.          0.          0.        ]\n",
            "   ...\n",
            "   [ 2.9138365   2.9138365   2.9138365 ]\n",
            "   [ 3.          3.          3.        ]\n",
            "   [ 2.132179    2.132179    2.132179  ]]\n",
            "\n",
            "  [[ 0.          0.          0.        ]\n",
            "   [ 0.          0.          0.        ]\n",
            "   [ 0.          0.          0.        ]\n",
            "   ...\n",
            "   [ 2.700562    2.700562    2.700562  ]\n",
            "   [ 3.          3.          3.        ]\n",
            "   [ 2.3454533   2.3454533   2.3454533 ]]]\n",
            "\n",
            "\n",
            " [[[ 0.          0.          0.        ]\n",
            "   [ 0.          0.          0.        ]\n",
            "   [ 0.          0.          0.        ]\n",
            "   ...\n",
            "   [ 0.          0.          0.        ]\n",
            "   [ 0.          0.          0.        ]\n",
            "   [ 0.          0.          0.        ]]\n",
            "\n",
            "  [[ 0.          0.          0.        ]\n",
            "   [ 0.          0.          0.        ]\n",
            "   [ 0.          0.          0.        ]\n",
            "   ...\n",
            "   [ 0.          0.          0.        ]\n",
            "   [ 0.          0.          0.        ]\n",
            "   [ 0.          0.          0.        ]]\n",
            "\n",
            "  [[ 0.          0.          0.        ]\n",
            "   [ 0.          0.          0.        ]\n",
            "   [ 0.          0.          0.        ]\n",
            "   ...\n",
            "   [ 0.          0.          0.        ]\n",
            "   [ 0.          0.          0.        ]\n",
            "   [ 0.          0.          0.        ]]\n",
            "\n",
            "  ...\n",
            "\n",
            "  [[ 0.          0.          0.        ]\n",
            "   [ 0.          0.          0.        ]\n",
            "   [ 0.          0.          0.        ]\n",
            "   ...\n",
            "   [ 0.          0.          0.        ]\n",
            "   [ 0.          0.          0.        ]\n",
            "   [ 0.          0.          0.        ]]\n",
            "\n",
            "  [[ 0.          0.          0.        ]\n",
            "   [ 0.          0.          0.        ]\n",
            "   [ 0.          0.          0.        ]\n",
            "   ...\n",
            "   [ 0.          0.          0.        ]\n",
            "   [ 0.          0.          0.        ]\n",
            "   [ 0.          0.          0.        ]]\n",
            "\n",
            "  [[ 0.          0.          0.        ]\n",
            "   [ 0.          0.          0.        ]\n",
            "   [ 0.          0.          0.        ]\n",
            "   ...\n",
            "   [ 0.          0.          0.        ]\n",
            "   [ 0.          0.          0.        ]\n",
            "   [ 0.          0.          0.        ]]]\n",
            "\n",
            "\n",
            " [[[ 1.          1.          1.        ]\n",
            "   [ 1.          1.          1.        ]\n",
            "   [ 1.          1.          1.        ]\n",
            "   ...\n",
            "   [ 2.          2.          0.9859283 ]\n",
            "   [ 2.9687834   2.9687834   2.9687834 ]\n",
            "   [ 3.524181    3.524181    3.524181  ]]\n",
            "\n",
            "  [[ 0.4843917   0.4843917   0.4843917 ]\n",
            "   [ 0.61504954  0.61504954  0.61504954]\n",
            "   [ 0.7457074   0.7457074   0.7457074 ]\n",
            "   ...\n",
            "   [ 2.          2.          1.247244  ]\n",
            "   [ 3.230099    3.230099    3.230099  ]\n",
            "   [ 3.393523    3.393523    3.393523  ]]\n",
            "\n",
            "  [[ 0.50703585  0.50703585  0.50703585]\n",
            "   [ 0.376378    0.376378    0.376378  ]\n",
            "   [ 0.24572015  0.24572015  0.24572015]\n",
            "   ...\n",
            "   [ 2.          2.          1.5085597 ]\n",
            "   [ 3.4914148   3.4914148   3.4914148 ]\n",
            "   [ 3.262865    3.262865    3.262865  ]]\n",
            "\n",
            "  ...\n",
            "\n",
            "  [[ 0.          0.          0.        ]\n",
            "   [ 0.          0.          0.        ]\n",
            "   [ 0.          0.          0.        ]\n",
            "   ...\n",
            "   [ 0.          0.          0.        ]\n",
            "   [ 0.          0.          0.        ]\n",
            "   [ 0.          0.          0.        ]]\n",
            "\n",
            "  [[ 0.          0.          0.        ]\n",
            "   [ 0.          0.          0.        ]\n",
            "   [ 0.          0.          0.        ]\n",
            "   ...\n",
            "   [ 0.          0.          0.        ]\n",
            "   [ 0.          0.          0.        ]\n",
            "   [ 0.          0.          0.        ]]\n",
            "\n",
            "  [[ 0.          0.          0.        ]\n",
            "   [ 0.          0.          0.        ]\n",
            "   [ 0.          0.          0.        ]\n",
            "   ...\n",
            "   [ 0.          0.          0.        ]\n",
            "   [ 0.          0.          0.        ]\n",
            "   [ 0.          0.          0.        ]]]\n",
            "\n",
            "\n",
            " ...\n",
            "\n",
            "\n",
            " [[[ 3.          3.          4.3512216 ]\n",
            "   [ 3.0074916   3.0074916   4.977525  ]\n",
            "   [ 3.3393724   3.3393724   3.9818828 ]\n",
            "   ...\n",
            "   [ 2.          4.          2.5779362 ]\n",
            "   [ 1.2677106   3.2677107   2.2677107 ]\n",
            "   [ 1.6756107   2.3243892   2.        ]]\n",
            "\n",
            "  [[ 3.2677107   3.2677107   3.2677107 ]\n",
            "   [ 3.          3.          3.1283405 ]\n",
            "   [ 3.          3.          3.7921023 ]\n",
            "   ...\n",
            "   [ 1.8791511   3.879151    2.879151  ]\n",
            "   [ 1.0641702   2.9358296   2.        ]\n",
            "   [ 1.9925084   1.9925084   1.9925084 ]]\n",
            "\n",
            "  [[ 3.788968    3.788968    3.788968  ]\n",
            "   [ 3.879151    3.879151    3.879151  ]\n",
            "   [ 3.5472703   3.5472703   3.5472703 ]\n",
            "   ...\n",
            "   [ 1.5472702   3.5472703   2.5472703 ]\n",
            "   [ 1.3960512   2.6039488   2.        ]\n",
            "   [ 1.6606276   1.6606276   1.6606276 ]]\n",
            "\n",
            "  ...\n",
            "\n",
            "  [[ 1.          1.          1.6787449 ]\n",
            "   [ 1.6039488   1.6039488   1.6039488 ]\n",
            "   [ 2.          2.          2.        ]\n",
            "   ...\n",
            "   [ 0.          0.          0.90545964]\n",
            "   [ 0.          0.          0.2416979 ]\n",
            "   [ 0.2110319   0.2110319   0.63309574]]\n",
            "\n",
            "  [[ 1.          1.          1.0149832 ]\n",
            "   [ 1.9358298   1.9358298   1.9358298 ]\n",
            "   [ 2.          2.          2.        ]\n",
            "   ...\n",
            "   [ 0.          0.          1.2078978 ]\n",
            "   [ 0.          0.          1.8716595 ]\n",
            "   [ 0.          0.          1.4645789 ]]\n",
            "\n",
            "  [[ 1.3243893   1.3243893   1.3243893 ]\n",
            "   [ 2.          2.          2.        ]\n",
            "   [ 1.5779362   1.5779362   1.5779362 ]\n",
            "   ...\n",
            "   [ 0.          0.          0.        ]\n",
            "   [ 0.          0.          0.        ]\n",
            "   [ 0.          0.          0.64877856]]]\n",
            "\n",
            "\n",
            " [[[ 3.2175322   3.2175322   3.2175322 ]\n",
            "   [ 3.644755    3.644755    3.644755  ]\n",
            "   [ 3.9280224   3.9280224   3.9280224 ]\n",
            "   ...\n",
            "   [ 2.          2.          2.        ]\n",
            "   [ 2.          2.          2.        ]\n",
            "   [ 2.          2.          2.        ]]\n",
            "\n",
            "  [[ 2.          2.7363052   1.6318474 ]\n",
            "   [ 2.          2.3090825   1.8454587 ]\n",
            "   [ 2.1181402   2.1181402   2.1181402 ]\n",
            "   ...\n",
            "   [ 2.          2.          2.        ]\n",
            "   [ 2.          2.          2.        ]\n",
            "   [ 2.          2.          2.        ]]\n",
            "\n",
            "  [[ 2.          4.          1.6901428 ]\n",
            "   [ 2.          4.          1.2629199 ]\n",
            "   [ 2.          3.8356972   1.0821514 ]\n",
            "   ...\n",
            "   [ 2.          2.          2.        ]\n",
            "   [ 2.          2.          2.        ]\n",
            "   [ 2.0359888   2.0359888   2.0359888 ]]\n",
            "\n",
            "  ...\n",
            "\n",
            "  [[ 0.          0.          0.        ]\n",
            "   [ 0.          0.          0.        ]\n",
            "   [ 0.          0.          0.        ]\n",
            "   ...\n",
            "   [ 1.          1.          1.        ]\n",
            "   [ 0.86854005  0.86854005  0.86854005]\n",
            "   [ 0.6549286   0.6549286   0.6549286 ]]\n",
            "\n",
            "  [[ 0.          0.          0.        ]\n",
            "   [ 0.          0.          0.        ]\n",
            "   [ 0.          0.          0.        ]\n",
            "   ...\n",
            "   [ 1.          1.          1.        ]\n",
            "   [ 1.          1.          1.        ]\n",
            "   [ 1.          1.          1.        ]]\n",
            "\n",
            "  [[ 0.          0.          0.        ]\n",
            "   [ 0.          0.          0.        ]\n",
            "   [ 0.          0.          0.        ]\n",
            "   ...\n",
            "   [ 1.          1.          1.        ]\n",
            "   [ 1.          1.          1.        ]\n",
            "   [ 1.          1.          1.        ]]]\n",
            "\n",
            "\n",
            " [[[15.         15.         15.        ]\n",
            "   [15.         15.         15.        ]\n",
            "   [15.         15.         15.        ]\n",
            "   ...\n",
            "   [15.         15.         15.        ]\n",
            "   [15.         15.         15.        ]\n",
            "   [15.         15.         15.        ]]\n",
            "\n",
            "  [[15.         15.         15.        ]\n",
            "   [15.         15.         15.        ]\n",
            "   [15.         15.         15.        ]\n",
            "   ...\n",
            "   [15.         15.         15.        ]\n",
            "   [15.         15.         15.        ]\n",
            "   [15.         15.         15.        ]]\n",
            "\n",
            "  [[15.         15.         15.        ]\n",
            "   [15.         15.         15.        ]\n",
            "   [15.         15.         15.        ]\n",
            "   ...\n",
            "   [15.         15.         15.        ]\n",
            "   [15.         15.         15.        ]\n",
            "   [15.         15.         15.        ]]\n",
            "\n",
            "  ...\n",
            "\n",
            "  [[15.         15.         15.        ]\n",
            "   [15.         15.         15.        ]\n",
            "   [15.         15.         15.        ]\n",
            "   ...\n",
            "   [15.         15.         15.        ]\n",
            "   [15.         15.         15.        ]\n",
            "   [15.         15.         15.        ]]\n",
            "\n",
            "  [[15.         15.         15.        ]\n",
            "   [15.         15.         15.        ]\n",
            "   [15.         15.         15.        ]\n",
            "   ...\n",
            "   [15.         15.         15.        ]\n",
            "   [15.         15.         15.        ]\n",
            "   [15.         15.         15.        ]]\n",
            "\n",
            "  [[15.         15.         15.        ]\n",
            "   [15.         15.         15.        ]\n",
            "   [15.         15.         15.        ]\n",
            "   ...\n",
            "   [15.         15.         15.        ]\n",
            "   [15.         15.         15.        ]\n",
            "   [15.         15.         15.        ]]]] [[0. 0. 0. 1. 0. 0. 0. 0.]\n",
            " [0. 0. 0. 0. 1. 0. 0. 0.]\n",
            " [0. 1. 0. 0. 0. 0. 0. 0.]\n",
            " [0. 0. 0. 0. 1. 0. 0. 0.]\n",
            " [0. 0. 0. 0. 0. 0. 0. 1.]\n",
            " [1. 0. 0. 0. 0. 0. 0. 0.]\n",
            " [0. 0. 0. 1. 0. 0. 0. 0.]\n",
            " [0. 0. 0. 0. 0. 1. 0. 0.]\n",
            " [0. 0. 0. 1. 0. 0. 0. 0.]\n",
            " [1. 0. 0. 0. 0. 0. 0. 0.]\n",
            " [0. 0. 0. 1. 0. 0. 0. 0.]\n",
            " [0. 0. 0. 1. 0. 0. 0. 0.]\n",
            " [0. 1. 0. 0. 0. 0. 0. 0.]\n",
            " [0. 0. 0. 0. 0. 0. 0. 1.]\n",
            " [0. 0. 1. 0. 0. 0. 0. 0.]\n",
            " [0. 0. 0. 0. 1. 0. 0. 0.]\n",
            " [0. 0. 0. 0. 0. 0. 1. 0.]\n",
            " [0. 0. 1. 0. 0. 0. 0. 0.]\n",
            " [0. 1. 0. 0. 0. 0. 0. 0.]\n",
            " [0. 0. 0. 0. 0. 0. 0. 1.]\n",
            " [1. 0. 0. 0. 0. 0. 0. 0.]\n",
            " [0. 1. 0. 0. 0. 0. 0. 0.]\n",
            " [0. 0. 0. 0. 0. 1. 0. 0.]\n",
            " [0. 0. 0. 0. 1. 0. 0. 0.]\n",
            " [0. 0. 0. 1. 0. 0. 0. 0.]\n",
            " [0. 0. 1. 0. 0. 0. 0. 0.]\n",
            " [0. 0. 0. 0. 0. 0. 0. 1.]\n",
            " [0. 0. 0. 1. 0. 0. 0. 0.]\n",
            " [1. 0. 0. 0. 0. 0. 0. 0.]\n",
            " [0. 0. 0. 0. 0. 0. 1. 0.]\n",
            " [0. 0. 0. 0. 0. 0. 1. 0.]\n",
            " [0. 0. 0. 0. 0. 0. 1. 0.]]\n"
          ]
        }
      ]
    },
    {
      "cell_type": "code",
      "source": [
        "y_true=[]\n",
        "for i in range(len(Y_test)):\n",
        "    K= Y_test[i]\n",
        "    \n",
        "    y_true.append(list(K).index(max(list(K))))"
      ],
      "metadata": {
        "id": "HtLLlZcZTQNj"
      },
      "execution_count": null,
      "outputs": []
    },
    {
      "cell_type": "code",
      "source": [
        "print(y_true)"
      ],
      "metadata": {
        "colab": {
          "base_uri": "https://localhost:8080/"
        },
        "id": "jzT40knQTTL_",
        "outputId": "ec33b11c-a4f7-465d-af60-3ffc98a9d40e"
      },
      "execution_count": null,
      "outputs": [
        {
          "output_type": "stream",
          "name": "stdout",
          "text": [
            "[3, 4, 1, 4, 7, 0, 3, 5, 3, 0, 3, 3, 1, 7, 2, 4, 6, 2, 1, 7, 0, 1, 5, 4, 3, 2, 7, 3, 0, 6, 6, 6]\n"
          ]
        }
      ]
    },
    {
      "cell_type": "code",
      "source": [
        "M = resnet_50_model.predict(X_test)\n",
        "X_t=[]\n",
        "for i in range(len(M)):\n",
        "    K= M[i]\n",
        "    X_t.append(list(K).index(max(list(K))))"
      ],
      "metadata": {
        "colab": {
          "base_uri": "https://localhost:8080/"
        },
        "id": "PAjadVxYTWzq",
        "outputId": "32476073-7a29-4816-bcf9-b22688dac56a"
      },
      "execution_count": null,
      "outputs": [
        {
          "output_type": "stream",
          "name": "stdout",
          "text": [
            "1/1 [==============================] - 1s 921ms/step\n"
          ]
        }
      ]
    },
    {
      "cell_type": "code",
      "source": [
        "print(X_t)"
      ],
      "metadata": {
        "colab": {
          "base_uri": "https://localhost:8080/"
        },
        "id": "bKP88madTZOt",
        "outputId": "b905ddba-2314-4f35-c8d4-571a059dbd2e"
      },
      "execution_count": null,
      "outputs": [
        {
          "output_type": "stream",
          "name": "stdout",
          "text": [
            "[3, 4, 1, 4, 7, 0, 3, 5, 3, 1, 3, 3, 1, 7, 2, 4, 6, 2, 1, 7, 0, 1, 5, 4, 3, 2, 7, 3, 0, 6, 6, 4]\n"
          ]
        }
      ]
    },
    {
      "cell_type": "code",
      "source": [
        "print(classification_report(y_true, X_t, zero_division = 0))"
      ],
      "metadata": {
        "colab": {
          "base_uri": "https://localhost:8080/"
        },
        "id": "A6laPoSBLfxi",
        "outputId": "d335d542-4e8b-478e-c5fa-baade2603820"
      },
      "execution_count": null,
      "outputs": [
        {
          "output_type": "stream",
          "name": "stdout",
          "text": [
            "              precision    recall  f1-score   support\n",
            "\n",
            "           0       1.00      0.75      0.86         4\n",
            "           1       0.80      1.00      0.89         4\n",
            "           2       1.00      1.00      1.00         3\n",
            "           3       1.00      1.00      1.00         7\n",
            "           4       0.80      1.00      0.89         4\n",
            "           5       1.00      1.00      1.00         2\n",
            "           6       1.00      0.75      0.86         4\n",
            "           7       1.00      1.00      1.00         4\n",
            "\n",
            "    accuracy                           0.94        32\n",
            "   macro avg       0.95      0.94      0.94        32\n",
            "weighted avg       0.95      0.94      0.94        32\n",
            "\n"
          ]
        }
      ]
    },
    {
      "cell_type": "code",
      "source": [
        "print(confusion_matrix(y_true,X_t))"
      ],
      "metadata": {
        "id": "w4y9iaRJLjOK",
        "outputId": "9a5ba453-bade-448c-9bbd-42f076a541ad",
        "colab": {
          "base_uri": "https://localhost:8080/"
        }
      },
      "execution_count": null,
      "outputs": [
        {
          "output_type": "stream",
          "name": "stdout",
          "text": [
            "[[3 1 0 0 0 0 0 0]\n",
            " [0 4 0 0 0 0 0 0]\n",
            " [0 0 3 0 0 0 0 0]\n",
            " [0 0 0 7 0 0 0 0]\n",
            " [0 0 0 0 4 0 0 0]\n",
            " [0 0 0 0 0 2 0 0]\n",
            " [0 0 0 0 1 0 3 0]\n",
            " [0 0 0 0 0 0 0 4]]\n"
          ]
        }
      ]
    },
    {
      "cell_type": "code",
      "source": [],
      "metadata": {
        "id": "u9EikaP4ZAN3"
      },
      "execution_count": null,
      "outputs": []
    }
  ]
}