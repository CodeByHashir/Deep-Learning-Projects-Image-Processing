{
  "nbformat": 4,
  "nbformat_minor": 0,
  "metadata": {
    "colab": {
      "provenance": []
    },
    "kernelspec": {
      "name": "python3",
      "display_name": "Python 3"
    },
    "language_info": {
      "name": "python"
    },
    "accelerator": "GPU"
  },
  "cells": [
    {
      "cell_type": "code",
      "source": [
        "# THIS CODE IS DONE DONT MAKE CHANGES IN IT  -----\"Kvasir_Dataset_V3\"-------"
      ],
      "metadata": {
        "id": "HTFFlG7IXw4t"
      },
      "execution_count": null,
      "outputs": []
    },
    {
      "cell_type": "code",
      "execution_count": null,
      "metadata": {
        "id": "SLMopQZo4dUJ"
      },
      "outputs": [],
      "source": [
        "# import pertinent libraries\n",
        "import os\n",
        "import datetime\n",
        "import glob as glob\n",
        "import numpy as np\n",
        "from keras.models import Model, Sequential\n",
        "from keras.layers import Input, Add, Dense, Dropout, Activation, ZeroPadding2D, BatchNormalization, Flatten, Conv2D, AveragePooling2D, MaxPooling2D, GlobalMaxPooling2D,MaxPool2D\n",
        "from keras.preprocessing.image import ImageDataGenerator\n",
        "from tensorflow import keras\n",
        "import tensorflow as tf\n",
        "import matplotlib.pyplot as plt\n",
        "from sklearn.metrics import classification_report, confusion_matrix\n",
        "from tensorflow.keras.optimizers import Adam\n",
        "from tensorflow.keras.callbacks import EarlyStopping"
      ]
    },
    {
      "cell_type": "code",
      "source": [
        "from google.colab import drive\n",
        "drive.mount('/content/drive')"
      ],
      "metadata": {
        "colab": {
          "base_uri": "https://localhost:8080/"
        },
        "id": "kJmKjzzSE6MX",
        "outputId": "4ef82bcf-bb17-41d2-feb6-a263aa54e21b"
      },
      "execution_count": null,
      "outputs": [
        {
          "output_type": "stream",
          "name": "stdout",
          "text": [
            "Mounted at /content/drive\n"
          ]
        }
      ]
    },
    {
      "cell_type": "code",
      "source": [
        "img_width, img_height = 224, 224\n",
        "\n",
        "train_dir = '/content/drive/MyDrive/Data_Sets_of_abnormality_in_large_intestine/kvasir_dataset_v3/train'\n",
        "validate_dir = '/content/drive/MyDrive/Data_Sets_of_abnormality_in_large_intestine/kvasir_dataset_v3/val'\n",
        "test_dir = '/content/drive/MyDrive/Data_Sets_of_abnormality_in_large_intestine/kvasir_dataset_v3/test'\n",
        "nb_epochs = 10\n",
        "batch_size = 32\n",
        "nb_classes = len(glob.glob(train_dir + '/*'))\n",
        "\n",
        "# get number of images in training directory\n",
        "nb_train_samples = 0\n",
        "for r, dirs, files in os.walk(train_dir):\n",
        "    for dr in dirs:\n",
        "        nb_train_samples += len(glob.glob(os.path.join(r, dr + \"/*\")))\n",
        "# get number of images in validation directory\n",
        "nb_validate_samples = 0\n",
        "for r, dirs, files in os.walk(validate_dir):\n",
        "    for dr in dirs:\n",
        "        nb_validate_samples += len(glob.glob(os.path.join(r, dr + \"/*\")))\n",
        "# get the number of images in test directory\n",
        "nb_test_samples = 0\n",
        "for r, dirs, files in os.walk(test_dir):\n",
        "    for dr in dirs:\n",
        "        nb_test_samples += len(glob.glob(os.path.join(r, dr + \"/*\")))"
      ],
      "metadata": {
        "id": "_0p8ddiH5G5j"
      },
      "execution_count": null,
      "outputs": []
    },
    {
      "cell_type": "code",
      "source": [
        "print(nb_classes)"
      ],
      "metadata": {
        "colab": {
          "base_uri": "https://localhost:8080/"
        },
        "id": "qu2ey6cg5Y4E",
        "outputId": "c75f0a4e-d4e7-4b07-fe54-3cee40229c95"
      },
      "execution_count": null,
      "outputs": [
        {
          "output_type": "stream",
          "name": "stdout",
          "text": [
            "14\n"
          ]
        }
      ]
    },
    {
      "cell_type": "code",
      "source": [
        "# Data preprocessing for training\n",
        "train_datagen =  ImageDataGenerator(\n",
        "    rotation_range = 20,\n",
        "    fill_mode = 'nearest',\n",
        "    horizontal_flip = True)"
      ],
      "metadata": {
        "id": "sari641T5dEE"
      },
      "execution_count": null,
      "outputs": []
    },
    {
      "cell_type": "code",
      "source": [
        "# data pre-processing for validation\n",
        "validate_datagen =  ImageDataGenerator(\n",
        "    rotation_range = 20,\n",
        "    fill_mode = 'nearest',\n",
        "    horizontal_flip = True)"
      ],
      "metadata": {
        "id": "X9IxG8fZ5hmJ"
      },
      "execution_count": null,
      "outputs": []
    },
    {
      "cell_type": "code",
      "source": [
        "# data pre-processing for testing\n",
        "test_datagen =  ImageDataGenerator(\n",
        "    rotation_range = 20,\n",
        "    fill_mode = 'nearest',\n",
        "    horizontal_flip = True)"
      ],
      "metadata": {
        "id": "ejNveqWHB2kY"
      },
      "execution_count": null,
      "outputs": []
    },
    {
      "cell_type": "code",
      "source": [
        "# generate and store training data\n",
        "train_generator = train_datagen.flow_from_directory(\n",
        "    train_dir,\n",
        "    target_size = (img_width, img_height),\n",
        "    batch_size = batch_size)"
      ],
      "metadata": {
        "colab": {
          "base_uri": "https://localhost:8080/"
        },
        "id": "9DqEtkzJB4_o",
        "outputId": "3ffa74c5-c370-4ddf-d8a5-64837ef21901"
      },
      "execution_count": null,
      "outputs": [
        {
          "output_type": "stream",
          "name": "stdout",
          "text": [
            "Found 5309 images belonging to 14 classes.\n"
          ]
        }
      ]
    },
    {
      "cell_type": "code",
      "source": [
        "# generate and store validation data\n",
        "validate_generator = validate_datagen.flow_from_directory(\n",
        "    validate_dir,\n",
        "    target_size = (img_width, img_height),\n",
        "    batch_size = batch_size)"
      ],
      "metadata": {
        "colab": {
          "base_uri": "https://localhost:8080/"
        },
        "id": "N0yCqRGZB9uf",
        "outputId": "166c5369-32be-4c01-99f4-eb59296cabc7"
      },
      "execution_count": null,
      "outputs": [
        {
          "output_type": "stream",
          "name": "stdout",
          "text": [
            "Found 713 images belonging to 14 classes.\n"
          ]
        }
      ]
    },
    {
      "cell_type": "code",
      "source": [
        "# generate and store test data\n",
        "test_generator = validate_datagen.flow_from_directory(\n",
        "    test_dir,\n",
        "    target_size = (img_width, img_height),\n",
        "    batch_size = batch_size)"
      ],
      "metadata": {
        "colab": {
          "base_uri": "https://localhost:8080/"
        },
        "id": "Tt-ImVBvCA83",
        "outputId": "d5da0948-addf-449b-f0a7-15d320b90568"
      },
      "execution_count": null,
      "outputs": [
        {
          "output_type": "stream",
          "name": "stdout",
          "text": [
            "Found 735 images belonging to 14 classes.\n"
          ]
        }
      ]
    },
    {
      "cell_type": "code",
      "source": [
        "# building model\n",
        "resnet_50_model = Sequential()\n",
        "\n",
        "pretrained_model= tf.keras.applications.ResNet50(include_top=False,\n",
        "                   input_shape=(224,224,3),\n",
        "                   pooling='avg',classes=8,\n",
        "                   weights='imagenet')\n",
        "for layer in pretrained_model.layers:\n",
        "        layer.trainable=False\n",
        "\n",
        "resnet_50_model.add(pretrained_model)\n",
        "resnet_50_model.add(Flatten())\n",
        "resnet_50_model.add(Dense(512, activation='relu'))\n",
        "resnet_50_model.add(Dropout(0.5))\n",
        "resnet_50_model.add(Dense(14, activation='softmax'))   # making flatten vector"
      ],
      "metadata": {
        "id": "wbJBIVM4uYLc",
        "colab": {
          "base_uri": "https://localhost:8080/"
        },
        "outputId": "fb36a948-1b6d-4b64-ec5f-80cad1c5e924"
      },
      "execution_count": null,
      "outputs": [
        {
          "output_type": "stream",
          "name": "stdout",
          "text": [
            "Downloading data from https://storage.googleapis.com/tensorflow/keras-applications/resnet/resnet50_weights_tf_dim_ordering_tf_kernels_notop.h5\n",
            "94765736/94765736 [==============================] - 1s 0us/step\n"
          ]
        }
      ]
    },
    {
      "cell_type": "code",
      "source": [
        "resnet_50_model.compile(Adam(learning_rate = 0.0001), loss = 'categorical_crossentropy', metrics = ['accuracy'])"
      ],
      "metadata": {
        "id": "X5Nwi2qa5w3V"
      },
      "execution_count": null,
      "outputs": []
    },
    {
      "cell_type": "code",
      "source": [
        "resnet_50_model.summary()"
      ],
      "metadata": {
        "colab": {
          "base_uri": "https://localhost:8080/"
        },
        "id": "zqsixaqt5zcz",
        "outputId": "f8db9171-cfb7-4ee5-dcee-7c61101e036f"
      },
      "execution_count": null,
      "outputs": [
        {
          "output_type": "stream",
          "name": "stdout",
          "text": [
            "Model: \"sequential\"\n",
            "_________________________________________________________________\n",
            " Layer (type)                Output Shape              Param #   \n",
            "=================================================================\n",
            " resnet50 (Functional)       (None, 2048)              23587712  \n",
            "                                                                 \n",
            " flatten (Flatten)           (None, 2048)              0         \n",
            "                                                                 \n",
            " dense (Dense)               (None, 512)               1049088   \n",
            "                                                                 \n",
            " dropout (Dropout)           (None, 512)               0         \n",
            "                                                                 \n",
            " dense_1 (Dense)             (None, 14)                7182      \n",
            "                                                                 \n",
            "=================================================================\n",
            "Total params: 24,643,982\n",
            "Trainable params: 1,056,270\n",
            "Non-trainable params: 23,587,712\n",
            "_________________________________________________________________\n"
          ]
        }
      ]
    },
    {
      "cell_type": "code",
      "source": [
        "# fit the model, log the results and the training time\n",
        "now = datetime.datetime.now\n",
        "t = now()\n",
        "history = resnet_50_model.fit_generator( \n",
        "    train_generator,\n",
        "    epochs = nb_epochs,\n",
        "    steps_per_epoch = nb_train_samples//batch_size,\n",
        "    validation_data = validate_generator,\n",
        "    validation_steps = nb_validate_samples//batch_size)\n",
        "print('Training time: %s' % (now() - t))"
      ],
      "metadata": {
        "colab": {
          "base_uri": "https://localhost:8080/"
        },
        "id": "YIBe-piR59LO",
        "outputId": "ffe311b6-fcfe-4b35-a8e5-7e3ab619d409"
      },
      "execution_count": null,
      "outputs": [
        {
          "output_type": "stream",
          "name": "stderr",
          "text": [
            "<ipython-input-16-71bbc5fb8195>:4: UserWarning: `Model.fit_generator` is deprecated and will be removed in a future version. Please use `Model.fit`, which supports generators.\n",
            "  history = resnet_50_model.fit_generator(\n"
          ]
        },
        {
          "output_type": "stream",
          "name": "stdout",
          "text": [
            "Epoch 1/10\n",
            "165/165 [==============================] - 1120s 7s/step - loss: 0.2256 - accuracy: 0.9272 - val_loss: 0.4415 - val_accuracy: 0.8523\n",
            "Epoch 2/10\n",
            "165/165 [==============================] - 1067s 6s/step - loss: 0.2078 - accuracy: 0.9299 - val_loss: 0.4102 - val_accuracy: 0.8864\n",
            "Epoch 3/10\n",
            "165/165 [==============================] - 1065s 6s/step - loss: 0.2115 - accuracy: 0.9310 - val_loss: 0.4141 - val_accuracy: 0.8778\n",
            "Epoch 4/10\n",
            "165/165 [==============================] - 1065s 6s/step - loss: 0.1982 - accuracy: 0.9322 - val_loss: 0.4391 - val_accuracy: 0.8736\n",
            "Epoch 5/10\n",
            "165/165 [==============================] - 1064s 6s/step - loss: 0.1831 - accuracy: 0.9413 - val_loss: 0.4158 - val_accuracy: 0.8793\n",
            "Epoch 6/10\n",
            "165/165 [==============================] - 1065s 6s/step - loss: 0.1930 - accuracy: 0.9329 - val_loss: 0.4065 - val_accuracy: 0.8807\n",
            "Epoch 7/10\n",
            "165/165 [==============================] - 1063s 6s/step - loss: 0.1734 - accuracy: 0.9414 - val_loss: 0.4155 - val_accuracy: 0.8821\n",
            "Epoch 8/10\n",
            "165/165 [==============================] - 1064s 6s/step - loss: 0.1662 - accuracy: 0.9450 - val_loss: 0.4340 - val_accuracy: 0.8835\n",
            "Epoch 9/10\n",
            "165/165 [==============================] - 1075s 7s/step - loss: 0.1611 - accuracy: 0.9477 - val_loss: 0.4503 - val_accuracy: 0.8778\n",
            "Epoch 10/10\n",
            "165/165 [==============================] - 1069s 6s/step - loss: 0.1610 - accuracy: 0.9477 - val_loss: 0.4222 - val_accuracy: 0.8878\n",
            "Training time: 3:01:31.044707\n"
          ]
        }
      ]
    },
    {
      "cell_type": "code",
      "source": [
        "model = resnet_50_model.save(\"ResNet50_Kvasir_V3.h5\")"
      ],
      "metadata": {
        "id": "kyyCV1WXROMr"
      },
      "execution_count": null,
      "outputs": []
    },
    {
      "cell_type": "code",
      "source": [
        "from keras import models\n",
        "model = models.load_model(\"ResNet50_Kvasir_V3.h5\")"
      ],
      "metadata": {
        "id": "Sn1vCkawRXpI"
      },
      "execution_count": null,
      "outputs": []
    },
    {
      "cell_type": "code",
      "source": [
        "plt.plot(history.history[\"loss\"])\n",
        "plt.plot(history.history[\"val_loss\"])\n",
        "plt.grid()\n",
        "plt.title(\"Model Loss\")\n",
        "plt.ylabel(\"Loss\")\n",
        "plt.xlabel(\"Epochs\")\n",
        "plt.legend([\"train\", \"validation\"])\n",
        "plt.show()"
      ],
      "metadata": {
        "colab": {
          "base_uri": "https://localhost:8080/",
          "height": 295
        },
        "id": "QZ1pOdce9PI5",
        "outputId": "51db0a82-254f-4363-805a-d2a8e40ca9b1"
      },
      "execution_count": null,
      "outputs": [
        {
          "output_type": "display_data",
          "data": {
            "text/plain": [
              "<Figure size 432x288 with 1 Axes>"
            ],
            "image/png": "[encoded data removed]"
          },
          "metadata": {
            "needs_background": "light"
          }
        }
      ]
    },
    {
      "cell_type": "code",
      "source": [
        "X_test, Y_test = next(test_generator)"
      ],
      "metadata": {
        "id": "mUinuGB9TGDg"
      },
      "execution_count": null,
      "outputs": []
    },
    {
      "cell_type": "code",
      "source": [
        "print(X_test,Y_test)"
      ],
      "metadata": {
        "colab": {
          "base_uri": "https://localhost:8080/"
        },
        "id": "P1ajbJ4gTJJC",
        "outputId": "8e9878fe-630c-4901-e8e3-5d7250e225b3"
      },
      "execution_count": null,
      "outputs": [
        {
          "output_type": "stream",
          "name": "stdout",
          "text": [
            "[[[[3.00000000e+00 3.00000000e+00 3.00000000e+00]\n",
            "   [3.00000000e+00 3.00000000e+00 3.00000000e+00]\n",
            "   [3.00000000e+00 3.00000000e+00 3.00000000e+00]\n",
            "   ...\n",
            "   [1.00000000e+00 1.00000000e+00 1.00000000e+00]\n",
            "   [1.00000000e+00 1.00000000e+00 1.00000000e+00]\n",
            "   [1.00000000e+00 1.00000000e+00 1.00000000e+00]]\n",
            "\n",
            "  [[3.00000000e+00 3.00000000e+00 3.00000000e+00]\n",
            "   [3.00000000e+00 3.00000000e+00 3.00000000e+00]\n",
            "   [3.00000000e+00 3.00000000e+00 3.00000000e+00]\n",
            "   ...\n",
            "   [1.00000000e+00 1.00000000e+00 1.00000000e+00]\n",
            "   [1.00000000e+00 1.00000000e+00 1.00000000e+00]\n",
            "   [1.00000000e+00 1.00000000e+00 1.00000000e+00]]\n",
            "\n",
            "  [[3.00000000e+00 3.00000000e+00 3.00000000e+00]\n",
            "   [3.00000000e+00 3.00000000e+00 3.00000000e+00]\n",
            "   [3.00000000e+00 3.00000000e+00 3.00000000e+00]\n",
            "   ...\n",
            "   [1.00000000e+00 1.00000000e+00 1.00000000e+00]\n",
            "   [1.00000000e+00 1.00000000e+00 1.00000000e+00]\n",
            "   [1.00000000e+00 1.00000000e+00 1.00000000e+00]]\n",
            "\n",
            "  ...\n",
            "\n",
            "  [[6.70000000e+01 1.39000000e+02 1.27000000e+02]\n",
            "   [6.70000000e+01 1.39000000e+02 1.27000000e+02]\n",
            "   [6.70000000e+01 1.39000000e+02 1.27000000e+02]\n",
            "   ...\n",
            "   [0.00000000e+00 0.00000000e+00 0.00000000e+00]\n",
            "   [0.00000000e+00 0.00000000e+00 0.00000000e+00]\n",
            "   [0.00000000e+00 0.00000000e+00 0.00000000e+00]]\n",
            "\n",
            "  [[6.73787155e+01 1.38621292e+02 1.27000000e+02]\n",
            "   [6.75718918e+01 1.38428101e+02 1.27000000e+02]\n",
            "   [6.77650757e+01 1.38234924e+02 1.27000000e+02]\n",
            "   ...\n",
            "   [0.00000000e+00 0.00000000e+00 0.00000000e+00]\n",
            "   [0.00000000e+00 0.00000000e+00 0.00000000e+00]\n",
            "   [0.00000000e+00 0.00000000e+00 0.00000000e+00]]\n",
            "\n",
            "  [[6.80000000e+01 1.40159256e+02 1.28439499e+02]\n",
            "   [6.80000000e+01 1.41318344e+02 1.29212234e+02]\n",
            "   [6.80000000e+01 1.42477432e+02 1.29984955e+02]\n",
            "   ...\n",
            "   [0.00000000e+00 0.00000000e+00 0.00000000e+00]\n",
            "   [0.00000000e+00 0.00000000e+00 0.00000000e+00]\n",
            "   [0.00000000e+00 0.00000000e+00 0.00000000e+00]]]\n",
            "\n",
            "\n",
            " [[[4.00000000e+00 4.00000000e+00 4.00000000e+00]\n",
            "   [4.00000000e+00 4.00000000e+00 4.00000000e+00]\n",
            "   [4.00000000e+00 4.00000000e+00 4.00000000e+00]\n",
            "   ...\n",
            "   [5.00000000e+00 5.00000000e+00 5.00000000e+00]\n",
            "   [5.00000000e+00 5.00000000e+00 5.00000000e+00]\n",
            "   [5.00000000e+00 5.00000000e+00 5.00000000e+00]]\n",
            "\n",
            "  [[4.83355188e+00 4.83355188e+00 4.83355188e+00]\n",
            "   [4.82610369e+00 4.82610369e+00 4.82610369e+00]\n",
            "   [4.67129803e+00 4.67129803e+00 4.67129803e+00]\n",
            "   ...\n",
            "   [4.84513140e+00 4.84513140e+00 4.84513140e+00]\n",
            "   [4.96869421e+00 4.96869421e+00 4.96869421e+00]\n",
            "   [4.82742167e+00 4.82742167e+00 4.82742167e+00]]\n",
            "\n",
            "  [[4.16647577e+00 4.16647577e+00 4.16647577e+00]\n",
            "   [4.17392397e+00 4.17392397e+00 4.17392397e+00]\n",
            "   [4.14737463e+00 4.14737463e+00 4.14737463e+00]\n",
            "   ...\n",
            "   [4.14737463e+00 4.14737463e+00 4.14737463e+00]\n",
            "   [4.67129803e+00 4.67129803e+00 4.67129803e+00]\n",
            "   [4.00000000e+00 4.00000000e+00 4.00000000e+00]]\n",
            "\n",
            "  ...\n",
            "\n",
            "  [[1.56363964e+01 1.56363964e+01 1.56363964e+01]\n",
            "   [1.50979252e+01 1.50979252e+01 1.50979252e+01]\n",
            "   [1.59720774e+01 1.56651783e+01 1.58186274e+01]\n",
            "   ...\n",
            "   [2.30082417e+00 2.30082417e+00 2.30082417e+00]\n",
            "   [2.17392421e+00 2.17392421e+00 2.17392421e+00]\n",
            "   [2.16647577e+00 2.16647577e+00 2.16647577e+00]]\n",
            "\n",
            "  [[4.95708418e+00 4.95708418e+00 4.95708418e+00]\n",
            "   [5.16032076e+00 5.16032076e+00 5.16032076e+00]\n",
            "   [4.73336172e+00 4.73336172e+00 3.39094734e+00]\n",
            "   ...\n",
            "   [2.85264277e+00 2.85264277e+00 2.85264277e+00]\n",
            "   [3.00000000e+00 3.00000000e+00 3.00000000e+00]\n",
            "   [3.00000000e+00 3.00000000e+00 3.00000000e+00]]\n",
            "\n",
            "  [[2.83357954e+00 2.83357954e+00 2.83357954e+00]\n",
            "   [3.00000000e+00 3.00000000e+00 3.00000000e+00]\n",
            "   [2.16647577e+00 2.16647577e+00 4.99427468e-01]\n",
            "   ...\n",
            "   [2.84996939e+00 2.84996939e+00 2.84996939e+00]\n",
            "   [2.96999407e+00 2.96999407e+00 2.96999407e+00]\n",
            "   [3.00000000e+00 3.00000000e+00 3.00000000e+00]]]\n",
            "\n",
            "\n",
            " [[[2.00000000e+00 2.00000000e+00 2.00000000e+00]\n",
            "   [2.00000000e+00 2.00000000e+00 2.00000000e+00]\n",
            "   [2.00000000e+00 2.00000000e+00 3.70576829e-01]\n",
            "   ...\n",
            "   [2.00000000e+00 2.00000000e+00 2.00000000e+00]\n",
            "   [2.00000000e+00 2.00000000e+00 2.00000000e+00]\n",
            "   [2.00000000e+00 2.00000000e+00 2.00000000e+00]]\n",
            "\n",
            "  [[2.00000000e+00 2.00000000e+00 2.00000000e+00]\n",
            "   [2.16019988e+00 2.16019988e+00 2.16019988e+00]\n",
            "   [2.20568109e+00 2.20568109e+00 5.90819657e-01]\n",
            "   ...\n",
            "   [2.00000000e+00 2.00000000e+00 2.00000000e+00]\n",
            "   [2.00000000e+00 2.00000000e+00 2.00000000e+00]\n",
            "   [2.00000000e+00 2.00000000e+00 2.00000000e+00]]\n",
            "\n",
            "  [[2.00000000e+00 2.00000000e+00 2.00000000e+00]\n",
            "   [2.64144230e+00 2.64144230e+00 2.64144230e+00]\n",
            "   [2.79434538e+00 2.79434538e+00 1.19404531e+00]\n",
            "   ...\n",
            "   [2.00000000e+00 2.00000000e+00 2.00000000e+00]\n",
            "   [2.00000000e+00 2.00000000e+00 2.00000000e+00]\n",
            "   [2.00000000e+00 2.00000000e+00 2.00000000e+00]]\n",
            "\n",
            "  ...\n",
            "\n",
            "  [[0.00000000e+00 0.00000000e+00 0.00000000e+00]\n",
            "   [0.00000000e+00 0.00000000e+00 0.00000000e+00]\n",
            "   [0.00000000e+00 0.00000000e+00 0.00000000e+00]\n",
            "   ...\n",
            "   [1.80300865e+01 1.63917801e+02 1.32318100e+02]\n",
            "   [1.73564014e+01 1.63162338e+02 1.29118530e+02]\n",
            "   [3.21765633e+01 1.57386246e+02 1.24199799e+02]]\n",
            "\n",
            "  [[0.00000000e+00 0.00000000e+00 0.00000000e+00]\n",
            "   [0.00000000e+00 0.00000000e+00 0.00000000e+00]\n",
            "   [0.00000000e+00 0.00000000e+00 0.00000000e+00]\n",
            "   ...\n",
            "   [7.30182934e+00 6.58103943e+01 5.34492950e+01]\n",
            "   [5.27729273e+00 6.60902481e+01 5.17069511e+01]\n",
            "   [1.15999727e+01 6.26058578e+01 4.86551933e+01]]\n",
            "\n",
            "  [[0.00000000e+00 0.00000000e+00 0.00000000e+00]\n",
            "   [0.00000000e+00 0.00000000e+00 0.00000000e+00]\n",
            "   [3.81798297e-02 3.81798297e-02 3.81798297e-02]\n",
            "   ...\n",
            "   [4.44413471e+00 4.03705750e+01 3.30000000e+01]\n",
            "   [2.37052393e+00 4.20000000e+01 3.26294746e+01]\n",
            "   [6.59329557e+00 4.03328819e+01 3.08147640e+01]]]\n",
            "\n",
            "\n",
            " ...\n",
            "\n",
            "\n",
            " [[[1.22186050e-01 1.22186050e-01 1.22186050e-01]\n",
            "   [3.02084774e-01 3.02084774e-01 3.02084774e-01]\n",
            "   [4.81983483e-01 4.81983483e-01 4.81983483e-01]\n",
            "   ...\n",
            "   [2.84518433e+00 2.84518433e+00 2.84518433e+00]\n",
            "   [2.13850093e+00 2.13850093e+00 2.13850093e+00]\n",
            "   [3.00000000e+00 3.24437213e+00 3.12218595e+00]]\n",
            "\n",
            "  [[0.00000000e+00 0.00000000e+00 0.00000000e+00]\n",
            "   [0.00000000e+00 0.00000000e+00 0.00000000e+00]\n",
            "   [0.00000000e+00 0.00000000e+00 0.00000000e+00]\n",
            "   ...\n",
            "   [2.66528559e+00 2.66528559e+00 2.66528559e+00]\n",
            "   [2.31839967e+00 2.31839967e+00 2.31839967e+00]\n",
            "   [3.00000000e+00 3.60416961e+00 3.30208468e+00]]\n",
            "\n",
            "  [[0.00000000e+00 0.00000000e+00 0.00000000e+00]\n",
            "   [0.00000000e+00 0.00000000e+00 0.00000000e+00]\n",
            "   [0.00000000e+00 0.00000000e+00 0.00000000e+00]\n",
            "   ...\n",
            "   [2.48538685e+00 2.48538685e+00 2.48538685e+00]\n",
            "   [2.49829841e+00 2.49829841e+00 2.49829841e+00]\n",
            "   [3.00000000e+00 3.96396708e+00 3.48198342e+00]]\n",
            "\n",
            "  ...\n",
            "\n",
            "  [[0.00000000e+00 0.00000000e+00 0.00000000e+00]\n",
            "   [0.00000000e+00 0.00000000e+00 0.00000000e+00]\n",
            "   [0.00000000e+00 0.00000000e+00 0.00000000e+00]\n",
            "   ...\n",
            "   [6.89415436e+01 1.41485382e+02 1.26000000e+02]\n",
            "   [6.96611404e+01 1.41665283e+02 1.26000000e+02]\n",
            "   [7.03807373e+01 1.41845184e+02 1.26000000e+02]]\n",
            "\n",
            "  [[0.00000000e+00 0.00000000e+00 0.00000000e+00]\n",
            "   [0.00000000e+00 0.00000000e+00 0.00000000e+00]\n",
            "   [0.00000000e+00 0.00000000e+00 0.00000000e+00]\n",
            "   ...\n",
            "   [6.74982986e+01 1.41498291e+02 1.26498299e+02]\n",
            "   [6.73183975e+01 1.41318405e+02 1.26318398e+02]\n",
            "   [6.71385040e+01 1.41138504e+02 1.26138504e+02]]\n",
            "\n",
            "  [[0.00000000e+00 0.00000000e+00 0.00000000e+00]\n",
            "   [0.00000000e+00 0.00000000e+00 0.00000000e+00]\n",
            "   [0.00000000e+00 0.00000000e+00 0.00000000e+00]\n",
            "   ...\n",
            "   [6.84819870e+01 1.41036026e+02 1.26518013e+02]\n",
            "   [6.83020859e+01 1.41395828e+02 1.26697914e+02]\n",
            "   [6.81221848e+01 1.41755630e+02 1.26877815e+02]]]\n",
            "\n",
            "\n",
            " [[[1.00000000e+00 1.00000000e+00 7.47978687e-01]\n",
            "   [1.73574924e+00 1.73574924e+00 1.73574924e+00]\n",
            "   [2.00000000e+00 2.00000000e+00 2.00000000e+00]\n",
            "   ...\n",
            "   [1.56384921e+00 1.56384921e+00 1.56384921e+00]\n",
            "   [1.40793526e+00 1.40793526e+00 1.40793526e+00]\n",
            "   [1.25202131e+00 1.25202131e+00 1.25202131e+00]]\n",
            "\n",
            "  [[1.00000000e+00 1.00000000e+00 5.92064738e-01]\n",
            "   [1.57983530e+00 1.57983530e+00 1.57983530e+00]\n",
            "   [2.00000000e+00 2.00000000e+00 2.00000000e+00]\n",
            "   ...\n",
            "   [1.42392147e+00 5.76078594e-01 1.00000000e+00]\n",
            "   [1.57983530e+00 4.20164645e-01 1.00000000e+00]\n",
            "   [1.73574924e+00 2.64250696e-01 1.00000000e+00]]\n",
            "\n",
            "  [[1.00000000e+00 1.00000000e+00 4.36150759e-01]\n",
            "   [1.42392147e+00 1.42392147e+00 1.42392147e+00]\n",
            "   [2.00000000e+00 2.00000000e+00 2.00000000e+00]\n",
            "   ...\n",
            "   [1.17661595e+00 8.23384106e-01 1.00000000e+00]\n",
            "   [8.64787996e-01 1.13521194e+00 1.00000000e+00]\n",
            "   [5.52960098e-01 1.44703984e+00 1.00000000e+00]]\n",
            "\n",
            "  ...\n",
            "\n",
            "  [[6.60000000e+01 1.43000000e+02 1.25552963e+02]\n",
            "   [6.60000000e+01 1.43000000e+02 1.25864784e+02]\n",
            "   [6.60000000e+01 1.43000000e+02 1.26176613e+02]\n",
            "   ...\n",
            "   [1.23507619e+00 2.05846024e+00 8.23384106e-01]\n",
            "   [0.00000000e+00 0.00000000e+00 0.00000000e+00]\n",
            "   [0.00000000e+00 0.00000000e+00 0.00000000e+00]]\n",
            "\n",
            "  [[6.54714966e+01 1.42471497e+02 1.26471497e+02]\n",
            "   [6.51596680e+01 1.42159668e+02 1.26159668e+02]\n",
            "   [6.48478394e+01 1.41847839e+02 1.25847839e+02]\n",
            "   ...\n",
            "   [1.70281804e+00 2.83803010e+00 1.13521194e+00]\n",
            "   [0.00000000e+00 0.00000000e+00 0.00000000e+00]\n",
            "   [0.00000000e+00 0.00000000e+00 0.00000000e+00]]\n",
            "\n",
            "  [[6.42520218e+01 1.41252014e+02 1.24747978e+02]\n",
            "   [6.44079361e+01 1.41407928e+02 1.24592064e+02]\n",
            "   [6.45638504e+01 1.41563843e+02 1.24436150e+02]\n",
            "   ...\n",
            "   [2.17055988e+00 3.61759973e+00 1.44703984e+00]\n",
            "   [0.00000000e+00 0.00000000e+00 0.00000000e+00]\n",
            "   [0.00000000e+00 0.00000000e+00 0.00000000e+00]]]\n",
            "\n",
            "\n",
            " [[[2.43938231e+00 3.21969128e+00 6.34092617e+00]\n",
            "   [8.05998516e+00 5.66090298e+00 3.26182079e+00]\n",
            "   [3.82506676e+01 2.27108955e+01 7.46991920e+00]\n",
            "   ...\n",
            "   [1.00000000e+00 1.00000000e+00 1.00000000e+00]\n",
            "   [1.00000000e+00 1.00000000e+00 1.00000000e+00]\n",
            "   [1.00000000e+00 1.00000000e+00 1.00000000e+00]]\n",
            "\n",
            "  [[2.00000000e+00 3.04309678e+00 6.82761288e+00]\n",
            "   [3.84351349e+00 3.92175674e+00 4.23472977e+00]\n",
            "   [2.35054283e+01 1.19794931e+01 4.53558624e-01]\n",
            "   ...\n",
            "   [1.00000000e+00 1.00000000e+00 1.00000000e+00]\n",
            "   [1.00000000e+00 1.00000000e+00 1.00000000e+00]\n",
            "   [1.00000000e+00 1.00000000e+00 1.00000000e+00]]\n",
            "\n",
            "  [[2.00000000e+00 3.30588484e+00 5.77646065e+00]\n",
            "   [3.31793737e+00 3.65896869e+00 5.02309370e+00]\n",
            "   [1.77240906e+01 9.61440086e+00 1.50471079e+00]\n",
            "   ...\n",
            "   [1.00000000e+00 1.00000000e+00 1.00000000e+00]\n",
            "   [1.00000000e+00 1.00000000e+00 1.00000000e+00]\n",
            "   [1.00000000e+00 1.00000000e+00 1.00000000e+00]]\n",
            "\n",
            "  ...\n",
            "\n",
            "  [[6.91493988e+01 1.43149399e+02 1.30149399e+02]\n",
            "   [6.91133881e+01 1.42886612e+02 1.30000000e+02]\n",
            "   [6.93761749e+01 1.42623825e+02 1.30000000e+02]\n",
            "   ...\n",
            "   [9.00094223e+01 6.35141335e+01 3.92570648e+01]\n",
            "   [8.95435028e+01 6.75896835e+01 4.09538116e+01]\n",
            "   [6.55410690e+01 4.75410652e+01 2.78234539e+01]]\n",
            "\n",
            "  [[6.98154526e+01 1.42184540e+02 1.30000000e+02]\n",
            "   [7.00000000e+01 1.42000000e+02 1.30000000e+02]\n",
            "   [7.00000000e+01 1.42000000e+02 1.30000000e+02]\n",
            "   ...\n",
            "   [8.79071198e+01 6.03606758e+01 3.76803398e+01]\n",
            "   [9.37481079e+01 7.02175674e+01 4.25305405e+01]\n",
            "   [7.71037369e+01 5.91037407e+01 3.57070961e+01]]\n",
            "\n",
            "  [[7.00000000e+01 1.42000000e+02 1.30000000e+02]\n",
            "   [6.99569016e+01 1.42043091e+02 1.30000000e+02]\n",
            "   [6.96941147e+01 1.42305878e+02 1.30000000e+02]\n",
            "   ...\n",
            "   [8.84939804e+01 5.98963890e+01 3.80457878e+01]\n",
            "   [9.35236435e+01 6.87854614e+01 4.18927307e+01]\n",
            "   [8.25150604e+01 6.31969109e+01 3.83181458e+01]]]] [[0. 1. 0. 0. 0. 0. 0. 0. 0. 0. 0. 0. 0. 0.]\n",
            " [0. 0. 0. 0. 0. 0. 0. 0. 0. 0. 0. 0. 0. 1.]\n",
            " [0. 1. 0. 0. 0. 0. 0. 0. 0. 0. 0. 0. 0. 0.]\n",
            " [0. 0. 0. 0. 0. 0. 1. 0. 0. 0. 0. 0. 0. 0.]\n",
            " [0. 0. 0. 0. 0. 0. 1. 0. 0. 0. 0. 0. 0. 0.]\n",
            " [0. 0. 0. 0. 1. 0. 0. 0. 0. 0. 0. 0. 0. 0.]\n",
            " [0. 0. 0. 1. 0. 0. 0. 0. 0. 0. 0. 0. 0. 0.]\n",
            " [1. 0. 0. 0. 0. 0. 0. 0. 0. 0. 0. 0. 0. 0.]\n",
            " [0. 1. 0. 0. 0. 0. 0. 0. 0. 0. 0. 0. 0. 0.]\n",
            " [1. 0. 0. 0. 0. 0. 0. 0. 0. 0. 0. 0. 0. 0.]\n",
            " [0. 1. 0. 0. 0. 0. 0. 0. 0. 0. 0. 0. 0. 0.]\n",
            " [0. 0. 1. 0. 0. 0. 0. 0. 0. 0. 0. 0. 0. 0.]\n",
            " [0. 0. 0. 1. 0. 0. 0. 0. 0. 0. 0. 0. 0. 0.]\n",
            " [0. 0. 0. 1. 0. 0. 0. 0. 0. 0. 0. 0. 0. 0.]\n",
            " [0. 0. 1. 0. 0. 0. 0. 0. 0. 0. 0. 0. 0. 0.]\n",
            " [0. 0. 0. 0. 0. 0. 0. 1. 0. 0. 0. 0. 0. 0.]\n",
            " [0. 0. 0. 0. 0. 0. 0. 0. 1. 0. 0. 0. 0. 0.]\n",
            " [1. 0. 0. 0. 0. 0. 0. 0. 0. 0. 0. 0. 0. 0.]\n",
            " [0. 1. 0. 0. 0. 0. 0. 0. 0. 0. 0. 0. 0. 0.]\n",
            " [0. 1. 0. 0. 0. 0. 0. 0. 0. 0. 0. 0. 0. 0.]\n",
            " [0. 0. 0. 0. 0. 0. 0. 1. 0. 0. 0. 0. 0. 0.]\n",
            " [0. 0. 0. 0. 0. 0. 1. 0. 0. 0. 0. 0. 0. 0.]\n",
            " [0. 0. 0. 1. 0. 0. 0. 0. 0. 0. 0. 0. 0. 0.]\n",
            " [0. 0. 0. 1. 0. 0. 0. 0. 0. 0. 0. 0. 0. 0.]\n",
            " [0. 0. 0. 0. 1. 0. 0. 0. 0. 0. 0. 0. 0. 0.]\n",
            " [0. 0. 0. 1. 0. 0. 0. 0. 0. 0. 0. 0. 0. 0.]\n",
            " [0. 0. 0. 1. 0. 0. 0. 0. 0. 0. 0. 0. 0. 0.]\n",
            " [0. 0. 0. 0. 1. 0. 0. 0. 0. 0. 0. 0. 0. 0.]\n",
            " [0. 0. 0. 0. 0. 0. 0. 0. 0. 1. 0. 0. 0. 0.]\n",
            " [0. 0. 0. 0. 1. 0. 0. 0. 0. 0. 0. 0. 0. 0.]\n",
            " [0. 0. 0. 1. 0. 0. 0. 0. 0. 0. 0. 0. 0. 0.]\n",
            " [1. 0. 0. 0. 0. 0. 0. 0. 0. 0. 0. 0. 0. 0.]]\n"
          ]
        }
      ]
    },
    {
      "cell_type": "code",
      "source": [
        "y_true=[]\n",
        "for i in range(len(Y_test)):\n",
        "    K= Y_test[i]\n",
        "    \n",
        "    y_true.append(list(K).index(max(list(K))))"
      ],
      "metadata": {
        "id": "HtLLlZcZTQNj"
      },
      "execution_count": null,
      "outputs": []
    },
    {
      "cell_type": "code",
      "source": [
        "print(y_true)"
      ],
      "metadata": {
        "colab": {
          "base_uri": "https://localhost:8080/"
        },
        "id": "jzT40knQTTL_",
        "outputId": "1d80ea00-fa98-451b-c514-349cac2ee624"
      },
      "execution_count": null,
      "outputs": [
        {
          "output_type": "stream",
          "name": "stdout",
          "text": [
            "[1, 13, 1, 6, 6, 4, 3, 0, 1, 0, 1, 2, 3, 3, 2, 7, 8, 0, 1, 1, 7, 6, 3, 3, 4, 3, 3, 4, 9, 4, 3, 0]\n"
          ]
        }
      ]
    },
    {
      "cell_type": "code",
      "source": [
        "M = resnet_50_model.predict(X_test)\n",
        "X_t=[]\n",
        "for i in range(len(M)):\n",
        "    K= M[i]\n",
        "    X_t.append(list(K).index(max(list(K))))"
      ],
      "metadata": {
        "colab": {
          "base_uri": "https://localhost:8080/"
        },
        "id": "PAjadVxYTWzq",
        "outputId": "4c3d5b86-9a30-437e-dd87-1840edee5dcd"
      },
      "execution_count": null,
      "outputs": [
        {
          "output_type": "stream",
          "name": "stdout",
          "text": [
            "1/1 [==============================] - 7s 7s/step\n"
          ]
        }
      ]
    },
    {
      "cell_type": "code",
      "source": [
        "print(X_t)"
      ],
      "metadata": {
        "colab": {
          "base_uri": "https://localhost:8080/"
        },
        "id": "bKP88madTZOt",
        "outputId": "640239a2-ce1d-4674-d264-e60b4e1ffd89"
      },
      "execution_count": null,
      "outputs": [
        {
          "output_type": "stream",
          "name": "stdout",
          "text": [
            "[1, 0, 1, 6, 6, 4, 3, 0, 1, 0, 1, 2, 3, 3, 2, 7, 2, 0, 1, 1, 7, 7, 3, 3, 4, 3, 3, 3, 2, 4, 3, 0]\n"
          ]
        }
      ]
    },
    {
      "cell_type": "code",
      "source": [
        "print(classification_report(y_true, X_t, zero_division = 0))"
      ],
      "metadata": {
        "colab": {
          "base_uri": "https://localhost:8080/"
        },
        "id": "A6laPoSBLfxi",
        "outputId": "9e88c5c4-e058-4ed7-85e3-aec1f76db6b7"
      },
      "execution_count": null,
      "outputs": [
        {
          "output_type": "stream",
          "name": "stdout",
          "text": [
            "              precision    recall  f1-score   support\n",
            "\n",
            "           0       0.80      1.00      0.89         4\n",
            "           1       1.00      1.00      1.00         6\n",
            "           2       0.50      1.00      0.67         2\n",
            "           3       0.89      1.00      0.94         8\n",
            "           4       1.00      0.75      0.86         4\n",
            "           6       1.00      0.67      0.80         3\n",
            "           7       0.67      1.00      0.80         2\n",
            "           8       0.00      0.00      0.00         1\n",
            "           9       0.00      0.00      0.00         1\n",
            "          13       0.00      0.00      0.00         1\n",
            "\n",
            "    accuracy                           0.84        32\n",
            "   macro avg       0.59      0.64      0.60        32\n",
            "weighted avg       0.80      0.84      0.81        32\n",
            "\n"
          ]
        }
      ]
    },
    {
      "cell_type": "code",
      "source": [
        "print(confusion_matrix(y_true,X_t))"
      ],
      "metadata": {
        "id": "w4y9iaRJLjOK",
        "outputId": "ab9a210e-343c-457d-c7e1-4c4ad2421715",
        "colab": {
          "base_uri": "https://localhost:8080/"
        }
      },
      "execution_count": null,
      "outputs": [
        {
          "output_type": "stream",
          "name": "stdout",
          "text": [
            "[[4 0 0 0 0 0 0 0 0 0]\n",
            " [0 6 0 0 0 0 0 0 0 0]\n",
            " [0 0 2 0 0 0 0 0 0 0]\n",
            " [0 0 0 8 0 0 0 0 0 0]\n",
            " [0 0 0 1 3 0 0 0 0 0]\n",
            " [0 0 0 0 0 2 1 0 0 0]\n",
            " [0 0 0 0 0 0 2 0 0 0]\n",
            " [0 0 1 0 0 0 0 0 0 0]\n",
            " [0 0 1 0 0 0 0 0 0 0]\n",
            " [1 0 0 0 0 0 0 0 0 0]]\n"
          ]
        }
      ]
    },
    {
      "cell_type": "code",
      "source": [],
      "metadata": {
        "id": "u9EikaP4ZAN3"
      },
      "execution_count": null,
      "outputs": []
    }
  ]
}