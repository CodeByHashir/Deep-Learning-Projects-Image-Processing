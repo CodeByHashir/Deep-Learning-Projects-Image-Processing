{
  "nbformat": 4,
  "nbformat_minor": 0,
  "metadata": {
    "colab": {
      "provenance": []
    },
    "kernelspec": {
      "name": "python3",
      "display_name": "Python 3"
    },
    "language_info": {
      "name": "python"
    },
    "accelerator": "GPU"
  },
  "cells": [
    {
      "cell_type": "code",
      "source": [
        "# THIS CODE IS DONE DONT MAKE CHANGES IN IT ------\"Kvasir dataset\"--------"
      ],
      "metadata": {
        "id": "HTFFlG7IXw4t"
      },
      "execution_count": null,
      "outputs": []
    },
    {
      "cell_type": "code",
      "source": [
        "!pip install tensorflow"
      ],
      "metadata": {
        "id": "9WrD97drFEu_"
      },
      "execution_count": null,
      "outputs": []
    },
    {
      "cell_type": "code",
      "execution_count": null,
      "metadata": {
        "id": "SLMopQZo4dUJ"
      },
      "outputs": [],
      "source": [
        "# import pertinent libraries\n",
        "import os\n",
        "import datetime\n",
        "import glob as glob\n",
        "import numpy as np\n",
        "from keras.models import Model, Sequential\n",
        "from keras.layers import Input, Add, Dense, Dropout, Activation, ZeroPadding2D, BatchNormalization, Flatten, Conv2D, AveragePooling2D, MaxPooling2D, GlobalMaxPooling2D,MaxPool2D\n",
        "from keras.preprocessing.image import ImageDataGenerator\n",
        "from tensorflow import keras\n",
        "import tensorflow as tf\n",
        "import matplotlib.pyplot as plt\n",
        "from sklearn.metrics import classification_report, confusion_matrix\n",
        "from tensorflow.keras.optimizers import Adam\n",
        "from tensorflow.keras.callbacks import EarlyStopping"
      ]
    },
    {
      "cell_type": "code",
      "source": [
        "from google.colab import drive\n",
        "drive.mount('/content/drive')"
      ],
      "metadata": {
        "colab": {
          "base_uri": "https://localhost:8080/"
        },
        "id": "kJmKjzzSE6MX",
        "outputId": "0c327b51-4783-4c86-b65d-7e6bce94598b"
      },
      "execution_count": null,
      "outputs": [
        {
          "output_type": "stream",
          "name": "stdout",
          "text": [
            "Drive already mounted at /content/drive; to attempt to forcibly remount, call drive.mount(\"/content/drive\", force_remount=True).\n"
          ]
        }
      ]
    },
    {
      "cell_type": "code",
      "source": [
        "img_width, img_height = 224, 224\n",
        "\n",
        "train_dir = '/content/drive/MyDrive/Data_Sets_of_abnormality_in_large_intestine/kvasir_dataset/train'\n",
        "validate_dir = '/content/drive/MyDrive/Data_Sets_of_abnormality_in_large_intestine/kvasir_dataset/val'\n",
        "test_dir = '/content/drive/MyDrive/Data_Sets_of_abnormality_in_large_intestine/kvasir_dataset/test'\n",
        "nb_epochs = 10\n",
        "batch_size = 32\n",
        "nb_classes = len(glob.glob(train_dir + '/*'))\n",
        "\n",
        "# get number of images in training directory\n",
        "nb_train_samples = 0\n",
        "for r, dirs, files in os.walk(train_dir):\n",
        "    for dr in dirs:\n",
        "        nb_train_samples += len(glob.glob(os.path.join(r, dr + \"/*\")))\n",
        "# get number of images in validation directory\n",
        "nb_validate_samples = 0\n",
        "for r, dirs, files in os.walk(validate_dir):\n",
        "    for dr in dirs:\n",
        "        nb_validate_samples += len(glob.glob(os.path.join(r, dr + \"/*\")))\n",
        "# get the number of images in test directory\n",
        "nb_test_samples = 0\n",
        "for r, dirs, files in os.walk(test_dir):\n",
        "    for dr in dirs:\n",
        "        nb_test_samples += len(glob.glob(os.path.join(r, dr + \"/*\")))"
      ],
      "metadata": {
        "id": "_0p8ddiH5G5j"
      },
      "execution_count": null,
      "outputs": []
    },
    {
      "cell_type": "code",
      "source": [
        "print(nb_classes)"
      ],
      "metadata": {
        "colab": {
          "base_uri": "https://localhost:8080/"
        },
        "id": "qu2ey6cg5Y4E",
        "outputId": "7fc9bae7-ca9c-4302-8772-78cd88db853e"
      },
      "execution_count": null,
      "outputs": [
        {
          "output_type": "stream",
          "name": "stdout",
          "text": [
            "8\n"
          ]
        }
      ]
    },
    {
      "cell_type": "code",
      "source": [
        "# Data preprocessing for training\n",
        "train_datagen =  ImageDataGenerator(\n",
        "    rotation_range = 20,\n",
        "    fill_mode = 'nearest',\n",
        "    horizontal_flip = True)"
      ],
      "metadata": {
        "id": "sari641T5dEE"
      },
      "execution_count": null,
      "outputs": []
    },
    {
      "cell_type": "code",
      "source": [
        "# data pre-processing for validation\n",
        "validate_datagen =  ImageDataGenerator(\n",
        "    rotation_range = 20,\n",
        "    fill_mode = 'nearest',\n",
        "    horizontal_flip = True)"
      ],
      "metadata": {
        "id": "X9IxG8fZ5hmJ"
      },
      "execution_count": null,
      "outputs": []
    },
    {
      "cell_type": "code",
      "source": [
        "# data pre-processing for testing\n",
        "test_datagen =  ImageDataGenerator(\n",
        "    rotation_range = 20,\n",
        "    fill_mode = 'nearest',\n",
        "    horizontal_flip = True)"
      ],
      "metadata": {
        "id": "ejNveqWHB2kY"
      },
      "execution_count": null,
      "outputs": []
    },
    {
      "cell_type": "code",
      "source": [
        "# generate and store training data\n",
        "train_generator = train_datagen.flow_from_directory(\n",
        "    train_dir,\n",
        "    target_size = (img_width, img_height),\n",
        "    batch_size = batch_size)"
      ],
      "metadata": {
        "colab": {
          "base_uri": "https://localhost:8080/"
        },
        "id": "9DqEtkzJB4_o",
        "outputId": "74114ff2-32d0-4d00-ead6-d6fb9c47fdb4"
      },
      "execution_count": null,
      "outputs": [
        {
          "output_type": "stream",
          "name": "stdout",
          "text": [
            "Found 3200 images belonging to 8 classes.\n"
          ]
        }
      ]
    },
    {
      "cell_type": "code",
      "source": [
        "# generate and store validation data\n",
        "validate_generator = validate_datagen.flow_from_directory(\n",
        "    validate_dir,\n",
        "    target_size = (img_width, img_height),\n",
        "    batch_size = batch_size)"
      ],
      "metadata": {
        "colab": {
          "base_uri": "https://localhost:8080/"
        },
        "id": "N0yCqRGZB9uf",
        "outputId": "953ca9a1-4715-4d98-c1e2-a8ad3ed1818c"
      },
      "execution_count": null,
      "outputs": [
        {
          "output_type": "stream",
          "name": "stdout",
          "text": [
            "Found 400 images belonging to 8 classes.\n"
          ]
        }
      ]
    },
    {
      "cell_type": "code",
      "source": [
        "# generate and store test data\n",
        "test_generator = validate_datagen.flow_from_directory(\n",
        "    test_dir,\n",
        "    target_size = (img_width, img_height),\n",
        "    batch_size = batch_size)"
      ],
      "metadata": {
        "colab": {
          "base_uri": "https://localhost:8080/"
        },
        "id": "Tt-ImVBvCA83",
        "outputId": "cb030f73-17e0-405d-b3ce-69819d1fbcb6"
      },
      "execution_count": null,
      "outputs": [
        {
          "output_type": "stream",
          "name": "stdout",
          "text": [
            "Found 400 images belonging to 8 classes.\n"
          ]
        }
      ]
    },
    {
      "cell_type": "code",
      "source": [
        "# building model\n",
        "resnet_50_model = Sequential()\n",
        "\n",
        "pretrained_model= tf.keras.applications.ResNet50(include_top=False,\n",
        "                   input_shape=(224,224,3),\n",
        "                   pooling='avg',classes=8,\n",
        "                   weights='imagenet')\n",
        "for layer in pretrained_model.layers:\n",
        "        layer.trainable=False\n",
        "\n",
        "resnet_50_model.add(pretrained_model)\n",
        "resnet_50_model.add(Flatten())\n",
        "resnet_50_model.add(Dense(512, activation='relu'))\n",
        "resnet_50_model.add(Dropout(0.5))\n",
        "resnet_50_model.add(Dense(8, activation='softmax'))   # making flatten vector"
      ],
      "metadata": {
        "id": "wbJBIVM4uYLc",
        "colab": {
          "base_uri": "https://localhost:8080/"
        },
        "outputId": "17183a03-8c83-4995-e2d2-5d8e233677a0"
      },
      "execution_count": null,
      "outputs": [
        {
          "output_type": "stream",
          "name": "stdout",
          "text": [
            "Downloading data from https://storage.googleapis.com/tensorflow/keras-applications/resnet/resnet50_weights_tf_dim_ordering_tf_kernels_notop.h5\n",
            "94765736/94765736 [==============================] - 5s 0us/step\n"
          ]
        }
      ]
    },
    {
      "cell_type": "code",
      "source": [
        "resnet_50_model.compile(Adam(learning_rate = 0.0001), loss = 'categorical_crossentropy', metrics = ['accuracy'])"
      ],
      "metadata": {
        "id": "X5Nwi2qa5w3V"
      },
      "execution_count": null,
      "outputs": []
    },
    {
      "cell_type": "code",
      "source": [
        "resnet_50_model.summary()"
      ],
      "metadata": {
        "colab": {
          "base_uri": "https://localhost:8080/"
        },
        "id": "zqsixaqt5zcz",
        "outputId": "670f036a-4b44-4c58-f70c-6b35555c5a0d"
      },
      "execution_count": null,
      "outputs": [
        {
          "output_type": "stream",
          "name": "stdout",
          "text": [
            "Model: \"sequential\"\n",
            "_________________________________________________________________\n",
            " Layer (type)                Output Shape              Param #   \n",
            "=================================================================\n",
            " resnet50 (Functional)       (None, 2048)              23587712  \n",
            "                                                                 \n",
            " flatten (Flatten)           (None, 2048)              0         \n",
            "                                                                 \n",
            " dense (Dense)               (None, 512)               1049088   \n",
            "                                                                 \n",
            " dropout (Dropout)           (None, 512)               0         \n",
            "                                                                 \n",
            " dense_1 (Dense)             (None, 8)                 4104      \n",
            "                                                                 \n",
            "=================================================================\n",
            "Total params: 24,640,904\n",
            "Trainable params: 1,053,192\n",
            "Non-trainable params: 23,587,712\n",
            "_________________________________________________________________\n"
          ]
        }
      ]
    },
    {
      "cell_type": "code",
      "source": [
        "# fit the model, log the results and the training time\n",
        "now = datetime.datetime.now\n",
        "t = now()\n",
        "history = resnet_50_model.fit_generator(\n",
        "    train_generator,\n",
        "    epochs = nb_epochs,\n",
        "    steps_per_epoch = nb_train_samples//batch_size,\n",
        "    validation_data = validate_generator,\n",
        "    validation_steps = nb_validate_samples//batch_size)\n",
        "print('Training time: %s' % (now() - t))"
      ],
      "metadata": {
        "colab": {
          "base_uri": "https://localhost:8080/"
        },
        "id": "YIBe-piR59LO",
        "outputId": "334e5a34-9011-4080-918e-5a62927626b3"
      },
      "execution_count": null,
      "outputs": [
        {
          "output_type": "stream",
          "name": "stderr",
          "text": [
            "<ipython-input-15-93aae8122837>:4: UserWarning: `Model.fit_generator` is deprecated and will be removed in a future version. Please use `Model.fit`, which supports generators.\n",
            "  history = resnet_50_model.fit_generator(\n"
          ]
        },
        {
          "output_type": "stream",
          "name": "stdout",
          "text": [
            "Epoch 1/10\n",
            "100/100 [==============================] - 2194s 22s/step - loss: 1.1993 - accuracy: 0.5709 - val_loss: 0.8331 - val_accuracy: 0.6719\n",
            "Epoch 2/10\n",
            "100/100 [==============================] - 93s 931ms/step - loss: 0.6038 - accuracy: 0.7766 - val_loss: 0.8693 - val_accuracy: 0.6823\n",
            "Epoch 3/10\n",
            "100/100 [==============================] - 95s 949ms/step - loss: 0.4924 - accuracy: 0.8228 - val_loss: 0.8281 - val_accuracy: 0.6849\n",
            "Epoch 4/10\n",
            "100/100 [==============================] - 94s 939ms/step - loss: 0.4230 - accuracy: 0.8403 - val_loss: 0.8767 - val_accuracy: 0.6641\n",
            "Epoch 5/10\n",
            "100/100 [==============================] - 95s 947ms/step - loss: 0.4024 - accuracy: 0.8487 - val_loss: 0.8781 - val_accuracy: 0.6615\n",
            "Epoch 6/10\n",
            "100/100 [==============================] - 93s 930ms/step - loss: 0.3652 - accuracy: 0.8672 - val_loss: 0.9349 - val_accuracy: 0.6953\n",
            "Epoch 7/10\n",
            "100/100 [==============================] - 93s 935ms/step - loss: 0.3422 - accuracy: 0.8650 - val_loss: 0.8979 - val_accuracy: 0.6901\n",
            "Epoch 8/10\n",
            "100/100 [==============================] - 93s 927ms/step - loss: 0.3283 - accuracy: 0.8794 - val_loss: 0.8779 - val_accuracy: 0.7083\n",
            "Epoch 9/10\n",
            "100/100 [==============================] - 94s 937ms/step - loss: 0.3102 - accuracy: 0.8866 - val_loss: 0.8793 - val_accuracy: 0.6927\n",
            "Epoch 10/10\n",
            "100/100 [==============================] - 93s 929ms/step - loss: 0.2921 - accuracy: 0.8913 - val_loss: 0.9528 - val_accuracy: 0.6771\n",
            "Training time: 0:51:46.640088\n"
          ]
        }
      ]
    },
    {
      "cell_type": "code",
      "source": [
        "model = resnet_50_model.save(\"ResNet50.h5\")"
      ],
      "metadata": {
        "id": "kyyCV1WXROMr"
      },
      "execution_count": null,
      "outputs": []
    },
    {
      "cell_type": "code",
      "source": [
        "from keras import models\n",
        "model = models.load_model(\"ResNet50.h5\")"
      ],
      "metadata": {
        "id": "Sn1vCkawRXpI"
      },
      "execution_count": null,
      "outputs": []
    },
    {
      "cell_type": "code",
      "source": [
        "plt.plot(history.history[\"loss\"])\n",
        "plt.plot(history.history[\"val_loss\"])\n",
        "plt.grid()\n",
        "plt.title(\"Model Loss\")\n",
        "plt.ylabel(\"Loss\")\n",
        "plt.xlabel(\"Epochs\")\n",
        "plt.legend([\"train\", \"validation\"])\n",
        "plt.show()"
      ],
      "metadata": {
        "colab": {
          "base_uri": "https://localhost:8080/",
          "height": 295
        },
        "id": "QZ1pOdce9PI5",
        "outputId": "92aa2ecc-5934-40f4-c931-7e36f6de78cb"
      },
      "execution_count": null,
      "outputs": [
        {
          "output_type": "display_data",
          "data": {
            "text/plain": [
              "<Figure size 432x288 with 1 Axes>"
            ],
            "image/png": "[encoded data removed]"
          },
          "metadata": {
            "needs_background": "light"
          }
        }
      ]
    },
    {
      "cell_type": "code",
      "source": [
        "X_test, Y_test = next(test_generator)"
      ],
      "metadata": {
        "id": "mUinuGB9TGDg"
      },
      "execution_count": null,
      "outputs": []
    },
    {
      "cell_type": "code",
      "source": [
        "print(X_test,Y_test)"
      ],
      "metadata": {
        "colab": {
          "base_uri": "https://localhost:8080/"
        },
        "id": "P1ajbJ4gTJJC",
        "outputId": "c6909ce8-190c-4037-de66-c721bac81172"
      },
      "execution_count": null,
      "outputs": [
        {
          "output_type": "stream",
          "name": "stdout",
          "text": [
            "[[[[2.00000000e+00 2.00000000e+00 0.00000000e+00]\n",
            "   [2.00000000e+00 2.00000000e+00 2.13676021e-01]\n",
            "   [2.00000000e+00 2.00000000e+00 4.98818755e-01]\n",
            "   ...\n",
            "   [8.96939564e+00 8.96939564e+00 8.96939564e+00]\n",
            "   [8.02551746e+00 8.02551746e+00 8.02551746e+00]\n",
            "   [8.00000000e+00 8.00000000e+00 6.07146692e+00]]\n",
            "\n",
            "  [[2.00000000e+00 2.00000000e+00 0.00000000e+00]\n",
            "   [2.00000000e+00 2.00000000e+00 0.00000000e+00]\n",
            "   [2.00000000e+00 2.00000000e+00 0.00000000e+00]\n",
            "   ...\n",
            "   [8.87273121e+00 8.87273121e+00 8.87273121e+00]\n",
            "   [8.00000000e+00 8.00000000e+00 7.76589298e+00]\n",
            "   [8.00000000e+00 8.00000000e+00 6.21367598e+00]]\n",
            "\n",
            "  [[1.98469758e+00 1.98469758e+00 1.53024085e-02]\n",
            "   [2.00000000e+00 2.00000000e+00 0.00000000e+00]\n",
            "   [2.00000000e+00 2.00000000e+00 0.00000000e+00]\n",
            "   ...\n",
            "   [8.73015976e+00 8.73015976e+00 8.73015976e+00]\n",
            "   [8.00000000e+00 8.00000000e+00 7.48075008e+00]\n",
            "   [8.00000000e+00 8.00000000e+00 6.49881887e+00]]\n",
            "\n",
            "  ...\n",
            "\n",
            "  [[4.00000000e+00 4.00000000e+00 4.00000000e+00]\n",
            "   [4.00000000e+00 4.00000000e+00 4.00000000e+00]\n",
            "   [4.00000000e+00 4.00000000e+00 4.00000000e+00]\n",
            "   ...\n",
            "   [2.46031928e+00 2.46031928e+00 7.30159640e-01]\n",
            "   [2.74546218e+00 2.74546218e+00 8.72731030e-01]\n",
            "   [2.98469758e+00 2.98469758e+00 9.84697580e-01]]\n",
            "\n",
            "  [[4.00000000e+00 4.00000000e+00 4.00000000e+00]\n",
            "   [4.00000000e+00 4.00000000e+00 4.00000000e+00]\n",
            "   [4.00000000e+00 4.00000000e+00 4.00000000e+00]\n",
            "   ...\n",
            "   [1.51924968e+00 1.51924968e+00 2.59624869e-01]\n",
            "   [1.23410702e+00 1.23410702e+00 1.17053486e-01]\n",
            "   [1.05103576e+00 1.05103576e+00 2.55178846e-02]]\n",
            "\n",
            "  [[4.00000000e+00 4.00000000e+00 4.00000000e+00]\n",
            "   [4.00000000e+00 4.00000000e+00 4.00000000e+00]\n",
            "   [4.00000000e+00 4.00000000e+00 4.00000000e+00]\n",
            "   ...\n",
            "   [2.75059056e+00 2.75059056e+00 7.50590622e-01]\n",
            "   [2.89316201e+00 2.89316201e+00 8.93162012e-01]\n",
            "   [2.92853332e+00 2.92853332e+00 9.64266658e-01]]]\n",
            "\n",
            "\n",
            " [[[0.00000000e+00 0.00000000e+00 0.00000000e+00]\n",
            "   [0.00000000e+00 0.00000000e+00 0.00000000e+00]\n",
            "   [0.00000000e+00 0.00000000e+00 0.00000000e+00]\n",
            "   ...\n",
            "   [5.00000000e+00 5.00000000e+00 4.72552061e+00]\n",
            "   [4.89546394e+00 4.89546394e+00 2.89546371e+00]\n",
            "   [4.07183266e+00 4.07183266e+00 2.21549845e+00]]\n",
            "\n",
            "  [[0.00000000e+00 0.00000000e+00 0.00000000e+00]\n",
            "   [0.00000000e+00 0.00000000e+00 0.00000000e+00]\n",
            "   [0.00000000e+00 0.00000000e+00 0.00000000e+00]\n",
            "   ...\n",
            "   [5.00000000e+00 5.00000000e+00 4.21822500e+00]\n",
            "   [4.64181566e+00 4.64181566e+00 2.64181590e+00]\n",
            "   [4.32548094e+00 4.32548094e+00 2.97644210e+00]]\n",
            "\n",
            "  [[0.00000000e+00 0.00000000e+00 0.00000000e+00]\n",
            "   [0.00000000e+00 0.00000000e+00 0.00000000e+00]\n",
            "   [0.00000000e+00 0.00000000e+00 0.00000000e+00]\n",
            "   ...\n",
            "   [5.00000000e+00 5.00000000e+00 3.71092916e+00]\n",
            "   [4.38816786e+00 4.38816786e+00 2.38816810e+00]\n",
            "   [4.57912874e+00 4.57912874e+00 3.73738599e+00]]\n",
            "\n",
            "  ...\n",
            "\n",
            "  [[1.57912862e+00 1.57912862e+00 0.00000000e+00]\n",
            "   [1.38816798e+00 1.38816798e+00 0.00000000e+00]\n",
            "   [2.00000000e+00 2.00000000e+00 7.10929215e-01]\n",
            "   ...\n",
            "   [3.55464607e-01 1.00000000e+00 3.55464607e-01]\n",
            "   [6.09112501e-01 1.00000000e+00 6.09112501e-01]\n",
            "   [8.62760425e-01 1.00000000e+00 8.62760425e-01]]\n",
            "\n",
            "  [[1.32548070e+00 1.32548070e+00 0.00000000e+00]\n",
            "   [1.64181590e+00 1.64181590e+00 0.00000000e+00]\n",
            "   [2.00000000e+00 2.00000000e+00 1.21822500e+00]\n",
            "   ...\n",
            "   [6.11832023e-01 1.00000000e+00 6.11832023e-01]\n",
            "   [3.58184099e-01 1.00000000e+00 3.58184099e-01]\n",
            "   [1.04536220e-01 1.00000000e+00 1.04536220e-01]]\n",
            "\n",
            "  [[1.07183290e+00 1.07183290e+00 0.00000000e+00]\n",
            "   [1.89546382e+00 1.89546382e+00 0.00000000e+00]\n",
            "   [2.00000000e+00 2.00000000e+00 1.72552085e+00]\n",
            "   ...\n",
            "   [1.00000000e+00 1.00000000e+00 1.00000000e+00]\n",
            "   [1.00000000e+00 1.00000000e+00 1.00000000e+00]\n",
            "   [1.00000000e+00 1.00000000e+00 1.00000000e+00]]]\n",
            "\n",
            "\n",
            " [[[3.00000000e+00 3.00000000e+00 1.00000000e+00]\n",
            "   [3.00000000e+00 3.00000000e+00 1.00000000e+00]\n",
            "   [2.91906381e+00 2.91906381e+00 9.19063807e-01]\n",
            "   ...\n",
            "   [2.00000000e+00 2.00000000e+00 1.14738178e+00]\n",
            "   [2.00000000e+00 2.00000000e+00 2.00000000e+00]\n",
            "   [2.48185945e+00 2.48185945e+00 2.48185945e+00]]\n",
            "\n",
            "  [[2.52777505e+00 2.52777505e+00 5.27775109e-01]\n",
            "   [2.82731366e+00 2.82731366e+00 8.27313542e-01]\n",
            "   [3.00000000e+00 3.00000000e+00 1.00000000e+00]\n",
            "   ...\n",
            "   [2.00000000e+00 2.00000000e+00 1.74645865e+00]\n",
            "   [2.00000000e+00 2.00000000e+00 2.00000000e+00]\n",
            "   [2.78139782e+00 2.78139782e+00 2.78139782e+00]]\n",
            "\n",
            "  [[2.42630911e+00 2.42630911e+00 4.26309109e-01]\n",
            "   [2.12677073e+00 2.12677073e+00 1.26770690e-01]\n",
            "   [2.17276764e+00 2.17276764e+00 1.72767729e-01]\n",
            "   ...\n",
            "   [2.00000000e+00 2.00000000e+00 2.00000000e+00]\n",
            "   [2.12685204e+00 2.12685204e+00 2.12685204e+00]\n",
            "   [3.00000000e+00 3.00000000e+00 3.00000000e+00]]\n",
            "\n",
            "  ...\n",
            "\n",
            "  [[1.00000000e+00 1.00000000e+00 1.00000000e+00]\n",
            "   [1.00000000e+00 1.00000000e+00 1.00000000e+00]\n",
            "   [1.00000000e+00 1.00000000e+00 1.00000000e+00]\n",
            "   ...\n",
            "   [1.00000000e+00 1.00000000e+00 8.27232301e-01]\n",
            "   [1.00000000e+00 1.00000000e+00 1.00000000e+00]\n",
            "   [1.00000000e+00 1.00000000e+00 1.00000000e+00]]\n",
            "\n",
            "  [[1.00000000e+00 1.00000000e+00 1.00000000e+00]\n",
            "   [1.00000000e+00 1.00000000e+00 1.00000000e+00]\n",
            "   [8.73229325e-01 8.73229325e-01 8.73229325e-01]\n",
            "   ...\n",
            "   [8.73148024e-01 8.73148024e-01 0.00000000e+00]\n",
            "   [1.00000000e+00 1.00000000e+00 1.72686443e-01]\n",
            "   [1.00000000e+00 1.00000000e+00 4.72224861e-01]]\n",
            "\n",
            "  [[1.00000000e+00 1.00000000e+00 1.00000000e+00]\n",
            "   [1.00000000e+00 1.00000000e+00 1.00000000e+00]\n",
            "   [5.73690891e-01 5.73690891e-01 5.73690891e-01]\n",
            "   ...\n",
            "   [8.09362084e-02 8.09362084e-02 0.00000000e+00]\n",
            "   [2.18602210e-01 2.18602210e-01 0.00000000e+00]\n",
            "   [5.18140614e-01 5.18140614e-01 0.00000000e+00]]]\n",
            "\n",
            "\n",
            " ...\n",
            "\n",
            "\n",
            " [[[1.00000000e+00 1.00000000e+00 1.24128215e-01]\n",
            "   [9.19880450e-01 9.19880450e-01 0.00000000e+00]\n",
            "   [7.15632737e-01 7.15632737e-01 0.00000000e+00]\n",
            "   ...\n",
            "   [0.00000000e+00 0.00000000e+00 0.00000000e+00]\n",
            "   [0.00000000e+00 0.00000000e+00 0.00000000e+00]\n",
            "   [0.00000000e+00 0.00000000e+00 0.00000000e+00]]\n",
            "\n",
            "  [[1.00000000e+00 1.00000000e+00 1.00000000e+00]\n",
            "   [1.00000000e+00 1.00000000e+00 8.98799717e-01]\n",
            "   [1.00000000e+00 1.00000000e+00 6.94551945e-01]\n",
            "   ...\n",
            "   [0.00000000e+00 0.00000000e+00 0.00000000e+00]\n",
            "   [0.00000000e+00 0.00000000e+00 0.00000000e+00]\n",
            "   [0.00000000e+00 0.00000000e+00 0.00000000e+00]]\n",
            "\n",
            "  [[9.18033302e-01 1.00000000e+00 9.18033302e-01]\n",
            "   [1.00000000e+00 1.00000000e+00 1.00000000e+00]\n",
            "   [1.00000000e+00 1.00000000e+00 1.00000000e+00]\n",
            "   ...\n",
            "   [0.00000000e+00 0.00000000e+00 0.00000000e+00]\n",
            "   [0.00000000e+00 0.00000000e+00 0.00000000e+00]\n",
            "   [0.00000000e+00 0.00000000e+00 0.00000000e+00]]\n",
            "\n",
            "  ...\n",
            "\n",
            "  [[0.00000000e+00 0.00000000e+00 0.00000000e+00]\n",
            "   [0.00000000e+00 0.00000000e+00 0.00000000e+00]\n",
            "   [0.00000000e+00 0.00000000e+00 0.00000000e+00]\n",
            "   ...\n",
            "   [0.00000000e+00 0.00000000e+00 0.00000000e+00]\n",
            "   [0.00000000e+00 0.00000000e+00 0.00000000e+00]\n",
            "   [8.19666758e-02 8.19666758e-02 8.19666758e-02]]\n",
            "\n",
            "  [[0.00000000e+00 0.00000000e+00 0.00000000e+00]\n",
            "   [0.00000000e+00 0.00000000e+00 0.00000000e+00]\n",
            "   [0.00000000e+00 0.00000000e+00 0.00000000e+00]\n",
            "   ...\n",
            "   [0.00000000e+00 0.00000000e+00 0.00000000e+00]\n",
            "   [0.00000000e+00 0.00000000e+00 0.00000000e+00]\n",
            "   [0.00000000e+00 0.00000000e+00 0.00000000e+00]]\n",
            "\n",
            "  [[0.00000000e+00 0.00000000e+00 0.00000000e+00]\n",
            "   [0.00000000e+00 0.00000000e+00 0.00000000e+00]\n",
            "   [0.00000000e+00 0.00000000e+00 0.00000000e+00]\n",
            "   ...\n",
            "   [0.00000000e+00 0.00000000e+00 0.00000000e+00]\n",
            "   [0.00000000e+00 0.00000000e+00 0.00000000e+00]\n",
            "   [0.00000000e+00 0.00000000e+00 0.00000000e+00]]]\n",
            "\n",
            "\n",
            " [[[3.62124705e+00 3.62124705e+00 2.37875295e+00]\n",
            "   [3.32877970e+00 3.32877970e+00 2.67122030e+00]\n",
            "   [4.00000000e+00 4.00000000e+00 2.00000000e+00]\n",
            "   ...\n",
            "   [0.00000000e+00 0.00000000e+00 0.00000000e+00]\n",
            "   [6.65847436e-02 6.65847436e-02 6.65847436e-02]\n",
            "   [3.78752887e-01 3.78752887e-01 3.78752887e-01]]\n",
            "\n",
            "  [[3.93341517e+00 3.93341517e+00 2.06658483e+00]\n",
            "   [3.01661158e+00 3.01661158e+00 2.98338842e+00]\n",
            "   [3.96663857e+00 3.96663857e+00 2.03336143e+00]\n",
            "   ...\n",
            "   [7.04443455e-01 7.04443455e-01 7.04443455e-01]\n",
            "   [1.00000000e+00 1.00000000e+00 1.00000000e+00]\n",
            "   [1.00000000e+00 1.00000000e+00 1.00000000e+00]]\n",
            "\n",
            "  [[3.50883317e+00 3.50883317e+00 2.00000000e+00]\n",
            "   [3.29555655e+00 3.29555655e+00 2.70444345e+00]\n",
            "   [3.65447044e+00 3.65447044e+00 2.34552956e+00]\n",
            "   ...\n",
            "   [1.00000000e+00 1.00000000e+00 1.00000000e+00]\n",
            "   [1.00000000e+00 1.00000000e+00 1.00000000e+00]\n",
            "   [7.21193373e-01 7.21193373e-01 7.21193373e-01]]\n",
            "\n",
            "  ...\n",
            "\n",
            "  [[0.00000000e+00 0.00000000e+00 0.00000000e+00]\n",
            "   [0.00000000e+00 0.00000000e+00 0.00000000e+00]\n",
            "   [0.00000000e+00 0.00000000e+00 0.00000000e+00]\n",
            "   ...\n",
            "   [0.00000000e+00 0.00000000e+00 0.00000000e+00]\n",
            "   [0.00000000e+00 0.00000000e+00 0.00000000e+00]\n",
            "   [0.00000000e+00 0.00000000e+00 0.00000000e+00]]\n",
            "\n",
            "  [[0.00000000e+00 0.00000000e+00 0.00000000e+00]\n",
            "   [0.00000000e+00 0.00000000e+00 0.00000000e+00]\n",
            "   [0.00000000e+00 0.00000000e+00 0.00000000e+00]\n",
            "   ...\n",
            "   [0.00000000e+00 0.00000000e+00 0.00000000e+00]\n",
            "   [0.00000000e+00 0.00000000e+00 0.00000000e+00]\n",
            "   [0.00000000e+00 0.00000000e+00 0.00000000e+00]]\n",
            "\n",
            "  [[0.00000000e+00 0.00000000e+00 0.00000000e+00]\n",
            "   [0.00000000e+00 0.00000000e+00 0.00000000e+00]\n",
            "   [0.00000000e+00 0.00000000e+00 0.00000000e+00]\n",
            "   ...\n",
            "   [0.00000000e+00 0.00000000e+00 0.00000000e+00]\n",
            "   [0.00000000e+00 0.00000000e+00 0.00000000e+00]\n",
            "   [0.00000000e+00 0.00000000e+00 0.00000000e+00]]]\n",
            "\n",
            "\n",
            " [[[3.28970490e+01 1.78970470e+01 2.28970470e+01]\n",
            "   [3.38503151e+01 1.80000000e+01 2.72515831e+01]\n",
            "   [3.48035851e+01 1.88035851e+01 2.31784859e+01]\n",
            "   ...\n",
            "   [0.00000000e+00 0.00000000e+00 0.00000000e+00]\n",
            "   [0.00000000e+00 0.00000000e+00 0.00000000e+00]\n",
            "   [0.00000000e+00 0.00000000e+00 0.00000000e+00]]\n",
            "\n",
            "  [[3.25949249e+01 1.75949249e+01 2.25949249e+01]\n",
            "   [3.35481949e+01 1.80000000e+01 2.57409725e+01]\n",
            "   [3.45014648e+01 1.85014648e+01 2.49912167e+01]\n",
            "   ...\n",
            "   [0.00000000e+00 0.00000000e+00 0.00000000e+00]\n",
            "   [0.00000000e+00 0.00000000e+00 0.00000000e+00]\n",
            "   [0.00000000e+00 0.00000000e+00 0.00000000e+00]]\n",
            "\n",
            "  [[3.22928047e+01 1.72928028e+01 2.22928028e+01]\n",
            "   [3.32460747e+01 1.80000000e+01 2.42303638e+01]\n",
            "   [3.41993408e+01 1.81993427e+01 2.68039474e+01]\n",
            "   ...\n",
            "   [0.00000000e+00 0.00000000e+00 0.00000000e+00]\n",
            "   [0.00000000e+00 0.00000000e+00 0.00000000e+00]\n",
            "   [0.00000000e+00 0.00000000e+00 0.00000000e+00]]\n",
            "\n",
            "  ...\n",
            "\n",
            "  [[0.00000000e+00 0.00000000e+00 0.00000000e+00]\n",
            "   [0.00000000e+00 0.00000000e+00 0.00000000e+00]\n",
            "   [0.00000000e+00 0.00000000e+00 0.00000000e+00]\n",
            "   ...\n",
            "   [0.00000000e+00 8.00657809e-01 0.00000000e+00]\n",
            "   [0.00000000e+00 1.00000000e+00 0.00000000e+00]\n",
            "   [0.00000000e+00 2.92803526e-01 0.00000000e+00]]\n",
            "\n",
            "  [[0.00000000e+00 0.00000000e+00 0.00000000e+00]\n",
            "   [0.00000000e+00 0.00000000e+00 0.00000000e+00]\n",
            "   [0.00000000e+00 0.00000000e+00 0.00000000e+00]\n",
            "   ...\n",
            "   [0.00000000e+00 4.98536021e-01 0.00000000e+00]\n",
            "   [0.00000000e+00 1.00000000e+00 0.00000000e+00]\n",
            "   [0.00000000e+00 5.94925284e-01 0.00000000e+00]]\n",
            "\n",
            "  [[0.00000000e+00 0.00000000e+00 0.00000000e+00]\n",
            "   [0.00000000e+00 0.00000000e+00 0.00000000e+00]\n",
            "   [0.00000000e+00 0.00000000e+00 0.00000000e+00]\n",
            "   ...\n",
            "   [0.00000000e+00 1.96414232e-01 0.00000000e+00]\n",
            "   [0.00000000e+00 1.00000000e+00 0.00000000e+00]\n",
            "   [0.00000000e+00 8.97047102e-01 0.00000000e+00]]]] [[0. 0. 0. 0. 0. 0. 1. 0.]\n",
            " [0. 1. 0. 0. 0. 0. 0. 0.]\n",
            " [0. 0. 0. 0. 0. 0. 0. 1.]\n",
            " [1. 0. 0. 0. 0. 0. 0. 0.]\n",
            " [0. 0. 0. 0. 0. 1. 0. 0.]\n",
            " [0. 1. 0. 0. 0. 0. 0. 0.]\n",
            " [0. 0. 0. 0. 1. 0. 0. 0.]\n",
            " [0. 0. 0. 0. 0. 1. 0. 0.]\n",
            " [0. 0. 1. 0. 0. 0. 0. 0.]\n",
            " [0. 0. 1. 0. 0. 0. 0. 0.]\n",
            " [0. 0. 0. 0. 0. 0. 1. 0.]\n",
            " [0. 1. 0. 0. 0. 0. 0. 0.]\n",
            " [0. 0. 0. 1. 0. 0. 0. 0.]\n",
            " [0. 0. 0. 0. 0. 0. 0. 1.]\n",
            " [0. 0. 0. 0. 1. 0. 0. 0.]\n",
            " [0. 0. 0. 0. 1. 0. 0. 0.]\n",
            " [0. 0. 0. 1. 0. 0. 0. 0.]\n",
            " [0. 0. 0. 0. 0. 0. 1. 0.]\n",
            " [0. 0. 0. 0. 0. 1. 0. 0.]\n",
            " [0. 0. 0. 0. 1. 0. 0. 0.]\n",
            " [1. 0. 0. 0. 0. 0. 0. 0.]\n",
            " [0. 1. 0. 0. 0. 0. 0. 0.]\n",
            " [0. 0. 1. 0. 0. 0. 0. 0.]\n",
            " [0. 0. 0. 0. 0. 0. 0. 1.]\n",
            " [0. 0. 0. 0. 1. 0. 0. 0.]\n",
            " [0. 0. 0. 0. 0. 1. 0. 0.]\n",
            " [0. 1. 0. 0. 0. 0. 0. 0.]\n",
            " [0. 0. 1. 0. 0. 0. 0. 0.]\n",
            " [0. 0. 0. 0. 0. 0. 1. 0.]\n",
            " [0. 0. 0. 0. 1. 0. 0. 0.]\n",
            " [0. 1. 0. 0. 0. 0. 0. 0.]\n",
            " [0. 0. 1. 0. 0. 0. 0. 0.]]\n"
          ]
        }
      ]
    },
    {
      "cell_type": "code",
      "source": [
        "y_true=[]\n",
        "for i in range(len(Y_test)):\n",
        "    K= Y_test[i]\n",
        "    \n",
        "    y_true.append(list(K).index(max(list(K))))"
      ],
      "metadata": {
        "id": "HtLLlZcZTQNj"
      },
      "execution_count": null,
      "outputs": []
    },
    {
      "cell_type": "code",
      "source": [
        "print(y_true)"
      ],
      "metadata": {
        "colab": {
          "base_uri": "https://localhost:8080/"
        },
        "id": "jzT40knQTTL_",
        "outputId": "d8096d1f-052e-4ebf-cd71-eff1d9329b0a"
      },
      "execution_count": null,
      "outputs": [
        {
          "output_type": "stream",
          "name": "stdout",
          "text": [
            "[6, 1, 7, 0, 5, 1, 4, 5, 2, 2, 6, 1, 3, 7, 4, 4, 3, 6, 5, 4, 0, 1, 2, 7, 4, 5, 1, 2, 6, 4, 1, 2]\n"
          ]
        }
      ]
    },
    {
      "cell_type": "code",
      "source": [
        "M = resnet_50_model.predict(X_test)\n",
        "X_t=[]\n",
        "for i in range(len(M)):\n",
        "    K= M[i]\n",
        "    X_t.append(list(K).index(max(list(K))))"
      ],
      "metadata": {
        "colab": {
          "base_uri": "https://localhost:8080/"
        },
        "id": "PAjadVxYTWzq",
        "outputId": "b31c61c8-4852-4fdb-b46d-028dc664c9ea"
      },
      "execution_count": null,
      "outputs": [
        {
          "output_type": "stream",
          "name": "stdout",
          "text": [
            "1/1 [==============================] - 1s 870ms/step\n"
          ]
        }
      ]
    },
    {
      "cell_type": "code",
      "source": [
        "print(X_t)"
      ],
      "metadata": {
        "colab": {
          "base_uri": "https://localhost:8080/"
        },
        "id": "bKP88madTZOt",
        "outputId": "ab5cb4a6-0c4f-46f5-f33b-67b79b61ef2e"
      },
      "execution_count": null,
      "outputs": [
        {
          "output_type": "stream",
          "name": "stdout",
          "text": [
            "[6, 0, 7, 1, 5, 0, 4, 5, 2, 2, 6, 1, 3, 7, 4, 5, 3, 6, 5, 4, 1, 0, 5, 7, 2, 5, 0, 5, 6, 4, 0, 2]\n"
          ]
        }
      ]
    },
    {
      "cell_type": "code",
      "source": [
        "print(classification_report(y_true, X_t, zero_division = 0))"
      ],
      "metadata": {
        "colab": {
          "base_uri": "https://localhost:8080/"
        },
        "id": "A6laPoSBLfxi",
        "outputId": "8214e9fb-ad85-4bfa-c7dc-ae6329f6c734"
      },
      "execution_count": null,
      "outputs": [
        {
          "output_type": "stream",
          "name": "stdout",
          "text": [
            "              precision    recall  f1-score   support\n",
            "\n",
            "           0       0.00      0.00      0.00         2\n",
            "           1       0.33      0.17      0.22         6\n",
            "           2       0.75      0.60      0.67         5\n",
            "           3       1.00      1.00      1.00         2\n",
            "           4       1.00      0.67      0.80         6\n",
            "           5       0.57      1.00      0.73         4\n",
            "           6       1.00      1.00      1.00         4\n",
            "           7       1.00      1.00      1.00         3\n",
            "\n",
            "    accuracy                           0.66        32\n",
            "   macro avg       0.71      0.68      0.68        32\n",
            "weighted avg       0.72      0.66      0.67        32\n",
            "\n"
          ]
        }
      ]
    },
    {
      "cell_type": "code",
      "source": [
        "print(confusion_matrix(y_true,X_t))"
      ],
      "metadata": {
        "id": "w4y9iaRJLjOK",
        "outputId": "3f4e62d6-7535-461c-c179-bb088d619d19",
        "colab": {
          "base_uri": "https://localhost:8080/"
        }
      },
      "execution_count": null,
      "outputs": [
        {
          "output_type": "stream",
          "name": "stdout",
          "text": [
            "[[0 2 0 0 0 0 0 0]\n",
            " [5 1 0 0 0 0 0 0]\n",
            " [0 0 3 0 0 2 0 0]\n",
            " [0 0 0 2 0 0 0 0]\n",
            " [0 0 1 0 4 1 0 0]\n",
            " [0 0 0 0 0 4 0 0]\n",
            " [0 0 0 0 0 0 4 0]\n",
            " [0 0 0 0 0 0 0 3]]\n"
          ]
        }
      ]
    },
    {
      "cell_type": "code",
      "source": [],
      "metadata": {
        "id": "u9EikaP4ZAN3"
      },
      "execution_count": null,
      "outputs": []
    }
  ]
}