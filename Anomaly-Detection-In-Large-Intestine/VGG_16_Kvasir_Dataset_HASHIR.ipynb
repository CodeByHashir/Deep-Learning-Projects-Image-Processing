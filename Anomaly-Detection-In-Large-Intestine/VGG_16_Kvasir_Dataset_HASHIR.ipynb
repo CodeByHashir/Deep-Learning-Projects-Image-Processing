{
  "nbformat": 4,
  "nbformat_minor": 0,
  "metadata": {
    "colab": {
      "provenance": []
    },
    "kernelspec": {
      "name": "python3",
      "display_name": "Python 3"
    },
    "language_info": {
      "name": "python"
    },
    "accelerator": "GPU"
  },
  "cells": [
    {
      "cell_type": "code",
      "execution_count": 1,
      "metadata": {
        "id": "MBN0FspD1XOE"
      },
      "outputs": [],
      "source": [
        "# import pertinent libraries\n",
        "import os\n",
        "import sys\n",
        "import datetime\n",
        "import glob as glob\n",
        "import numpy as np\n",
        "import cv2\n",
        "# [Keras Models]\n",
        "# import the Keras implementations of VGG16, VGG19, InceptionV3 and Xception models\n",
        "# the model used here is VGG16\n",
        "from keras.applications.vgg19 import VGG19, preprocess_input\n",
        "from keras.models import Model, Sequential\n",
        "from keras.layers import Dense, GlobalAveragePooling2D, Dropout, Add, GlobalAvgPool2D, Flatten\n",
        "from keras.preprocessing.image import ImageDataGenerator\n",
        "from tensorflow.keras.optimizers import Adam\n",
        "import tensorflow as tf\n",
        "from tensorflow import keras\n",
        "import tensorflow\n",
        "import pandas as pd\n",
        "import matplotlib.pyplot as plt\n",
        "%matplotlib inline\n",
        "from sklearn.metrics import classification_report, confusion_matrix\n"
      ]
    },
    {
      "cell_type": "code",
      "source": [
        "from google.colab import drive\n",
        "drive.mount('/content/drive')"
      ],
      "metadata": {
        "colab": {
          "base_uri": "https://localhost:8080/"
        },
        "id": "A2SvNF91LBTm",
        "outputId": "86ae706f-fcff-4ef6-81fc-46f1daca3346"
      },
      "execution_count": 2,
      "outputs": [
        {
          "output_type": "stream",
          "name": "stdout",
          "text": [
            "Mounted at /content/drive\n"
          ]
        }
      ]
    },
    {
      "cell_type": "code",
      "source": [
        "img_width, img_height = 224, 224\n",
        "\n",
        "train_dir = '/content/drive/MyDrive/Data_Sets_of_abnormality_in_large_intestine/kvasir_dataset/train'\n",
        "validate_dir = '/content/drive/MyDrive/Data_Sets_of_abnormality_in_large_intestine/kvasir_dataset/val'\n",
        "test_dir = '/content/drive/MyDrive/Data_Sets_of_abnormality_in_large_intestine/kvasir_dataset/test'\n",
        "nb_epochs = 10\n",
        "batch_size = 32\n",
        "nb_classes = len(glob.glob(train_dir + '/*'))\n",
        "\n",
        "# get number of images in training directory\n",
        "nb_train_samples = 0\n",
        "for r, dirs, files in os.walk(train_dir):\n",
        "    for dr in dirs:\n",
        "        nb_train_samples += len(glob.glob(os.path.join(r, dr + \"/*\")))\n",
        "# get number of images in validation directory\n",
        "nb_validate_samples = 0\n",
        "for r, dirs, files in os.walk(validate_dir):\n",
        "    for dr in dirs:\n",
        "        nb_validate_samples += len(glob.glob(os.path.join(r, dr + \"/*\")))\n",
        "# get the number of images in test directory\n",
        "nb_test_samples = 0\n",
        "for r, dirs, files in os.walk(test_dir):\n",
        "    for dr in dirs:\n",
        "        nb_test_samples += len(glob.glob(os.path.join(r, dr + \"/*\")))"
      ],
      "metadata": {
        "id": "YJr60tHd2jng"
      },
      "execution_count": 3,
      "outputs": []
    },
    {
      "cell_type": "code",
      "source": [
        "print(nb_classes)"
      ],
      "metadata": {
        "colab": {
          "base_uri": "https://localhost:8080/"
        },
        "id": "VeuSJj-22oAD",
        "outputId": "6e6e79ab-182a-4abd-b569-140a7ec7f870"
      },
      "execution_count": 4,
      "outputs": [
        {
          "output_type": "stream",
          "name": "stdout",
          "text": [
            "8\n"
          ]
        }
      ]
    },
    {
      "cell_type": "code",
      "source": [
        "# Data preprocessing for training\n",
        "train_datagen =  ImageDataGenerator(\n",
        "    rotation_range = 20,\n",
        "    fill_mode = 'nearest',\n",
        "    horizontal_flip = True)"
      ],
      "metadata": {
        "id": "I13RDe_W2sga"
      },
      "execution_count": 5,
      "outputs": []
    },
    {
      "cell_type": "code",
      "source": [
        "# data pre-processing for validation\n",
        "validate_datagen =  ImageDataGenerator(\n",
        "    rotation_range = 20,\n",
        "    fill_mode = 'nearest',\n",
        "    horizontal_flip = True)"
      ],
      "metadata": {
        "id": "pOwJfr_N2v-k"
      },
      "execution_count": 6,
      "outputs": []
    },
    {
      "cell_type": "code",
      "source": [
        "# data pre-processing for testing\n",
        "test_datagen =  ImageDataGenerator(\n",
        "    rotation_range = 20,\n",
        "    fill_mode = 'nearest',\n",
        "    horizontal_flip = True)"
      ],
      "metadata": {
        "id": "Sc5gyS83OAer"
      },
      "execution_count": 7,
      "outputs": []
    },
    {
      "cell_type": "code",
      "source": [
        "# generate and store training data\n",
        "train_generator = train_datagen.flow_from_directory(\n",
        "    train_dir,\n",
        "    target_size = (img_width, img_height),\n",
        "    batch_size = batch_size)"
      ],
      "metadata": {
        "colab": {
          "base_uri": "https://localhost:8080/"
        },
        "id": "h7rNVC38OJLk",
        "outputId": "0c73b2c1-0696-49d1-a81c-1714045ae743"
      },
      "execution_count": 8,
      "outputs": [
        {
          "output_type": "stream",
          "name": "stdout",
          "text": [
            "Found 3200 images belonging to 8 classes.\n"
          ]
        }
      ]
    },
    {
      "cell_type": "code",
      "source": [
        "# generate and store validation data\n",
        "validate_generator = validate_datagen.flow_from_directory(\n",
        "    validate_dir,\n",
        "    target_size = (img_width, img_height),\n",
        "    batch_size = batch_size)"
      ],
      "metadata": {
        "colab": {
          "base_uri": "https://localhost:8080/"
        },
        "id": "Ge7Z66ckOLDT",
        "outputId": "82873ba3-6343-4636-e612-5292a5802fb5"
      },
      "execution_count": 9,
      "outputs": [
        {
          "output_type": "stream",
          "name": "stdout",
          "text": [
            "Found 400 images belonging to 8 classes.\n"
          ]
        }
      ]
    },
    {
      "cell_type": "code",
      "source": [
        "# generate and store test data\n",
        "test_generator = validate_datagen.flow_from_directory(\n",
        "    test_dir,\n",
        "    target_size = (img_width, img_height),\n",
        "    batch_size = batch_size)"
      ],
      "metadata": {
        "colab": {
          "base_uri": "https://localhost:8080/"
        },
        "id": "_t-s9z30OOPz",
        "outputId": "57a9bcb8-b574-43e8-d2e6-a33527058533"
      },
      "execution_count": 10,
      "outputs": [
        {
          "output_type": "stream",
          "name": "stdout",
          "text": [
            "Found 400 images belonging to 8 classes.\n"
          ]
        }
      ]
    },
    {
      "cell_type": "code",
      "source": [
        "vgg_16_model = Sequential()\n",
        "\n",
        "pretrained_model = tf.keras.applications.VGG16(\n",
        "    include_top=False,\n",
        "    weights='imagenet',\n",
        "    input_tensor=None,\n",
        "    input_shape=(224,224,3),\n",
        "    pooling='maxpool'\n",
        ")\n",
        "\n",
        "vgg_16_model.add(pretrained_model)\n",
        "vgg_16_model.add(GlobalAvgPool2D())\n",
        "vgg_16_model.add(Flatten())\n",
        "vgg_16_model.add(Dropout(0.5))\n",
        "vgg_16_model.add(Dense(8, activation = 'softmax'))"
      ],
      "metadata": {
        "colab": {
          "base_uri": "https://localhost:8080/"
        },
        "id": "yPCIJ43yF4Hf",
        "outputId": "6f35b7e3-fd85-4ea0-c715-7c9f6bedc9e6"
      },
      "execution_count": 11,
      "outputs": [
        {
          "output_type": "stream",
          "name": "stdout",
          "text": [
            "Downloading data from https://storage.googleapis.com/tensorflow/keras-applications/vgg16/vgg16_weights_tf_dim_ordering_tf_kernels_notop.h5\n",
            "58889256/58889256 [==============================] - 4s 0us/step\n"
          ]
        }
      ]
    },
    {
      "cell_type": "code",
      "source": [
        "vgg_16_model.compile(Adam(learning_rate = 0.0001), loss = 'categorical_crossentropy', metrics = ['accuracy'])"
      ],
      "metadata": {
        "id": "EoxlKV3Z2-Zd"
      },
      "execution_count": 12,
      "outputs": []
    },
    {
      "cell_type": "code",
      "source": [
        "vgg_16_model.summary()"
      ],
      "metadata": {
        "colab": {
          "base_uri": "https://localhost:8080/"
        },
        "id": "QOy0hLnI3B7Y",
        "outputId": "a9f00197-3478-4efc-8282-e6fc2e59462e"
      },
      "execution_count": 13,
      "outputs": [
        {
          "output_type": "stream",
          "name": "stdout",
          "text": [
            "Model: \"sequential\"\n",
            "_________________________________________________________________\n",
            " Layer (type)                Output Shape              Param #   \n",
            "=================================================================\n",
            " vgg16 (Functional)          (None, 7, 7, 512)         14714688  \n",
            "                                                                 \n",
            " global_average_pooling2d (G  (None, 512)              0         \n",
            " lobalAveragePooling2D)                                          \n",
            "                                                                 \n",
            " flatten (Flatten)           (None, 512)               0         \n",
            "                                                                 \n",
            " dropout (Dropout)           (None, 512)               0         \n",
            "                                                                 \n",
            " dense (Dense)               (None, 8)                 4104      \n",
            "                                                                 \n",
            "=================================================================\n",
            "Total params: 14,718,792\n",
            "Trainable params: 14,718,792\n",
            "Non-trainable params: 0\n",
            "_________________________________________________________________\n"
          ]
        }
      ]
    },
    {
      "cell_type": "code",
      "source": [
        "# Currently skipped, will be used later\n",
        "early_stopping = tf.keras.callbacks.EarlyStopping(\n",
        "                          monitor= \"val_loss\",\n",
        "                          patience = 2)"
      ],
      "metadata": {
        "id": "qIcGMvJf3Ec7"
      },
      "execution_count": 14,
      "outputs": []
    },
    {
      "cell_type": "code",
      "source": [
        "model = vgg_16_model.save(\"vgg_16.h5\")"
      ],
      "metadata": {
        "id": "b63PWGwVQ4UF"
      },
      "execution_count": 15,
      "outputs": []
    },
    {
      "cell_type": "code",
      "source": [
        "from keras import models\n",
        "model = models.load_model(\"vgg_16.h5\")"
      ],
      "metadata": {
        "id": "pCY70NkfQzZf"
      },
      "execution_count": 16,
      "outputs": []
    },
    {
      "cell_type": "code",
      "source": [
        "# fit the model, log the results and the training time\n",
        "now = datetime.datetime.now\n",
        "t = now()\n",
        "transfer_learning_history = vgg_16_model.fit_generator(\n",
        "    train_generator,\n",
        "    epochs = nb_epochs,\n",
        "    steps_per_epoch = nb_train_samples//batch_size,\n",
        "    validation_data = validate_generator,\n",
        "    validation_steps = nb_validate_samples//batch_size)\n",
        "print('Training time: %s' % (now() - t))"
      ],
      "metadata": {
        "colab": {
          "base_uri": "https://localhost:8080/"
        },
        "id": "0WFAvvKDHEYg",
        "outputId": "c46c292d-49b7-40db-cd8e-c455ca4bc557"
      },
      "execution_count": 19,
      "outputs": [
        {
          "output_type": "stream",
          "name": "stderr",
          "text": [
            "<ipython-input-19-8af4685f2f28>:4: UserWarning: `Model.fit_generator` is deprecated and will be removed in a future version. Please use `Model.fit`, which supports generators.\n",
            "  transfer_learning_history = vgg_16_model.fit_generator(\n"
          ]
        },
        {
          "output_type": "stream",
          "name": "stdout",
          "text": [
            "Epoch 1/10\n",
            "100/100 [==============================] - 101s 1s/step - loss: 0.2920 - accuracy: 0.8900 - val_loss: 1.5700 - val_accuracy: 0.6562\n",
            "Epoch 2/10\n",
            "100/100 [==============================] - 101s 1s/step - loss: 0.2697 - accuracy: 0.8997 - val_loss: 1.9098 - val_accuracy: 0.7057\n",
            "Epoch 3/10\n",
            "100/100 [==============================] - 101s 1s/step - loss: 0.2224 - accuracy: 0.9112 - val_loss: 2.6589 - val_accuracy: 0.6068\n",
            "Epoch 4/10\n",
            "100/100 [==============================] - 101s 1s/step - loss: 0.2499 - accuracy: 0.9084 - val_loss: 2.9999 - val_accuracy: 0.6354\n",
            "Epoch 5/10\n",
            "100/100 [==============================] - 101s 1s/step - loss: 0.2143 - accuracy: 0.9225 - val_loss: 2.3165 - val_accuracy: 0.6719\n",
            "Epoch 6/10\n",
            "100/100 [==============================] - 101s 1s/step - loss: 0.2098 - accuracy: 0.9269 - val_loss: 2.0062 - val_accuracy: 0.6953\n",
            "Epoch 7/10\n",
            "100/100 [==============================] - 101s 1s/step - loss: 0.2245 - accuracy: 0.9206 - val_loss: 1.3680 - val_accuracy: 0.6797\n",
            "Epoch 8/10\n",
            "100/100 [==============================] - 101s 1s/step - loss: 0.1749 - accuracy: 0.9359 - val_loss: 2.9798 - val_accuracy: 0.6797\n",
            "Epoch 9/10\n",
            "100/100 [==============================] - 101s 1s/step - loss: 0.1739 - accuracy: 0.9394 - val_loss: 0.9068 - val_accuracy: 0.6953\n",
            "Epoch 10/10\n",
            "100/100 [==============================] - 101s 1s/step - loss: 0.2408 - accuracy: 0.9128 - val_loss: 2.3742 - val_accuracy: 0.6745\n",
            "Training time: 0:16:51.203326\n"
          ]
        }
      ]
    },
    {
      "cell_type": "code",
      "source": [
        "score = vgg_16_model.evaluate_generator(validate_generator, nb_validate_samples/batch_size)\n",
        "print(\"Test Score:\", score[0])\n",
        "print(\"Test Accuracy:\", score[1])"
      ],
      "metadata": {
        "colab": {
          "base_uri": "https://localhost:8080/"
        },
        "id": "j_XQ4oqPVUXG",
        "outputId": "53d90406-d220-4176-e2c0-4a2f219dca79"
      },
      "execution_count": 20,
      "outputs": [
        {
          "output_type": "stream",
          "name": "stderr",
          "text": [
            "<ipython-input-20-571fe7bb1dd5>:1: UserWarning: `Model.evaluate_generator` is deprecated and will be removed in a future version. Please use `Model.evaluate`, which supports generators.\n",
            "  score = vgg_16_model.evaluate_generator(validate_generator, nb_validate_samples/batch_size)\n"
          ]
        },
        {
          "output_type": "stream",
          "name": "stdout",
          "text": [
            "Test Score: 2.302858829498291\n",
            "Test Accuracy: 0.675000011920929\n"
          ]
        }
      ]
    },
    {
      "cell_type": "code",
      "source": [
        "fig1 = plt.gcf()\n",
        "plt.plot(transfer_learning_history.history[\"accuracy\"])\n",
        "plt.plot(transfer_learning_history.history[\"val_accuracy\"])\n",
        "plt.axis(ymin = 0.0, ymax = 1.0)\n",
        "plt.axis(xmin = 0.0, xmax = 1.0)\n",
        "plt.grid()\n",
        "plt.title(\"Model Accuracy\")\n",
        "plt.ylabel(\"Accuracy\")\n",
        "plt.xlabel(\"Epochs\")\n",
        "plt.legend([\"train\", \"validation\"])\n",
        "plt.show()"
      ],
      "metadata": {
        "colab": {
          "base_uri": "https://localhost:8080/",
          "height": 295
        },
        "id": "OOdjfhOf3TJf",
        "outputId": "176d1914-7141-4c52-f354-640b48c4a4cd"
      },
      "execution_count": 21,
      "outputs": [
        {
          "output_type": "display_data",
          "data": {
            "text/plain": [
              "<Figure size 432x288 with 1 Axes>"
            ],
            "image/png": "[encoded data removed]"
          },
          "metadata": {
            "needs_background": "light"
          }
        }
      ]
    },
    {
      "cell_type": "code",
      "source": [
        "plt.plot(transfer_learning_history.history[\"loss\"])\n",
        "plt.plot(transfer_learning_history.history[\"val_loss\"])\n",
        "plt.grid()\n",
        "plt.title(\"Model Loss\")\n",
        "plt.ylabel(\"Loss\")\n",
        "plt.xlabel(\"Epochs\")\n",
        "plt.legend([\"train\", \"validation\"])\n",
        "plt.show()"
      ],
      "metadata": {
        "colab": {
          "base_uri": "https://localhost:8080/",
          "height": 295
        },
        "id": "kyiz8P8dCfpf",
        "outputId": "4b3a0ce6-4a7f-4eba-8505-a95361186eaa"
      },
      "execution_count": 22,
      "outputs": [
        {
          "output_type": "display_data",
          "data": {
            "text/plain": [
              "<Figure size 432x288 with 1 Axes>"
            ],
            "image/png": "[encoded data removed]"
          },
          "metadata": {
            "needs_background": "light"
          }
        }
      ]
    },
    {
      "cell_type": "code",
      "source": [
        "X_test, Y_test = next(test_generator)"
      ],
      "metadata": {
        "id": "Tt4Zx1m0CmK5"
      },
      "execution_count": 23,
      "outputs": []
    },
    {
      "cell_type": "code",
      "source": [
        "print(X_test,Y_test)"
      ],
      "metadata": {
        "colab": {
          "base_uri": "https://localhost:8080/"
        },
        "id": "NB7JS7_xCxN6",
        "outputId": "a9c0d6e7-b486-4f88-8843-c3f8e005642e"
      },
      "execution_count": 24,
      "outputs": [
        {
          "output_type": "stream",
          "name": "stdout",
          "text": [
            "[[[[ 4.          4.          4.        ]\n",
            "   [ 4.526247    4.526247    4.526247  ]\n",
            "   [ 5.          5.          5.        ]\n",
            "   ...\n",
            "   [ 3.          3.          1.2930708 ]\n",
            "   [ 3.          3.          1.6929767 ]\n",
            "   [ 3.          3.          2.0928826 ]]\n",
            "\n",
            "  [[ 4.          4.          4.        ]\n",
            "   [ 4.326294    4.326294    4.326294  ]\n",
            "   [ 5.          5.          5.        ]\n",
            "   ...\n",
            "   [ 3.          3.          3.        ]\n",
            "   [ 3.          3.          3.        ]\n",
            "   [ 3.          3.          3.        ]]\n",
            "\n",
            "  [[ 4.          4.          4.        ]\n",
            "   [ 4.126341    4.126341    4.126341  ]\n",
            "   [ 5.          5.          5.        ]\n",
            "   ...\n",
            "   [ 3.          3.          3.        ]\n",
            "   [ 3.          3.          3.        ]\n",
            "   [ 3.          3.          3.        ]]\n",
            "\n",
            "  ...\n",
            "\n",
            "  [[ 1.          1.          0.        ]\n",
            "   [ 1.          1.          0.        ]\n",
            "   [ 1.          1.          0.        ]\n",
            "   ...\n",
            "   [ 1.8938535   1.8938535   1.8938535 ]\n",
            "   [ 2.          2.          2.        ]\n",
            "   [ 1.1465354   1.1465354   1.1465354 ]]\n",
            "\n",
            "  [[ 1.          1.          0.47375318]\n",
            "   [ 1.          1.          0.6737061 ]\n",
            "   [ 1.          1.          0.8736591 ]\n",
            "   ...\n",
            "   [ 1.6939006   1.6939006   1.6939006 ]\n",
            "   [ 2.          2.          2.        ]\n",
            "   [ 1.3464884   1.3464884   1.3464884 ]]\n",
            "\n",
            "  [[ 1.          1.          0.5464413 ]\n",
            "   [ 1.          1.          0.3464884 ]\n",
            "   [ 1.          1.          0.14653543]\n",
            "   ...\n",
            "   [ 1.4939476   1.4939476   1.4939476 ]\n",
            "   [ 2.          2.          2.        ]\n",
            "   [ 1.5464413   1.5464413   1.5464413 ]]]\n",
            "\n",
            "\n",
            " [[[ 0.          0.          0.        ]\n",
            "   [ 0.          0.          0.        ]\n",
            "   [ 0.          0.          0.        ]\n",
            "   ...\n",
            "   [ 0.          0.          0.        ]\n",
            "   [ 0.          0.          0.        ]\n",
            "   [ 0.          0.          0.        ]]\n",
            "\n",
            "  [[ 0.          0.          0.        ]\n",
            "   [ 0.          0.          0.        ]\n",
            "   [ 0.          0.          0.        ]\n",
            "   ...\n",
            "   [ 0.          0.          0.        ]\n",
            "   [ 0.          0.          0.        ]\n",
            "   [ 0.          0.          0.        ]]\n",
            "\n",
            "  [[ 0.          0.          0.        ]\n",
            "   [ 0.          0.          0.        ]\n",
            "   [ 0.          0.          0.        ]\n",
            "   ...\n",
            "   [ 0.          0.          0.        ]\n",
            "   [ 0.          0.          0.        ]\n",
            "   [ 0.          0.          0.        ]]\n",
            "\n",
            "  ...\n",
            "\n",
            "  [[ 0.          0.          0.        ]\n",
            "   [ 0.          0.          0.        ]\n",
            "   [ 0.          0.          0.        ]\n",
            "   ...\n",
            "   [ 0.          0.          0.        ]\n",
            "   [ 0.          0.          0.        ]\n",
            "   [ 0.          0.          0.        ]]\n",
            "\n",
            "  [[ 0.          0.          0.        ]\n",
            "   [ 0.          0.          0.        ]\n",
            "   [ 0.          0.          0.        ]\n",
            "   ...\n",
            "   [ 0.          0.          0.        ]\n",
            "   [ 0.          0.          0.        ]\n",
            "   [ 0.          0.          0.        ]]\n",
            "\n",
            "  [[ 0.          0.          0.        ]\n",
            "   [ 0.          0.          0.        ]\n",
            "   [ 0.          0.          0.        ]\n",
            "   ...\n",
            "   [ 0.          0.          0.        ]\n",
            "   [ 0.          0.          0.        ]\n",
            "   [ 0.          0.          0.        ]]]\n",
            "\n",
            "\n",
            " [[[ 0.          0.          0.        ]\n",
            "   [ 0.          0.          0.        ]\n",
            "   [ 0.          0.          0.        ]\n",
            "   ...\n",
            "   [ 0.          0.          0.        ]\n",
            "   [ 0.          0.          0.        ]\n",
            "   [ 0.          0.          0.        ]]\n",
            "\n",
            "  [[ 0.          0.          0.        ]\n",
            "   [ 0.          0.          0.        ]\n",
            "   [ 0.          0.          0.        ]\n",
            "   ...\n",
            "   [ 0.          0.          0.        ]\n",
            "   [ 0.          0.          0.        ]\n",
            "   [ 0.          0.          0.        ]]\n",
            "\n",
            "  [[ 0.          0.          0.        ]\n",
            "   [ 0.          0.          0.        ]\n",
            "   [ 0.          0.          0.        ]\n",
            "   ...\n",
            "   [ 0.          0.          0.        ]\n",
            "   [ 0.          0.          0.        ]\n",
            "   [ 0.          0.          0.        ]]\n",
            "\n",
            "  ...\n",
            "\n",
            "  [[ 0.          0.          0.        ]\n",
            "   [ 0.          0.          0.        ]\n",
            "   [ 0.          0.          0.        ]\n",
            "   ...\n",
            "   [ 0.          0.          0.        ]\n",
            "   [ 0.          0.          0.        ]\n",
            "   [ 0.          0.          0.        ]]\n",
            "\n",
            "  [[ 0.          0.          0.        ]\n",
            "   [ 0.          0.          0.        ]\n",
            "   [ 0.          0.          0.        ]\n",
            "   ...\n",
            "   [ 0.          0.          0.        ]\n",
            "   [ 0.          0.          0.        ]\n",
            "   [ 0.          0.          0.        ]]\n",
            "\n",
            "  [[ 0.          0.          0.        ]\n",
            "   [ 0.          0.          0.        ]\n",
            "   [ 0.          0.          0.        ]\n",
            "   ...\n",
            "   [ 0.          0.          0.        ]\n",
            "   [ 0.          0.          0.        ]\n",
            "   [ 0.          0.          0.        ]]]\n",
            "\n",
            "\n",
            " ...\n",
            "\n",
            "\n",
            " [[[ 2.1444557   3.8555443   2.7110887 ]\n",
            "   [ 2.          2.4047592   2.2023797 ]\n",
            "   [ 2.7396965   2.7396965   2.7396965 ]\n",
            "   ...\n",
            "   [ 1.          1.          1.        ]\n",
            "   [ 1.          1.          1.        ]\n",
            "   [ 1.          1.          1.        ]]\n",
            "\n",
            "  [[ 2.479855    3.520145    2.04029   ]\n",
            "   [ 2.          3.075558    2.5377789 ]\n",
            "   [ 2.404297    2.404297    2.404297  ]\n",
            "   ...\n",
            "   [ 0.87317824  0.87317824  0.87317824]\n",
            "   [ 0.5377789   0.5377789   0.5377789 ]\n",
            "   [ 0.20237961  0.20237961  0.20237961]]\n",
            "\n",
            "  [[ 2.8152542   3.1847458   1.3694913 ]\n",
            "   [ 2.          3.7463565   2.8731782 ]\n",
            "   [ 2.0688977   2.0688977   2.0688977 ]\n",
            "   ...\n",
            "   [ 0.06889779  0.06889779  0.06889779]\n",
            "   [ 0.4042971   0.4042971   0.4042971 ]\n",
            "   [ 0.73969644  0.73969644  0.73969644]]\n",
            "\n",
            "  ...\n",
            "\n",
            "  [[ 0.          0.          0.        ]\n",
            "   [ 0.          0.          0.        ]\n",
            "   [ 0.          0.          0.        ]\n",
            "   ...\n",
            "   [ 0.          0.          0.        ]\n",
            "   [ 0.          0.          0.        ]\n",
            "   [ 0.          0.          0.        ]]\n",
            "\n",
            "  [[ 0.          0.          0.        ]\n",
            "   [ 0.          0.          0.        ]\n",
            "   [ 0.          0.          0.        ]\n",
            "   ...\n",
            "   [ 0.          0.          0.        ]\n",
            "   [ 0.          0.          0.        ]\n",
            "   [ 0.          0.          0.        ]]\n",
            "\n",
            "  [[ 0.          0.          0.        ]\n",
            "   [ 0.          0.          0.        ]\n",
            "   [ 0.          0.          0.        ]\n",
            "   ...\n",
            "   [ 0.          0.          0.        ]\n",
            "   [ 0.          0.          0.        ]\n",
            "   [ 0.          0.          0.        ]]]\n",
            "\n",
            "\n",
            " [[[15.         15.         15.        ]\n",
            "   [15.         15.         15.        ]\n",
            "   [15.         15.         15.        ]\n",
            "   ...\n",
            "   [15.         15.         15.        ]\n",
            "   [15.         15.         15.        ]\n",
            "   [15.         15.         15.        ]]\n",
            "\n",
            "  [[15.         15.         15.        ]\n",
            "   [15.         15.         15.        ]\n",
            "   [15.         15.         15.        ]\n",
            "   ...\n",
            "   [15.         15.         15.        ]\n",
            "   [15.         15.         15.        ]\n",
            "   [15.         15.         15.        ]]\n",
            "\n",
            "  [[15.         15.         15.        ]\n",
            "   [15.         15.         15.        ]\n",
            "   [15.         15.         15.        ]\n",
            "   ...\n",
            "   [15.         15.         15.        ]\n",
            "   [15.         15.         15.        ]\n",
            "   [15.         15.         15.        ]]\n",
            "\n",
            "  ...\n",
            "\n",
            "  [[15.         15.         15.        ]\n",
            "   [15.         15.         15.        ]\n",
            "   [15.         15.         15.        ]\n",
            "   ...\n",
            "   [15.         15.         15.        ]\n",
            "   [15.         15.         15.        ]\n",
            "   [15.         15.         15.        ]]\n",
            "\n",
            "  [[15.         15.         15.        ]\n",
            "   [15.         15.         15.        ]\n",
            "   [15.         15.         15.        ]\n",
            "   ...\n",
            "   [15.         15.         15.        ]\n",
            "   [15.         15.         15.        ]\n",
            "   [15.         15.         15.        ]]\n",
            "\n",
            "  [[15.         15.         15.        ]\n",
            "   [15.         15.         15.        ]\n",
            "   [15.         15.         15.        ]\n",
            "   ...\n",
            "   [15.         15.         15.        ]\n",
            "   [15.         15.         15.        ]\n",
            "   [15.         15.         15.        ]]]\n",
            "\n",
            "\n",
            " [[[ 1.9811258   1.9811258   1.9811258 ]\n",
            "   [ 2.9587004   2.9587004   2.9587004 ]\n",
            "   [ 2.0637248   2.0637248   2.0637248 ]\n",
            "   ...\n",
            "   [ 1.          1.          1.        ]\n",
            "   [ 1.          1.          1.        ]\n",
            "   [ 1.          1.          1.        ]]\n",
            "\n",
            "  [[ 1.7705367   1.7705367   1.7705367 ]\n",
            "   [ 2.7481112   2.7481112   2.7481112 ]\n",
            "   [ 2.2743142   2.2743142   2.2743142 ]\n",
            "   ...\n",
            "   [ 1.          1.          1.        ]\n",
            "   [ 1.          1.          1.        ]\n",
            "   [ 1.          1.          1.        ]]\n",
            "\n",
            "  [[ 1.5599474   1.5599474   1.5599474 ]\n",
            "   [ 2.537522    2.537522    2.537522  ]\n",
            "   [ 2.4849033   2.4849033   2.4849033 ]\n",
            "   ...\n",
            "   [ 0.4849033   0.4849033   0.4849033 ]\n",
            "   [ 0.27431408  0.27431408  0.27431408]\n",
            "   [ 0.06372485  0.06372485  0.06372485]]\n",
            "\n",
            "  ...\n",
            "\n",
            "  [[ 0.9362751   0.9362751   0.9362751 ]\n",
            "   [ 0.72568595  0.72568595  0.72568595]\n",
            "   [ 0.5150967   0.5150967   0.5150967 ]\n",
            "   ...\n",
            "   [ 0.          0.          0.        ]\n",
            "   [ 0.          0.          0.        ]\n",
            "   [ 0.          0.          0.        ]]\n",
            "\n",
            "  [[ 0.          0.          0.        ]\n",
            "   [ 0.          0.          0.        ]\n",
            "   [ 0.          0.          0.        ]\n",
            "   ...\n",
            "   [ 0.          0.          0.        ]\n",
            "   [ 0.          0.          0.        ]\n",
            "   [ 0.          0.          0.        ]]\n",
            "\n",
            "  [[ 0.          0.          0.        ]\n",
            "   [ 0.          0.          0.        ]\n",
            "   [ 0.          0.          0.        ]\n",
            "   ...\n",
            "   [ 0.          0.          0.        ]\n",
            "   [ 0.          0.          0.        ]\n",
            "   [ 0.          0.          0.        ]]]] [[0. 0. 0. 0. 0. 0. 0. 1.]\n",
            " [0. 0. 1. 0. 0. 0. 0. 0.]\n",
            " [0. 0. 1. 0. 0. 0. 0. 0.]\n",
            " [0. 0. 0. 0. 0. 0. 1. 0.]\n",
            " [0. 1. 0. 0. 0. 0. 0. 0.]\n",
            " [0. 0. 0. 0. 0. 0. 1. 0.]\n",
            " [0. 1. 0. 0. 0. 0. 0. 0.]\n",
            " [0. 0. 0. 0. 0. 0. 1. 0.]\n",
            " [1. 0. 0. 0. 0. 0. 0. 0.]\n",
            " [0. 0. 0. 0. 0. 0. 1. 0.]\n",
            " [1. 0. 0. 0. 0. 0. 0. 0.]\n",
            " [0. 1. 0. 0. 0. 0. 0. 0.]\n",
            " [0. 0. 0. 0. 0. 0. 1. 0.]\n",
            " [0. 0. 0. 1. 0. 0. 0. 0.]\n",
            " [0. 0. 0. 0. 0. 1. 0. 0.]\n",
            " [0. 0. 0. 0. 0. 0. 0. 1.]\n",
            " [1. 0. 0. 0. 0. 0. 0. 0.]\n",
            " [0. 0. 1. 0. 0. 0. 0. 0.]\n",
            " [0. 0. 1. 0. 0. 0. 0. 0.]\n",
            " [0. 0. 0. 1. 0. 0. 0. 0.]\n",
            " [0. 0. 0. 0. 1. 0. 0. 0.]\n",
            " [0. 0. 0. 0. 0. 1. 0. 0.]\n",
            " [0. 0. 1. 0. 0. 0. 0. 0.]\n",
            " [0. 0. 0. 0. 1. 0. 0. 0.]\n",
            " [1. 0. 0. 0. 0. 0. 0. 0.]\n",
            " [0. 0. 0. 0. 0. 0. 0. 1.]\n",
            " [0. 0. 0. 0. 0. 0. 0. 1.]\n",
            " [0. 0. 1. 0. 0. 0. 0. 0.]\n",
            " [0. 0. 0. 0. 0. 0. 1. 0.]\n",
            " [0. 0. 0. 1. 0. 0. 0. 0.]\n",
            " [0. 0. 0. 0. 0. 1. 0. 0.]\n",
            " [0. 0. 0. 0. 0. 0. 0. 1.]]\n"
          ]
        }
      ]
    },
    {
      "cell_type": "code",
      "source": [
        "y_true=[]\n",
        "for i in range(len(Y_test)):\n",
        "    K= Y_test[i]\n",
        "    \n",
        "    y_true.append(list(K).index(max(list(K))))"
      ],
      "metadata": {
        "id": "-JrXTktxC0Xj"
      },
      "execution_count": 25,
      "outputs": []
    },
    {
      "cell_type": "code",
      "source": [
        "print(y_true)"
      ],
      "metadata": {
        "colab": {
          "base_uri": "https://localhost:8080/"
        },
        "id": "YTJtvbIlWCpI",
        "outputId": "da9fb411-0d7c-4277-f2a7-8411db4aa7d2"
      },
      "execution_count": 26,
      "outputs": [
        {
          "output_type": "stream",
          "name": "stdout",
          "text": [
            "[7, 2, 2, 6, 1, 6, 1, 6, 0, 6, 0, 1, 6, 3, 5, 7, 0, 2, 2, 3, 4, 5, 2, 4, 0, 7, 7, 2, 6, 3, 5, 7]\n"
          ]
        }
      ]
    },
    {
      "cell_type": "code",
      "source": [
        "M = vgg_16_model.predict(X_test)\n",
        "X_t=[]\n",
        "for i in range(len(M)):\n",
        "    K= M[i]\n",
        "    X_t.append(list(K).index(max(list(K))))"
      ],
      "metadata": {
        "id": "IK7OxGJnWE6g",
        "colab": {
          "base_uri": "https://localhost:8080/"
        },
        "outputId": "e66d8a8f-6fac-4595-ce87-f38f73b4a486"
      },
      "execution_count": 27,
      "outputs": [
        {
          "output_type": "stream",
          "name": "stdout",
          "text": [
            "1/1 [==============================] - 0s 182ms/step\n"
          ]
        }
      ]
    },
    {
      "cell_type": "code",
      "source": [
        "print(X_t)"
      ],
      "metadata": {
        "colab": {
          "base_uri": "https://localhost:8080/"
        },
        "id": "Kh5ZuKMJWJyR",
        "outputId": "9944d343-9be9-4cd0-b434-b4b64e03c40b"
      },
      "execution_count": 28,
      "outputs": [
        {
          "output_type": "stream",
          "name": "stdout",
          "text": [
            "[6, 2, 2, 6, 0, 6, 0, 6, 1, 6, 1, 0, 6, 3, 5, 7, 1, 5, 2, 3, 4, 5, 5, 4, 1, 7, 7, 5, 6, 3, 5, 7]\n"
          ]
        }
      ]
    },
    {
      "cell_type": "code",
      "source": [
        "print(classification_report(y_true, X_t, zero_division = 0))"
      ],
      "metadata": {
        "colab": {
          "base_uri": "https://localhost:8080/"
        },
        "id": "duHNJ44jWMnR",
        "outputId": "f1898be9-fe09-4b1a-be25-a76d333b6455"
      },
      "execution_count": 29,
      "outputs": [
        {
          "output_type": "stream",
          "name": "stdout",
          "text": [
            "              precision    recall  f1-score   support\n",
            "\n",
            "           0       0.00      0.00      0.00         4\n",
            "           1       0.00      0.00      0.00         3\n",
            "           2       1.00      0.50      0.67         6\n",
            "           3       1.00      1.00      1.00         3\n",
            "           4       1.00      1.00      1.00         2\n",
            "           5       0.50      1.00      0.67         3\n",
            "           6       0.86      1.00      0.92         6\n",
            "           7       1.00      0.80      0.89         5\n",
            "\n",
            "    accuracy                           0.66        32\n",
            "   macro avg       0.67      0.66      0.64        32\n",
            "weighted avg       0.71      0.66      0.66        32\n",
            "\n"
          ]
        }
      ]
    },
    {
      "cell_type": "code",
      "source": [
        "print(confusion_matrix(y_true,X_t))"
      ],
      "metadata": {
        "colab": {
          "base_uri": "https://localhost:8080/"
        },
        "id": "dy_8gnwmWQZB",
        "outputId": "9c281807-5565-452a-b1ec-79e3cd1095da"
      },
      "execution_count": 30,
      "outputs": [
        {
          "output_type": "stream",
          "name": "stdout",
          "text": [
            "[[0 4 0 0 0 0 0 0]\n",
            " [3 0 0 0 0 0 0 0]\n",
            " [0 0 3 0 0 3 0 0]\n",
            " [0 0 0 3 0 0 0 0]\n",
            " [0 0 0 0 2 0 0 0]\n",
            " [0 0 0 0 0 3 0 0]\n",
            " [0 0 0 0 0 0 6 0]\n",
            " [0 0 0 0 0 0 1 4]]\n"
          ]
        }
      ]
    },
    {
      "cell_type": "code",
      "source": [],
      "metadata": {
        "id": "RqN6Ru94Y_Aq"
      },
      "execution_count": null,
      "outputs": []
    }
  ]
}