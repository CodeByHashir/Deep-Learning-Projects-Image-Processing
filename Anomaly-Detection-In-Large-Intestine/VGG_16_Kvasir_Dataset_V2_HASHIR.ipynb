{
  "cells": [
    {
      "cell_type": "code",
      "execution_count": 1,
      "metadata": {
        "id": "MBN0FspD1XOE"
      },
      "outputs": [],
      "source": [
        "# import pertinent libraries\n",
        "import os\n",
        "import sys\n",
        "import datetime\n",
        "import glob as glob\n",
        "import numpy as np\n",
        "import cv2\n",
        "# [Keras Models]\n",
        "# import the Keras implementations of VGG16, VGG19, InceptionV3 and Xception models\n",
        "# the model used here is VGG16\n",
        "from keras.applications.vgg19 import VGG19, preprocess_input\n",
        "from keras.models import Model, Sequential\n",
        "from keras.layers import Dense, GlobalAveragePooling2D, Dropout, Add, GlobalAvgPool2D, Flatten\n",
        "from keras.preprocessing.image import ImageDataGenerator\n",
        "from tensorflow.keras.optimizers import Adam\n",
        "import tensorflow as tf\n",
        "from tensorflow import keras\n",
        "import tensorflow\n",
        "import pandas as pd\n",
        "import matplotlib.pyplot as plt\n",
        "%matplotlib inline\n",
        "from sklearn.metrics import classification_report, confusion_matrix\n"
      ]
    },
    {
      "cell_type": "code",
      "execution_count": 2,
      "metadata": {
        "colab": {
          "base_uri": "https://localhost:8080/"
        },
        "id": "A2SvNF91LBTm",
        "outputId": "d7bca94f-380b-435f-a1f0-976c67d3c961"
      },
      "outputs": [
        {
          "output_type": "stream",
          "name": "stdout",
          "text": [
            "Mounted at /content/drive\n"
          ]
        }
      ],
      "source": [
        "from google.colab import drive\n",
        "drive.mount('/content/drive')"
      ]
    },
    {
      "cell_type": "code",
      "execution_count": 6,
      "metadata": {
        "id": "YJr60tHd2jng"
      },
      "outputs": [],
      "source": [
        "img_width, img_height = 224, 224\n",
        "\n",
        "train_dir = '/content/drive/MyDrive/Data_Sets_of_abnormality_in_large_intestine/kvasir_dataset_v2/train'\n",
        "validate_dir = '/content/drive/MyDrive/Data_Sets_of_abnormality_in_large_intestine/kvasir_dataset_v2/val'\n",
        "test_dir = '/content/drive/MyDrive/Data_Sets_of_abnormality_in_large_intestine/kvasir_dataset_v2/test'\n",
        "nb_epochs = 5\n",
        "batch_size = 32\n",
        "nb_classes = len(glob.glob(train_dir + '/*'))\n",
        "\n",
        "# get number of images in training directory\n",
        "nb_train_samples = 0\n",
        "for r, dirs, files in os.walk(train_dir):\n",
        "    for dr in dirs:\n",
        "        nb_train_samples += len(glob.glob(os.path.join(r, dr + \"/*\")))\n",
        "# get number of images in validation directory\n",
        "nb_validate_samples = 0\n",
        "for r, dirs, files in os.walk(validate_dir):\n",
        "    for dr in dirs:\n",
        "        nb_validate_samples += len(glob.glob(os.path.join(r, dr + \"/*\")))\n",
        "# get the number of images in test directory\n",
        "nb_test_samples = 0\n",
        "for r, dirs, files in os.walk(test_dir):\n",
        "    for dr in dirs:\n",
        "        nb_test_samples += len(glob.glob(os.path.join(r, dr + \"/*\")))"
      ]
    },
    {
      "cell_type": "code",
      "execution_count": 4,
      "metadata": {
        "colab": {
          "base_uri": "https://localhost:8080/"
        },
        "id": "VeuSJj-22oAD",
        "outputId": "ea1e9874-140a-4dfc-b142-ee92d5111a26"
      },
      "outputs": [
        {
          "output_type": "stream",
          "name": "stdout",
          "text": [
            "8\n"
          ]
        }
      ],
      "source": [
        "print(nb_classes)"
      ]
    },
    {
      "cell_type": "code",
      "execution_count": 9,
      "metadata": {
        "id": "I13RDe_W2sga"
      },
      "outputs": [],
      "source": [
        "# Data preprocessing for training\n",
        "train_datagen =  ImageDataGenerator(\n",
        "    rotation_range = 20,\n",
        "    fill_mode = 'nearest',\n",
        "    horizontal_flip = True)"
      ]
    },
    {
      "cell_type": "code",
      "execution_count": 10,
      "metadata": {
        "id": "pOwJfr_N2v-k"
      },
      "outputs": [],
      "source": [
        "# data pre-processing for validation\n",
        "validate_datagen =  ImageDataGenerator(\n",
        "    rotation_range = 20,\n",
        "    fill_mode = 'nearest',\n",
        "    horizontal_flip = True)"
      ]
    },
    {
      "cell_type": "code",
      "execution_count": 11,
      "metadata": {
        "id": "Sc5gyS83OAer"
      },
      "outputs": [],
      "source": [
        "# data pre-processing for testing\n",
        "test_datagen =  ImageDataGenerator(\n",
        "    rotation_range = 20,\n",
        "    fill_mode = 'nearest',\n",
        "    horizontal_flip = True)"
      ]
    },
    {
      "cell_type": "code",
      "execution_count": 12,
      "metadata": {
        "colab": {
          "base_uri": "https://localhost:8080/"
        },
        "id": "h7rNVC38OJLk",
        "outputId": "8a01c206-8a4f-40af-d7c4-0329faab504d"
      },
      "outputs": [
        {
          "output_type": "stream",
          "name": "stdout",
          "text": [
            "Found 6400 images belonging to 8 classes.\n"
          ]
        }
      ],
      "source": [
        "# generate and store training data\n",
        "train_generator = train_datagen.flow_from_directory(\n",
        "    train_dir,\n",
        "    target_size = (img_width, img_height),\n",
        "    batch_size = batch_size)"
      ]
    },
    {
      "cell_type": "code",
      "execution_count": 13,
      "metadata": {
        "colab": {
          "base_uri": "https://localhost:8080/"
        },
        "id": "Ge7Z66ckOLDT",
        "outputId": "9eeb2d23-e2be-4bae-dc29-1b6781ce80c8"
      },
      "outputs": [
        {
          "output_type": "stream",
          "name": "stdout",
          "text": [
            "Found 810 images belonging to 8 classes.\n"
          ]
        }
      ],
      "source": [
        "# generate and store validation data\n",
        "validate_generator = validate_datagen.flow_from_directory(\n",
        "    validate_dir,\n",
        "    target_size = (img_width, img_height),\n",
        "    batch_size = batch_size)"
      ]
    },
    {
      "cell_type": "code",
      "execution_count": 14,
      "metadata": {
        "colab": {
          "base_uri": "https://localhost:8080/"
        },
        "id": "_t-s9z30OOPz",
        "outputId": "522bd4ad-3eed-40fd-fdba-9116e5dda29d"
      },
      "outputs": [
        {
          "output_type": "stream",
          "name": "stdout",
          "text": [
            "Found 800 images belonging to 8 classes.\n"
          ]
        }
      ],
      "source": [
        "# generate and store test data\n",
        "test_generator = validate_datagen.flow_from_directory(\n",
        "    test_dir,\n",
        "    target_size = (img_width, img_height),\n",
        "    batch_size = batch_size)"
      ]
    },
    {
      "cell_type": "code",
      "execution_count": 15,
      "metadata": {
        "colab": {
          "base_uri": "https://localhost:8080/"
        },
        "id": "yPCIJ43yF4Hf",
        "outputId": "ea9dd431-2603-4469-b840-a4e5a4eff93a"
      },
      "outputs": [
        {
          "output_type": "stream",
          "name": "stdout",
          "text": [
            "Downloading data from https://storage.googleapis.com/tensorflow/keras-applications/vgg16/vgg16_weights_tf_dim_ordering_tf_kernels_notop.h5\n",
            "58889256/58889256 [==============================] - 2s 0us/step\n"
          ]
        }
      ],
      "source": [
        "vgg_16_model = Sequential()\n",
        "\n",
        "pretrained_model = tf.keras.applications.VGG16(\n",
        "    include_top=False,\n",
        "    weights='imagenet',\n",
        "    input_tensor=None,\n",
        "    input_shape=(224,224,3),\n",
        "    pooling='maxpool'\n",
        ")\n",
        "\n",
        "vgg_16_model.add(pretrained_model)\n",
        "vgg_16_model.add(GlobalAvgPool2D())\n",
        "vgg_16_model.add(Flatten())\n",
        "vgg_16_model.add(Dropout(0.5))\n",
        "vgg_16_model.add(Dense(8, activation = 'softmax'))"
      ]
    },
    {
      "cell_type": "code",
      "execution_count": 16,
      "metadata": {
        "id": "EoxlKV3Z2-Zd"
      },
      "outputs": [],
      "source": [
        "vgg_16_model.compile(Adam(learning_rate = 0.0001), loss = 'categorical_crossentropy', metrics = ['accuracy'])"
      ]
    },
    {
      "cell_type": "code",
      "execution_count": 17,
      "metadata": {
        "colab": {
          "base_uri": "https://localhost:8080/"
        },
        "id": "QOy0hLnI3B7Y",
        "outputId": "8baa72f9-f83e-492c-af6b-c6b42d3132f3"
      },
      "outputs": [
        {
          "output_type": "stream",
          "name": "stdout",
          "text": [
            "Model: \"sequential\"\n",
            "_________________________________________________________________\n",
            " Layer (type)                Output Shape              Param #   \n",
            "=================================================================\n",
            " vgg16 (Functional)          (None, 7, 7, 512)         14714688  \n",
            "                                                                 \n",
            " global_average_pooling2d (G  (None, 512)              0         \n",
            " lobalAveragePooling2D)                                          \n",
            "                                                                 \n",
            " flatten (Flatten)           (None, 512)               0         \n",
            "                                                                 \n",
            " dropout (Dropout)           (None, 512)               0         \n",
            "                                                                 \n",
            " dense (Dense)               (None, 8)                 4104      \n",
            "                                                                 \n",
            "=================================================================\n",
            "Total params: 14,718,792\n",
            "Trainable params: 14,718,792\n",
            "Non-trainable params: 0\n",
            "_________________________________________________________________\n"
          ]
        }
      ],
      "source": [
        "vgg_16_model.summary()"
      ]
    },
    {
      "cell_type": "code",
      "execution_count": 18,
      "metadata": {
        "id": "qIcGMvJf3Ec7"
      },
      "outputs": [],
      "source": [
        "# Currently skipped, will be used later\n",
        "early_stopping = tf.keras.callbacks.EarlyStopping(\n",
        "                          monitor= \"val_loss\",\n",
        "                          patience = 2)"
      ]
    },
    {
      "cell_type": "code",
      "execution_count": 19,
      "metadata": {
        "colab": {
          "base_uri": "https://localhost:8080/"
        },
        "id": "0WFAvvKDHEYg",
        "outputId": "84a249dc-5791-4d48-9c27-4bb8134755a0"
      },
      "outputs": [
        {
          "output_type": "stream",
          "name": "stderr",
          "text": [
            "<ipython-input-19-8af4685f2f28>:4: UserWarning: `Model.fit_generator` is deprecated and will be removed in a future version. Please use `Model.fit`, which supports generators.\n",
            "  transfer_learning_history = vgg_16_model.fit_generator(\n"
          ]
        },
        {
          "output_type": "stream",
          "name": "stdout",
          "text": [
            "Epoch 1/5\n",
            "200/200 [==============================] - 3495s 17s/step - loss: 1.9727 - accuracy: 0.2186 - val_loss: 1.2048 - val_accuracy: 0.4900\n",
            "Epoch 2/5\n",
            "200/200 [==============================] - 214s 1s/step - loss: 1.0127 - accuracy: 0.5467 - val_loss: 0.8096 - val_accuracy: 0.5962\n",
            "Epoch 3/5\n",
            "200/200 [==============================] - 213s 1s/step - loss: 0.7632 - accuracy: 0.6575 - val_loss: 0.7164 - val_accuracy: 0.7075\n",
            "Epoch 4/5\n",
            "200/200 [==============================] - 212s 1s/step - loss: 0.6218 - accuracy: 0.7348 - val_loss: 0.8876 - val_accuracy: 0.5537\n",
            "Epoch 5/5\n",
            "200/200 [==============================] - 212s 1s/step - loss: 0.5165 - accuracy: 0.7819 - val_loss: 1.6958 - val_accuracy: 0.6100\n",
            "Training time: 1:12:43.011770\n"
          ]
        }
      ],
      "source": [
        "# fit the model, log the results and the training time\n",
        "now = datetime.datetime.now\n",
        "t = now()\n",
        "transfer_learning_history = vgg_16_model.fit_generator(\n",
        "    train_generator,\n",
        "    epochs = nb_epochs,\n",
        "    steps_per_epoch = nb_train_samples//batch_size,\n",
        "    validation_data = validate_generator,\n",
        "    validation_steps = nb_validate_samples//batch_size)\n",
        "print('Training time: %s' % (now() - t))"
      ]
    },
    {
      "cell_type": "code",
      "execution_count": 20,
      "metadata": {
        "id": "b63PWGwVQ4UF"
      },
      "outputs": [],
      "source": [
        "model = vgg_16_model.save(\"vgg_16.h5\")"
      ]
    },
    {
      "cell_type": "code",
      "execution_count": 21,
      "metadata": {
        "id": "pCY70NkfQzZf"
      },
      "outputs": [],
      "source": [
        "from keras import models\n",
        "model = models.load_model(\"vgg_16.h5\")"
      ]
    },
    {
      "cell_type": "code",
      "execution_count": 22,
      "metadata": {
        "colab": {
          "base_uri": "https://localhost:8080/"
        },
        "id": "j_XQ4oqPVUXG",
        "outputId": "e565129e-f8b2-4b43-9e8f-b33656cac4a5"
      },
      "outputs": [
        {
          "output_type": "stream",
          "name": "stderr",
          "text": [
            "<ipython-input-22-571fe7bb1dd5>:1: UserWarning: `Model.evaluate_generator` is deprecated and will be removed in a future version. Please use `Model.evaluate`, which supports generators.\n",
            "  score = vgg_16_model.evaluate_generator(validate_generator, nb_validate_samples/batch_size)\n"
          ]
        },
        {
          "output_type": "stream",
          "name": "stdout",
          "text": [
            "Test Score: 1.780839204788208\n",
            "Test Accuracy: 0.5901234745979309\n"
          ]
        }
      ],
      "source": [
        "score = vgg_16_model.evaluate_generator(validate_generator, nb_validate_samples/batch_size)\n",
        "print(\"Test Score:\", score[0])\n",
        "print(\"Test Accuracy:\", score[1])"
      ]
    },
    {
      "cell_type": "code",
      "execution_count": 23,
      "metadata": {
        "colab": {
          "base_uri": "https://localhost:8080/",
          "height": 295
        },
        "id": "OOdjfhOf3TJf",
        "outputId": "333571f9-e4a7-4235-bcec-a1d212903af2"
      },
      "outputs": [
        {
          "output_type": "display_data",
          "data": {
            "text/plain": [
              "<Figure size 432x288 with 1 Axes>"
            ],
            "image/png": "[encoded data removed]"
          },
          "metadata": {
            "needs_background": "light"
          }
        }
      ],
      "source": [
        "fig1 = plt.gcf()\n",
        "plt.plot(transfer_learning_history.history[\"accuracy\"])\n",
        "plt.plot(transfer_learning_history.history[\"val_accuracy\"])\n",
        "plt.axis(ymin = 0.0, ymax = 1.0)\n",
        "plt.axis(xmin = 0.0, xmax = 1.0)\n",
        "plt.grid()\n",
        "plt.title(\"Model Accuracy\")\n",
        "plt.ylabel(\"Accuracy\")\n",
        "plt.xlabel(\"Epochs\")\n",
        "plt.legend([\"train\", \"validation\"])\n",
        "plt.show()"
      ]
    },
    {
      "cell_type": "code",
      "execution_count": 24,
      "metadata": {
        "colab": {
          "base_uri": "https://localhost:8080/",
          "height": 295
        },
        "id": "kyiz8P8dCfpf",
        "outputId": "a3c8c435-5297-4e64-94cc-e43c5bc65371"
      },
      "outputs": [
        {
          "output_type": "display_data",
          "data": {
            "text/plain": [
              "<Figure size 432x288 with 1 Axes>"
            ],
            "image/png": "[encoded data removed]"
          },
          "metadata": {
            "needs_background": "light"
          }
        }
      ],
      "source": [
        "plt.plot(transfer_learning_history.history[\"loss\"])\n",
        "plt.plot(transfer_learning_history.history[\"val_loss\"])\n",
        "plt.grid()\n",
        "plt.title(\"Model Loss\")\n",
        "plt.ylabel(\"Loss\")\n",
        "plt.xlabel(\"Epochs\")\n",
        "plt.legend([\"train\", \"validation\"])\n",
        "plt.show()"
      ]
    },
    {
      "cell_type": "code",
      "execution_count": 25,
      "metadata": {
        "id": "Tt4Zx1m0CmK5"
      },
      "outputs": [],
      "source": [
        "X_test, Y_test = next(test_generator)"
      ]
    },
    {
      "cell_type": "code",
      "execution_count": 26,
      "metadata": {
        "colab": {
          "base_uri": "https://localhost:8080/"
        },
        "id": "NB7JS7_xCxN6",
        "outputId": "f9e21e89-fa02-44c1-a6bc-3e536664b1c6"
      },
      "outputs": [
        {
          "output_type": "stream",
          "name": "stdout",
          "text": [
            "[[[[1.90000000e+01 1.90000000e+01 1.90000000e+01]\n",
            "   [1.90000000e+01 1.90000000e+01 1.90000000e+01]\n",
            "   [1.90000000e+01 1.90000000e+01 1.90000000e+01]\n",
            "   ...\n",
            "   [1.90000000e+01 1.90000000e+01 1.90000000e+01]\n",
            "   [1.90000000e+01 1.90000000e+01 1.90000000e+01]\n",
            "   [1.90000000e+01 1.90000000e+01 1.90000000e+01]]\n",
            "\n",
            "  [[1.90000000e+01 1.90000000e+01 1.90000000e+01]\n",
            "   [1.90000000e+01 1.90000000e+01 1.90000000e+01]\n",
            "   [1.90000000e+01 1.90000000e+01 1.90000000e+01]\n",
            "   ...\n",
            "   [1.90000000e+01 1.90000000e+01 1.90000000e+01]\n",
            "   [1.90000000e+01 1.90000000e+01 1.90000000e+01]\n",
            "   [1.90000000e+01 1.90000000e+01 1.90000000e+01]]\n",
            "\n",
            "  [[1.90000000e+01 1.90000000e+01 1.90000000e+01]\n",
            "   [1.90000000e+01 1.90000000e+01 1.90000000e+01]\n",
            "   [1.90000000e+01 1.90000000e+01 1.90000000e+01]\n",
            "   ...\n",
            "   [1.90000000e+01 1.90000000e+01 1.90000000e+01]\n",
            "   [1.90000000e+01 1.90000000e+01 1.90000000e+01]\n",
            "   [1.90000000e+01 1.90000000e+01 1.90000000e+01]]\n",
            "\n",
            "  ...\n",
            "\n",
            "  [[1.90000000e+01 1.90000000e+01 1.90000000e+01]\n",
            "   [1.90000000e+01 1.90000000e+01 1.90000000e+01]\n",
            "   [1.90000000e+01 1.90000000e+01 1.90000000e+01]\n",
            "   ...\n",
            "   [1.90000000e+01 1.90000000e+01 1.90000000e+01]\n",
            "   [1.90000000e+01 1.90000000e+01 1.90000000e+01]\n",
            "   [1.90000000e+01 1.90000000e+01 1.90000000e+01]]\n",
            "\n",
            "  [[1.90000000e+01 1.90000000e+01 1.90000000e+01]\n",
            "   [1.90000000e+01 1.90000000e+01 1.90000000e+01]\n",
            "   [1.90000000e+01 1.90000000e+01 1.90000000e+01]\n",
            "   ...\n",
            "   [1.90000000e+01 1.90000000e+01 1.90000000e+01]\n",
            "   [1.90000000e+01 1.90000000e+01 1.90000000e+01]\n",
            "   [1.90000000e+01 1.90000000e+01 1.90000000e+01]]\n",
            "\n",
            "  [[1.90000000e+01 1.90000000e+01 1.90000000e+01]\n",
            "   [1.90000000e+01 1.90000000e+01 1.90000000e+01]\n",
            "   [1.90000000e+01 1.90000000e+01 1.90000000e+01]\n",
            "   ...\n",
            "   [1.90000000e+01 1.90000000e+01 1.90000000e+01]\n",
            "   [1.90000000e+01 1.90000000e+01 1.90000000e+01]\n",
            "   [1.90000000e+01 1.90000000e+01 1.90000000e+01]]]\n",
            "\n",
            "\n",
            " [[[2.00000000e+00 2.00000000e+00 1.62090099e+00]\n",
            "   [2.00000000e+00 2.00000000e+00 2.04968333e+00]\n",
            "   [2.00000000e+00 2.00000000e+00 2.47846556e+00]\n",
            "   ...\n",
            "   [4.58325052e+00 4.58325052e+00 3.41674924e+00]\n",
            "   [3.58901262e+00 3.58901262e+00 3.58901262e+00]\n",
            "   [3.00000000e+00 3.00000000e+00 3.00000000e+00]]\n",
            "\n",
            "  [[1.41098726e+00 1.41098726e+00 5.89012682e-01]\n",
            "   [1.51818287e+00 1.51818287e+00 4.81817126e-01]\n",
            "   [1.62537849e+00 1.62537849e+00 3.74621570e-01]\n",
            "   ...\n",
            "   [4.47605515e+00 4.47605515e+00 3.52394485e+00]\n",
            "   [3.48181725e+00 3.48181725e+00 3.48181725e+00]\n",
            "   [3.00000000e+00 3.00000000e+00 3.00000000e+00]]\n",
            "\n",
            "  [[1.00000000e+00 1.00000000e+00 4.16749328e-01]\n",
            "   [1.00000000e+00 1.00000000e+00 5.23944914e-01]\n",
            "   [1.00000000e+00 1.00000000e+00 6.31140471e-01]\n",
            "   ...\n",
            "   [4.36885929e+00 4.36885929e+00 3.63114047e+00]\n",
            "   [3.37462163e+00 3.37462163e+00 3.37462163e+00]\n",
            "   [3.00000000e+00 3.00000000e+00 3.00000000e+00]]\n",
            "\n",
            "  ...\n",
            "\n",
            "  [[1.61961639e+00 1.61961639e+00 1.61961639e+00]\n",
            "   [1.00000000e+00 1.00000000e+00 1.00000000e+00]\n",
            "   [1.00000000e+00 1.00000000e+00 1.00000000e+00]\n",
            "   ...\n",
            "   [6.31140471e-01 6.31140471e-01 0.00000000e+00]\n",
            "   [5.23944914e-01 5.23944914e-01 0.00000000e+00]\n",
            "   [4.16749328e-01 4.16749328e-01 0.00000000e+00]]\n",
            "\n",
            "  [[1.51242077e+00 1.51242077e+00 1.51242077e+00]\n",
            "   [1.00000000e+00 1.00000000e+00 1.00000000e+00]\n",
            "   [1.00000000e+00 1.00000000e+00 1.00000000e+00]\n",
            "   ...\n",
            "   [1.00000000e+00 1.00000000e+00 0.00000000e+00]\n",
            "   [1.00000000e+00 1.00000000e+00 0.00000000e+00]\n",
            "   [1.00000000e+00 1.00000000e+00 0.00000000e+00]]\n",
            "\n",
            "  [[1.40522528e+00 1.40522528e+00 1.40522528e+00]\n",
            "   [1.00000000e+00 1.00000000e+00 1.00000000e+00]\n",
            "   [1.00000000e+00 1.00000000e+00 1.00000000e+00]\n",
            "   ...\n",
            "   [1.00000000e+00 1.00000000e+00 0.00000000e+00]\n",
            "   [1.00000000e+00 1.00000000e+00 0.00000000e+00]\n",
            "   [1.00000000e+00 1.00000000e+00 0.00000000e+00]]]\n",
            "\n",
            "\n",
            " [[[1.90000000e+01 1.90000000e+01 1.90000000e+01]\n",
            "   [1.90000000e+01 1.90000000e+01 1.90000000e+01]\n",
            "   [1.90000000e+01 1.90000000e+01 1.90000000e+01]\n",
            "   ...\n",
            "   [1.90000000e+01 1.90000000e+01 1.90000000e+01]\n",
            "   [1.90000000e+01 1.90000000e+01 1.90000000e+01]\n",
            "   [1.90000000e+01 1.90000000e+01 1.90000000e+01]]\n",
            "\n",
            "  [[1.90000000e+01 1.90000000e+01 1.90000000e+01]\n",
            "   [1.90000000e+01 1.90000000e+01 1.90000000e+01]\n",
            "   [1.90000000e+01 1.90000000e+01 1.90000000e+01]\n",
            "   ...\n",
            "   [1.90000000e+01 1.90000000e+01 1.90000000e+01]\n",
            "   [1.90000000e+01 1.90000000e+01 1.90000000e+01]\n",
            "   [1.90000000e+01 1.90000000e+01 1.90000000e+01]]\n",
            "\n",
            "  [[1.90000000e+01 1.90000000e+01 1.90000000e+01]\n",
            "   [1.90000000e+01 1.90000000e+01 1.90000000e+01]\n",
            "   [1.90000000e+01 1.90000000e+01 1.90000000e+01]\n",
            "   ...\n",
            "   [1.90000000e+01 1.90000000e+01 1.90000000e+01]\n",
            "   [1.90000000e+01 1.90000000e+01 1.90000000e+01]\n",
            "   [1.90000000e+01 1.90000000e+01 1.90000000e+01]]\n",
            "\n",
            "  ...\n",
            "\n",
            "  [[1.90000000e+01 1.90000000e+01 1.90000000e+01]\n",
            "   [1.90000000e+01 1.90000000e+01 1.90000000e+01]\n",
            "   [1.90000000e+01 1.90000000e+01 1.90000000e+01]\n",
            "   ...\n",
            "   [1.90000000e+01 1.90000000e+01 1.90000000e+01]\n",
            "   [1.90000000e+01 1.90000000e+01 1.90000000e+01]\n",
            "   [1.90000000e+01 1.90000000e+01 1.90000000e+01]]\n",
            "\n",
            "  [[1.90000000e+01 1.90000000e+01 1.90000000e+01]\n",
            "   [1.90000000e+01 1.90000000e+01 1.90000000e+01]\n",
            "   [1.90000000e+01 1.90000000e+01 1.90000000e+01]\n",
            "   ...\n",
            "   [1.90000000e+01 1.90000000e+01 1.90000000e+01]\n",
            "   [1.90000000e+01 1.90000000e+01 1.90000000e+01]\n",
            "   [1.90000000e+01 1.90000000e+01 1.90000000e+01]]\n",
            "\n",
            "  [[1.90000000e+01 1.90000000e+01 1.90000000e+01]\n",
            "   [1.90000000e+01 1.90000000e+01 1.90000000e+01]\n",
            "   [1.90000000e+01 1.90000000e+01 1.90000000e+01]\n",
            "   ...\n",
            "   [1.90000000e+01 1.90000000e+01 1.90000000e+01]\n",
            "   [1.90000000e+01 1.90000000e+01 1.90000000e+01]\n",
            "   [1.90000000e+01 1.90000000e+01 1.90000000e+01]]]\n",
            "\n",
            "\n",
            " ...\n",
            "\n",
            "\n",
            " [[[2.00000000e+00 2.00000000e+00 2.00000000e+00]\n",
            "   [2.00000000e+00 2.00000000e+00 2.00000000e+00]\n",
            "   [4.17978674e-01 2.00000000e+00 1.20898938e+00]\n",
            "   ...\n",
            "   [1.00000000e+00 1.00000000e+00 5.35483599e-01]\n",
            "   [1.00000000e+00 1.00000000e+00 3.55996877e-01]\n",
            "   [1.00000000e+00 1.00000000e+00 1.76510110e-01]]\n",
            "\n",
            "  [[2.00000000e+00 2.00000000e+00 2.00000000e+00]\n",
            "   [2.00000000e+00 2.00000000e+00 2.00000000e+00]\n",
            "   [7.76952207e-01 2.00000000e+00 1.38847613e+00]\n",
            "   ...\n",
            "   [1.44827676e+00 1.44827676e+00 8.96553516e-01]\n",
            "   [1.62776351e+00 1.62776351e+00 1.25552702e+00]\n",
            "   [1.80725026e+00 1.80725026e+00 1.61450052e+00]]\n",
            "\n",
            "  [[2.00000000e+00 2.00000000e+00 2.00000000e+00]\n",
            "   [2.00000000e+00 2.00000000e+00 2.00000000e+00]\n",
            "   [1.13592565e+00 2.00000000e+00 1.56796288e+00]\n",
            "   ...\n",
            "   [1.13592565e+00 1.13592565e+00 1.13592565e+00]\n",
            "   [7.76952207e-01 7.76952207e-01 7.76952207e-01]\n",
            "   [4.17978674e-01 4.17978674e-01 4.17978674e-01]]\n",
            "\n",
            "  ...\n",
            "\n",
            "  [[0.00000000e+00 0.00000000e+00 0.00000000e+00]\n",
            "   [0.00000000e+00 0.00000000e+00 0.00000000e+00]\n",
            "   [0.00000000e+00 0.00000000e+00 0.00000000e+00]\n",
            "   ...\n",
            "   [0.00000000e+00 0.00000000e+00 0.00000000e+00]\n",
            "   [0.00000000e+00 0.00000000e+00 0.00000000e+00]\n",
            "   [0.00000000e+00 0.00000000e+00 0.00000000e+00]]\n",
            "\n",
            "  [[0.00000000e+00 0.00000000e+00 0.00000000e+00]\n",
            "   [0.00000000e+00 0.00000000e+00 0.00000000e+00]\n",
            "   [0.00000000e+00 0.00000000e+00 0.00000000e+00]\n",
            "   ...\n",
            "   [0.00000000e+00 0.00000000e+00 0.00000000e+00]\n",
            "   [0.00000000e+00 0.00000000e+00 0.00000000e+00]\n",
            "   [0.00000000e+00 0.00000000e+00 0.00000000e+00]]\n",
            "\n",
            "  [[0.00000000e+00 0.00000000e+00 0.00000000e+00]\n",
            "   [0.00000000e+00 0.00000000e+00 0.00000000e+00]\n",
            "   [0.00000000e+00 0.00000000e+00 0.00000000e+00]\n",
            "   ...\n",
            "   [0.00000000e+00 0.00000000e+00 0.00000000e+00]\n",
            "   [0.00000000e+00 0.00000000e+00 0.00000000e+00]\n",
            "   [0.00000000e+00 0.00000000e+00 0.00000000e+00]]]\n",
            "\n",
            "\n",
            " [[[1.90000000e+01 1.90000000e+01 1.90000000e+01]\n",
            "   [1.90000000e+01 1.90000000e+01 1.90000000e+01]\n",
            "   [1.90000000e+01 1.90000000e+01 1.90000000e+01]\n",
            "   ...\n",
            "   [2.44186916e+01 2.16498451e+01 2.14118385e+01]\n",
            "   [1.88428059e+01 2.05284176e+01 1.76856117e+01]\n",
            "   [1.90000000e+01 1.93770638e+01 1.88114681e+01]]\n",
            "\n",
            "  [[1.90000000e+01 1.90000000e+01 1.90000000e+01]\n",
            "   [1.90000000e+01 1.90000000e+01 1.90000000e+01]\n",
            "   [1.90000000e+01 1.90000000e+01 1.90000000e+01]\n",
            "   ...\n",
            "   [1.81225243e+01 1.83675709e+01 1.62450466e+01]\n",
            "   [1.90000000e+01 2.08176270e+01 1.80911865e+01]\n",
            "   [1.90000000e+01 1.90000000e+01 1.90000000e+01]]\n",
            "\n",
            "  [[1.90000000e+01 1.90000000e+01 1.90000000e+01]\n",
            "   [1.90000000e+01 1.90000000e+01 1.90000000e+01]\n",
            "   [1.90000000e+01 1.90000000e+01 1.90000000e+01]\n",
            "   ...\n",
            "   [1.83709049e+01 1.91127129e+01 1.67418079e+01]\n",
            "   [1.90000000e+01 2.03208675e+01 1.83395672e+01]\n",
            "   [1.90000000e+01 1.90000000e+01 1.90000000e+01]]\n",
            "\n",
            "  ...\n",
            "\n",
            "  [[1.90000000e+01 1.90000000e+01 1.90000000e+01]\n",
            "   [1.90000000e+01 1.90000000e+01 1.90000000e+01]\n",
            "   [1.96290951e+01 1.96290951e+01 1.96290951e+01]\n",
            "   ...\n",
            "   [1.90000000e+01 1.90000000e+01 1.90000000e+01]\n",
            "   [1.90000000e+01 1.90000000e+01 1.90000000e+01]\n",
            "   [1.90000000e+01 1.90000000e+01 1.90000000e+01]]\n",
            "\n",
            "  [[1.90000000e+01 1.90000000e+01 1.90000000e+01]\n",
            "   [1.90000000e+01 1.90000000e+01 1.90000000e+01]\n",
            "   [1.98774757e+01 1.98774757e+01 1.98774757e+01]\n",
            "   ...\n",
            "   [1.90000000e+01 1.90000000e+01 1.90000000e+01]\n",
            "   [1.90000000e+01 1.90000000e+01 1.90000000e+01]\n",
            "   [1.90000000e+01 1.90000000e+01 1.90000000e+01]]\n",
            "\n",
            "  [[1.90000000e+01 1.90000000e+01 1.90000000e+01]\n",
            "   [1.91571941e+01 1.91571941e+01 1.91571941e+01]\n",
            "   [1.98741436e+01 1.98741436e+01 1.98741436e+01]\n",
            "   ...\n",
            "   [1.90000000e+01 1.90000000e+01 1.90000000e+01]\n",
            "   [1.90000000e+01 1.90000000e+01 1.90000000e+01]\n",
            "   [1.90000000e+01 1.90000000e+01 1.90000000e+01]]]\n",
            "\n",
            "\n",
            " [[[2.15584808e+02 1.17446411e+02 1.14031219e+02]\n",
            "   [2.13667786e+02 1.14858589e+02 1.08858589e+02]\n",
            "   [2.20052399e+02 1.23157204e+02 1.17157204e+02]\n",
            "   ...\n",
            "   [1.50000000e+01 1.50000000e+01 1.50000000e+01]\n",
            "   [1.50000000e+01 1.50000000e+01 1.50000000e+01]\n",
            "   [1.50000000e+01 1.50000000e+01 1.50000000e+01]]\n",
            "\n",
            "  [[1.85208008e+02 1.02376480e+02 9.96798477e+01]\n",
            "   [2.13584045e+02 1.14778732e+02 1.09362778e+02]\n",
            "   [2.18336227e+02 1.20860870e+02 1.14860870e+02]\n",
            "   ...\n",
            "   [1.50000000e+01 1.50000000e+01 1.50000000e+01]\n",
            "   [1.50000000e+01 1.50000000e+01 1.50000000e+01]\n",
            "   [1.50000000e+01 1.50000000e+01 1.50000000e+01]]\n",
            "\n",
            "  [[1.26321434e+02 7.24980698e+01 7.03815994e+01]\n",
            "   [2.14454300e+02 1.15939056e+02 1.11393349e+02]\n",
            "   [2.16305664e+02 1.18250137e+02 1.12250137e+02]\n",
            "   ...\n",
            "   [1.50000000e+01 1.50000000e+01 1.50000000e+01]\n",
            "   [1.50000000e+01 1.50000000e+01 1.50000000e+01]\n",
            "   [1.50000000e+01 1.50000000e+01 1.50000000e+01]]\n",
            "\n",
            "  ...\n",
            "\n",
            "  [[1.50000000e+01 1.50000000e+01 1.50000000e+01]\n",
            "   [1.50000000e+01 1.50000000e+01 1.50000000e+01]\n",
            "   [1.50000000e+01 1.50000000e+01 1.50000000e+01]\n",
            "   ...\n",
            "   [1.50000000e+01 1.50000000e+01 1.50000000e+01]\n",
            "   [1.50000000e+01 1.50000000e+01 1.50000000e+01]\n",
            "   [1.50000000e+01 1.50000000e+01 1.50000000e+01]]\n",
            "\n",
            "  [[1.50000000e+01 1.50000000e+01 1.50000000e+01]\n",
            "   [1.50000000e+01 1.50000000e+01 1.50000000e+01]\n",
            "   [1.50000000e+01 1.50000000e+01 1.50000000e+01]\n",
            "   ...\n",
            "   [1.50000000e+01 1.50000000e+01 1.50000000e+01]\n",
            "   [1.50000000e+01 1.50000000e+01 1.50000000e+01]\n",
            "   [1.50000000e+01 1.50000000e+01 1.50000000e+01]]\n",
            "\n",
            "  [[1.50000000e+01 1.50000000e+01 1.50000000e+01]\n",
            "   [1.50000000e+01 1.50000000e+01 1.50000000e+01]\n",
            "   [1.50000000e+01 1.50000000e+01 1.50000000e+01]\n",
            "   ...\n",
            "   [1.50000000e+01 1.50000000e+01 1.50000000e+01]\n",
            "   [1.50000000e+01 1.50000000e+01 1.50000000e+01]\n",
            "   [1.50000000e+01 1.50000000e+01 1.50000000e+01]]]] [[0. 0. 0. 0. 1. 0. 0. 0.]\n",
            " [0. 0. 0. 0. 0. 0. 0. 1.]\n",
            " [0. 0. 0. 0. 0. 1. 0. 0.]\n",
            " [0. 0. 0. 1. 0. 0. 0. 0.]\n",
            " [1. 0. 0. 0. 0. 0. 0. 0.]\n",
            " [1. 0. 0. 0. 0. 0. 0. 0.]\n",
            " [0. 0. 0. 0. 1. 0. 0. 0.]\n",
            " [0. 0. 0. 0. 0. 0. 0. 1.]\n",
            " [0. 0. 0. 0. 1. 0. 0. 0.]\n",
            " [0. 0. 0. 0. 1. 0. 0. 0.]\n",
            " [0. 0. 0. 1. 0. 0. 0. 0.]\n",
            " [1. 0. 0. 0. 0. 0. 0. 0.]\n",
            " [0. 1. 0. 0. 0. 0. 0. 0.]\n",
            " [0. 0. 0. 0. 0. 0. 0. 1.]\n",
            " [0. 0. 0. 0. 0. 0. 1. 0.]\n",
            " [0. 0. 0. 1. 0. 0. 0. 0.]\n",
            " [0. 0. 0. 1. 0. 0. 0. 0.]\n",
            " [1. 0. 0. 0. 0. 0. 0. 0.]\n",
            " [1. 0. 0. 0. 0. 0. 0. 0.]\n",
            " [0. 0. 0. 0. 0. 1. 0. 0.]\n",
            " [0. 0. 0. 1. 0. 0. 0. 0.]\n",
            " [0. 1. 0. 0. 0. 0. 0. 0.]\n",
            " [0. 0. 0. 0. 1. 0. 0. 0.]\n",
            " [0. 1. 0. 0. 0. 0. 0. 0.]\n",
            " [0. 0. 0. 0. 0. 1. 0. 0.]\n",
            " [0. 0. 1. 0. 0. 0. 0. 0.]\n",
            " [0. 0. 0. 0. 1. 0. 0. 0.]\n",
            " [1. 0. 0. 0. 0. 0. 0. 0.]\n",
            " [0. 0. 0. 0. 0. 0. 1. 0.]\n",
            " [0. 1. 0. 0. 0. 0. 0. 0.]\n",
            " [0. 0. 0. 0. 0. 1. 0. 0.]\n",
            " [0. 0. 0. 0. 0. 1. 0. 0.]]\n"
          ]
        }
      ],
      "source": [
        "print(X_test,Y_test)"
      ]
    },
    {
      "cell_type": "code",
      "execution_count": 27,
      "metadata": {
        "id": "-JrXTktxC0Xj"
      },
      "outputs": [],
      "source": [
        "y_true=[]\n",
        "for i in range(len(Y_test)):\n",
        "    K= Y_test[i]\n",
        "    \n",
        "    y_true.append(list(K).index(max(list(K))))"
      ]
    },
    {
      "cell_type": "code",
      "execution_count": 28,
      "metadata": {
        "colab": {
          "base_uri": "https://localhost:8080/"
        },
        "id": "YTJtvbIlWCpI",
        "outputId": "2cdbf0ca-9e7b-47f2-de9b-cd66586dd320"
      },
      "outputs": [
        {
          "output_type": "stream",
          "name": "stdout",
          "text": [
            "[4, 7, 5, 3, 0, 0, 4, 7, 4, 4, 3, 0, 1, 7, 6, 3, 3, 0, 0, 5, 3, 1, 4, 1, 5, 2, 4, 0, 6, 1, 5, 5]\n"
          ]
        }
      ],
      "source": [
        "print(y_true)"
      ]
    },
    {
      "cell_type": "code",
      "execution_count": 29,
      "metadata": {
        "colab": {
          "base_uri": "https://localhost:8080/"
        },
        "id": "IK7OxGJnWE6g",
        "outputId": "5676774b-3aef-4327-a2be-9a22e557d7e0"
      },
      "outputs": [
        {
          "output_type": "stream",
          "name": "stdout",
          "text": [
            "1/1 [==============================] - 0s 188ms/step\n"
          ]
        }
      ],
      "source": [
        "M = vgg_16_model.predict(X_test)\n",
        "X_t=[]\n",
        "for i in range(len(M)):\n",
        "    K= M[i]\n",
        "    X_t.append(list(K).index(max(list(K))))"
      ]
    },
    {
      "cell_type": "code",
      "execution_count": 30,
      "metadata": {
        "colab": {
          "base_uri": "https://localhost:8080/"
        },
        "id": "Kh5ZuKMJWJyR",
        "outputId": "cd100a91-a305-4a8e-8fb9-2b61407f5fbb"
      },
      "outputs": [
        {
          "output_type": "stream",
          "name": "stdout",
          "text": [
            "[4, 7, 2, 3, 0, 0, 4, 7, 4, 4, 3, 0, 1, 7, 6, 3, 7, 0, 0, 2, 3, 1, 2, 1, 5, 2, 4, 0, 1, 1, 2, 2]\n"
          ]
        }
      ],
      "source": [
        "print(X_t)"
      ]
    },
    {
      "cell_type": "code",
      "execution_count": 31,
      "metadata": {
        "colab": {
          "base_uri": "https://localhost:8080/"
        },
        "id": "duHNJ44jWMnR",
        "outputId": "23560380-e08b-4f19-bfa6-d4b025ca1c52"
      },
      "outputs": [
        {
          "output_type": "stream",
          "name": "stdout",
          "text": [
            "              precision    recall  f1-score   support\n",
            "\n",
            "           0       1.00      1.00      1.00         6\n",
            "           1       0.80      1.00      0.89         4\n",
            "           2       0.17      1.00      0.29         1\n",
            "           3       1.00      0.80      0.89         5\n",
            "           4       1.00      0.83      0.91         6\n",
            "           5       1.00      0.20      0.33         5\n",
            "           6       1.00      0.50      0.67         2\n",
            "           7       0.75      1.00      0.86         3\n",
            "\n",
            "    accuracy                           0.78        32\n",
            "   macro avg       0.84      0.79      0.73        32\n",
            "weighted avg       0.93      0.78      0.79        32\n",
            "\n"
          ]
        }
      ],
      "source": [
        "print(classification_report(y_true, X_t, zero_division = 0))"
      ]
    },
    {
      "cell_type": "code",
      "execution_count": 32,
      "metadata": {
        "colab": {
          "base_uri": "https://localhost:8080/"
        },
        "id": "dy_8gnwmWQZB",
        "outputId": "7d3e5a58-4e7d-4151-e183-e29d893c2c1a"
      },
      "outputs": [
        {
          "output_type": "stream",
          "name": "stdout",
          "text": [
            "[[6 0 0 0 0 0 0 0]\n",
            " [0 4 0 0 0 0 0 0]\n",
            " [0 0 1 0 0 0 0 0]\n",
            " [0 0 0 4 0 0 0 1]\n",
            " [0 0 1 0 5 0 0 0]\n",
            " [0 0 4 0 0 1 0 0]\n",
            " [0 1 0 0 0 0 1 0]\n",
            " [0 0 0 0 0 0 0 3]]\n"
          ]
        }
      ],
      "source": [
        "print(confusion_matrix(y_true,X_t))"
      ]
    },
    {
      "cell_type": "code",
      "execution_count": null,
      "metadata": {
        "id": "RqN6Ru94Y_Aq"
      },
      "outputs": [],
      "source": []
    }
  ],
  "metadata": {
    "accelerator": "GPU",
    "colab": {
      "provenance": []
    },
    "kernelspec": {
      "display_name": "Python 3",
      "name": "python3"
    },
    "language_info": {
      "name": "python"
    }
  },
  "nbformat": 4,
  "nbformat_minor": 0
}