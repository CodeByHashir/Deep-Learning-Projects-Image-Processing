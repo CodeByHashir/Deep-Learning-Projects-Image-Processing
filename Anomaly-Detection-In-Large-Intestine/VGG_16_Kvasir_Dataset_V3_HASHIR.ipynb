{
  "nbformat": 4,
  "nbformat_minor": 0,
  "metadata": {
    "colab": {
      "provenance": []
    },
    "kernelspec": {
      "name": "python3",
      "display_name": "Python 3"
    },
    "language_info": {
      "name": "python"
    },
    "accelerator": "GPU"
  },
  "cells": [
    {
      "cell_type": "code",
      "source": [
        "# THIS CODE IS DONE ***DONT MAKE CHANGES IN IT ****************"
      ],
      "metadata": {
        "id": "gkXlrdgZcPGh"
      },
      "execution_count": null,
      "outputs": []
    },
    {
      "cell_type": "code",
      "execution_count": null,
      "metadata": {
        "id": "MBN0FspD1XOE"
      },
      "outputs": [],
      "source": [
        "# import pertinent libraries\n",
        "import os\n",
        "import sys\n",
        "import datetime\n",
        "import glob as glob\n",
        "import numpy as np\n",
        "import cv2\n",
        "# [Keras Models]\n",
        "# import the Keras implementations of VGG16, VGG19, InceptionV3 and Xception models\n",
        "# the model used here is VGG16\n",
        "from keras.applications.vgg19 import VGG19, preprocess_input\n",
        "from keras.models import Model, Sequential\n",
        "from keras.layers import Dense, GlobalAveragePooling2D, Dropout, Add, GlobalAvgPool2D, Flatten\n",
        "from keras.preprocessing.image import ImageDataGenerator\n",
        "from tensorflow.keras.optimizers import Adam\n",
        "import tensorflow as tf\n",
        "from tensorflow import keras\n",
        "import tensorflow\n",
        "import pandas as pd\n",
        "import matplotlib.pyplot as plt\n",
        "%matplotlib inline\n",
        "from sklearn.metrics import classification_report, confusion_matrix\n"
      ]
    },
    {
      "cell_type": "code",
      "source": [
        "from google.colab import drive\n",
        "drive.mount('/content/drive')"
      ],
      "metadata": {
        "colab": {
          "base_uri": "https://localhost:8080/"
        },
        "id": "A2SvNF91LBTm",
        "outputId": "931ba5b3-9689-4743-f908-e31597be5971"
      },
      "execution_count": null,
      "outputs": [
        {
          "output_type": "stream",
          "name": "stdout",
          "text": [
            "Mounted at /content/drive\n"
          ]
        }
      ]
    },
    {
      "cell_type": "code",
      "source": [
        "img_width, img_height = 224, 224\n",
        "\n",
        "train_dir = '/content/drive/MyDrive/Data_Sets_of_abnormality_in_large_intestine/kvasir_dataset_v3/train'\n",
        "validate_dir = '/content/drive/MyDrive/Data_Sets_of_abnormality_in_large_intestine/kvasir_dataset_v3/val'\n",
        "test_dir = '/content/drive/MyDrive/Data_Sets_of_abnormality_in_large_intestine/kvasir_dataset_v3/test'\n",
        "nb_epochs = 10\n",
        "batch_size = 32\n",
        "nb_classes = len(glob.glob(train_dir + '/*'))\n",
        "\n",
        "# get number of images in training directory\n",
        "nb_train_samples = 0\n",
        "for r, dirs, files in os.walk(train_dir):\n",
        "    for dr in dirs:\n",
        "        nb_train_samples += len(glob.glob(os.path.join(r, dr + \"/*\")))\n",
        "# get number of images in validation directory\n",
        "nb_validate_samples = 0\n",
        "for r, dirs, files in os.walk(validate_dir):\n",
        "    for dr in dirs:\n",
        "        nb_validate_samples += len(glob.glob(os.path.join(r, dr + \"/*\")))\n",
        "# get the number of images in test directory\n",
        "nb_test_samples = 0\n",
        "for r, dirs, files in os.walk(test_dir):\n",
        "    for dr in dirs:\n",
        "        nb_test_samples += len(glob.glob(os.path.join(r, dr + \"/*\")))"
      ],
      "metadata": {
        "id": "YJr60tHd2jng"
      },
      "execution_count": null,
      "outputs": []
    },
    {
      "cell_type": "code",
      "source": [
        "print(nb_classes)"
      ],
      "metadata": {
        "colab": {
          "base_uri": "https://localhost:8080/"
        },
        "id": "VeuSJj-22oAD",
        "outputId": "83d04aa6-1b08-4606-e926-8985734b7401"
      },
      "execution_count": null,
      "outputs": [
        {
          "output_type": "stream",
          "name": "stdout",
          "text": [
            "14\n"
          ]
        }
      ]
    },
    {
      "cell_type": "code",
      "source": [
        "# Data preprocessing for training\n",
        "train_datagen =  ImageDataGenerator(\n",
        "    rotation_range = 20,\n",
        "    fill_mode = 'nearest',\n",
        "    horizontal_flip = True)"
      ],
      "metadata": {
        "id": "I13RDe_W2sga"
      },
      "execution_count": null,
      "outputs": []
    },
    {
      "cell_type": "code",
      "source": [
        "# data pre-processing for validation\n",
        "validate_datagen =  ImageDataGenerator(\n",
        "    rotation_range = 20,\n",
        "    fill_mode = 'nearest',\n",
        "    horizontal_flip = True)"
      ],
      "metadata": {
        "id": "pOwJfr_N2v-k"
      },
      "execution_count": null,
      "outputs": []
    },
    {
      "cell_type": "code",
      "source": [
        "# data pre-processing for testing\n",
        "test_datagen =  ImageDataGenerator(\n",
        "    rotation_range = 20,\n",
        "    fill_mode = 'nearest',\n",
        "    horizontal_flip = True)"
      ],
      "metadata": {
        "id": "Sc5gyS83OAer"
      },
      "execution_count": null,
      "outputs": []
    },
    {
      "cell_type": "code",
      "source": [
        "# generate and store training data\n",
        "train_generator = train_datagen.flow_from_directory(\n",
        "    train_dir,\n",
        "    target_size = (img_width, img_height),\n",
        "    batch_size = batch_size)"
      ],
      "metadata": {
        "colab": {
          "base_uri": "https://localhost:8080/"
        },
        "id": "h7rNVC38OJLk",
        "outputId": "2de3e9c9-bbd7-458f-8d7e-39461566164d"
      },
      "execution_count": null,
      "outputs": [
        {
          "output_type": "stream",
          "name": "stdout",
          "text": [
            "Found 5309 images belonging to 14 classes.\n"
          ]
        }
      ]
    },
    {
      "cell_type": "code",
      "source": [
        "# generate and store validation data\n",
        "validate_generator = validate_datagen.flow_from_directory(\n",
        "    validate_dir,\n",
        "    target_size = (img_width, img_height),\n",
        "    batch_size = batch_size)"
      ],
      "metadata": {
        "colab": {
          "base_uri": "https://localhost:8080/"
        },
        "id": "Ge7Z66ckOLDT",
        "outputId": "69c84d3a-30a1-40a0-b42a-e0ee33f8b8f6"
      },
      "execution_count": null,
      "outputs": [
        {
          "output_type": "stream",
          "name": "stdout",
          "text": [
            "Found 713 images belonging to 14 classes.\n"
          ]
        }
      ]
    },
    {
      "cell_type": "code",
      "source": [
        "# generate and store test data\n",
        "test_generator = validate_datagen.flow_from_directory(\n",
        "    test_dir,\n",
        "    target_size = (img_width, img_height),\n",
        "    batch_size = batch_size)"
      ],
      "metadata": {
        "colab": {
          "base_uri": "https://localhost:8080/"
        },
        "id": "_t-s9z30OOPz",
        "outputId": "b65889db-3732-428b-d2c2-c9ff46400955"
      },
      "execution_count": null,
      "outputs": [
        {
          "output_type": "stream",
          "name": "stdout",
          "text": [
            "Found 735 images belonging to 14 classes.\n"
          ]
        }
      ]
    },
    {
      "cell_type": "code",
      "source": [
        "vgg_16_model = Sequential()\n",
        "\n",
        "pretrained_model = tf.keras.applications.VGG16(\n",
        "    include_top=False,\n",
        "    weights='imagenet',\n",
        "    input_tensor=None,\n",
        "    input_shape=(224,224,3),\n",
        "    pooling='maxpool'\n",
        ")\n",
        "\n",
        "vgg_16_model.add(pretrained_model)\n",
        "vgg_16_model.add(GlobalAvgPool2D())\n",
        "vgg_16_model.add(Flatten())\n",
        "vgg_16_model.add(Dropout(0.5))\n",
        "vgg_16_model.add(Dense(14, activation = 'softmax'))"
      ],
      "metadata": {
        "id": "yPCIJ43yF4Hf"
      },
      "execution_count": null,
      "outputs": []
    },
    {
      "cell_type": "code",
      "source": [
        "vgg_16_model.compile(Adam(learning_rate = 0.0001), loss = 'categorical_crossentropy', metrics = ['accuracy'])"
      ],
      "metadata": {
        "id": "EoxlKV3Z2-Zd"
      },
      "execution_count": null,
      "outputs": []
    },
    {
      "cell_type": "code",
      "source": [
        "vgg_16_model.summary()"
      ],
      "metadata": {
        "colab": {
          "base_uri": "https://localhost:8080/"
        },
        "id": "QOy0hLnI3B7Y",
        "outputId": "f674854c-5952-4a68-9019-07aa3fc90946"
      },
      "execution_count": null,
      "outputs": [
        {
          "output_type": "stream",
          "name": "stdout",
          "text": [
            "Model: \"sequential_1\"\n",
            "_________________________________________________________________\n",
            " Layer (type)                Output Shape              Param #   \n",
            "=================================================================\n",
            " vgg16 (Functional)          (None, 7, 7, 512)         14714688  \n",
            "                                                                 \n",
            " global_average_pooling2d_1   (None, 512)              0         \n",
            " (GlobalAveragePooling2D)                                        \n",
            "                                                                 \n",
            " flatten_1 (Flatten)         (None, 512)               0         \n",
            "                                                                 \n",
            " dropout_1 (Dropout)         (None, 512)               0         \n",
            "                                                                 \n",
            " dense_1 (Dense)             (None, 14)                7182      \n",
            "                                                                 \n",
            "=================================================================\n",
            "Total params: 14,721,870\n",
            "Trainable params: 14,721,870\n",
            "Non-trainable params: 0\n",
            "_________________________________________________________________\n"
          ]
        }
      ]
    },
    {
      "cell_type": "code",
      "source": [
        "# Currently skipped, will be used later\n",
        "early_stopping = tf.keras.callbacks.EarlyStopping(\n",
        "                          monitor= \"val_loss\",\n",
        "                          patience = 2)"
      ],
      "metadata": {
        "id": "qIcGMvJf3Ec7"
      },
      "execution_count": null,
      "outputs": []
    },
    {
      "cell_type": "code",
      "source": [
        "# fit the model, log the results and the training time\n",
        "now = datetime.datetime.now\n",
        "t = now()\n",
        "transfer_learning_history = vgg_16_model.fit_generator(\n",
        "    train_generator,\n",
        "    epochs = nb_epochs,\n",
        "    steps_per_epoch = nb_train_samples//batch_size,\n",
        "    validation_data = validate_generator,\n",
        "    validation_steps = nb_validate_samples//batch_size)\n",
        "print('Training time: %s' % (now() - t))"
      ],
      "metadata": {
        "colab": {
          "base_uri": "https://localhost:8080/"
        },
        "id": "0WFAvvKDHEYg",
        "outputId": "4445cf4f-2a21-4421-c476-1760b99cfdd4"
      },
      "execution_count": null,
      "outputs": [
        {
          "metadata": {
            "tags": null
          },
          "name": "stderr",
          "output_type": "stream",
          "text": [
            "<ipython-input-21-8af4685f2f28>:4: UserWarning: `Model.fit_generator` is deprecated and will be removed in a future version. Please use `Model.fit`, which supports generators.\n",
            "  transfer_learning_history = vgg_16_model.fit_generator(\n"
          ]
        },
        {
          "output_type": "stream",
          "name": "stdout",
          "text": [
            "Epoch 1/10\n",
            "165/165 [==============================] - 3764s 23s/step - loss: 1.5718 - accuracy: 0.4916 - val_loss: 1.1790 - val_accuracy: 0.6591\n",
            "Epoch 2/10\n",
            "165/165 [==============================] - 130s 786ms/step - loss: 0.7353 - accuracy: 0.7464 - val_loss: 0.8083 - val_accuracy: 0.7983\n",
            "Epoch 3/10\n",
            "165/165 [==============================] - 130s 787ms/step - loss: 0.6732 - accuracy: 0.7626 - val_loss: 0.9600 - val_accuracy: 0.7926\n",
            "Epoch 4/10\n",
            "165/165 [==============================] - 132s 798ms/step - loss: 0.4977 - accuracy: 0.8406 - val_loss: 0.6995 - val_accuracy: 0.7855\n",
            "Epoch 5/10\n",
            "165/165 [==============================] - 130s 786ms/step - loss: 0.4185 - accuracy: 0.8683 - val_loss: 0.6057 - val_accuracy: 0.8281\n",
            "Epoch 6/10\n",
            "165/165 [==============================] - 132s 802ms/step - loss: 0.3381 - accuracy: 0.8962 - val_loss: 0.5055 - val_accuracy: 0.8764\n",
            "Epoch 7/10\n",
            "165/165 [==============================] - 131s 789ms/step - loss: 0.3159 - accuracy: 0.9106 - val_loss: 0.5320 - val_accuracy: 0.8679\n",
            "Epoch 8/10\n",
            "165/165 [==============================] - 132s 800ms/step - loss: 0.2665 - accuracy: 0.9253 - val_loss: 0.4521 - val_accuracy: 0.8764\n",
            "Epoch 9/10\n",
            "165/165 [==============================] - 132s 799ms/step - loss: 0.2539 - accuracy: 0.9303 - val_loss: 0.4615 - val_accuracy: 0.8878\n",
            "Epoch 10/10\n",
            "165/165 [==============================] - 131s 793ms/step - loss: 0.2382 - accuracy: 0.9337 - val_loss: 0.5527 - val_accuracy: 0.8864\n",
            "Training time: 1:23:45.340313\n"
          ]
        }
      ]
    },
    {
      "cell_type": "code",
      "source": [
        "model = vgg_16_model.save(\"vgg_16_Kvasir_v3.h5\")"
      ],
      "metadata": {
        "id": "b63PWGwVQ4UF"
      },
      "execution_count": null,
      "outputs": []
    },
    {
      "cell_type": "code",
      "source": [
        "from keras import models\n",
        "model = models.load_model(\"vgg_16_Kvasir_v3.h5\")"
      ],
      "metadata": {
        "id": "pCY70NkfQzZf"
      },
      "execution_count": null,
      "outputs": []
    },
    {
      "cell_type": "code",
      "source": [
        "score = vgg_16_model.evaluate_generator(validate_generator, nb_validate_samples/batch_size)\n",
        "print(\"Test Score:\", score[0])\n",
        "print(\"Test Accuracy:\", score[1])"
      ],
      "metadata": {
        "colab": {
          "base_uri": "https://localhost:8080/"
        },
        "id": "j_XQ4oqPVUXG",
        "outputId": "e776d354-236f-4d9b-a021-441d4c136922"
      },
      "execution_count": null,
      "outputs": [
        {
          "output_type": "stream",
          "name": "stderr",
          "text": [
            "<ipython-input-24-571fe7bb1dd5>:1: UserWarning: `Model.evaluate_generator` is deprecated and will be removed in a future version. Please use `Model.evaluate`, which supports generators.\n",
            "  score = vgg_16_model.evaluate_generator(validate_generator, nb_validate_samples/batch_size)\n"
          ]
        },
        {
          "output_type": "stream",
          "name": "stdout",
          "text": [
            "Test Score: 0.5566262006759644\n",
            "Test Accuracy: 0.8765778541564941\n"
          ]
        }
      ]
    },
    {
      "cell_type": "code",
      "source": [
        "plt.plot(transfer_learning_history.history[\"loss\"])\n",
        "plt.plot(transfer_learning_history.history[\"val_loss\"])\n",
        "plt.grid()\n",
        "plt.title(\"Model Loss\")\n",
        "plt.ylabel(\"Loss\")\n",
        "plt.xlabel(\"Epochs\")\n",
        "plt.legend([\"train\", \"validation\"])\n",
        "plt.show()"
      ],
      "metadata": {
        "colab": {
          "base_uri": "https://localhost:8080/",
          "height": 295
        },
        "id": "kyiz8P8dCfpf",
        "outputId": "5301c5c7-4fb8-4ac8-d46c-ccf71884818c"
      },
      "execution_count": null,
      "outputs": [
        {
          "output_type": "display_data",
          "data": {
            "text/plain": [
              "<Figure size 432x288 with 1 Axes>"
            ],
            "image/png": "[encoded data removed]"
          },
          "metadata": {
            "needs_background": "light"
          }
        }
      ]
    },
    {
      "cell_type": "code",
      "source": [
        "X_test, Y_test = next(test_generator)"
      ],
      "metadata": {
        "id": "Tt4Zx1m0CmK5"
      },
      "execution_count": null,
      "outputs": []
    },
    {
      "cell_type": "code",
      "source": [
        "print(X_test,Y_test)"
      ],
      "metadata": {
        "colab": {
          "base_uri": "https://localhost:8080/"
        },
        "id": "NB7JS7_xCxN6",
        "outputId": "535ff239-ddc7-4ee0-e069-552265eec03b"
      },
      "execution_count": null,
      "outputs": [
        {
          "output_type": "stream",
          "name": "stdout",
          "text": [
            "[[[[4.87154812e-01 4.87154812e-01 4.87154812e-01]\n",
            "   [7.08990753e-01 7.08990753e-01 7.08990753e-01]\n",
            "   [9.30826724e-01 9.30826724e-01 9.30826724e-01]\n",
            "   ...\n",
            "   [3.00000000e+00 3.00000000e+00 1.92602634e+00]\n",
            "   [3.00000000e+00 3.00000000e+00 3.04828310e+00]\n",
            "   [3.00000000e+00 3.00000000e+00 4.02569056e+00]]\n",
            "\n",
            "  [[0.00000000e+00 0.00000000e+00 0.00000000e+00]\n",
            "   [0.00000000e+00 0.00000000e+00 0.00000000e+00]\n",
            "   [0.00000000e+00 0.00000000e+00 0.00000000e+00]\n",
            "   ...\n",
            "   [3.00000000e+00 3.00000000e+00 1.48235440e+00]\n",
            "   [3.00000000e+00 3.00000000e+00 3.93562698e+00]\n",
            "   [3.00000000e+00 3.00000000e+00 3.58201838e+00]]\n",
            "\n",
            "  [[0.00000000e+00 0.00000000e+00 0.00000000e+00]\n",
            "   [0.00000000e+00 0.00000000e+00 0.00000000e+00]\n",
            "   [0.00000000e+00 0.00000000e+00 0.00000000e+00]\n",
            "   ...\n",
            "   [3.00000000e+00 3.00000000e+00 1.03868246e+00]\n",
            "   [3.00000000e+00 3.00000000e+00 4.82297087e+00]\n",
            "   [3.00000000e+00 3.00000000e+00 3.13834643e+00]]\n",
            "\n",
            "  ...\n",
            "\n",
            "  [[0.00000000e+00 0.00000000e+00 0.00000000e+00]\n",
            "   [0.00000000e+00 0.00000000e+00 0.00000000e+00]\n",
            "   [0.00000000e+00 0.00000000e+00 0.00000000e+00]\n",
            "   ...\n",
            "   [6.99806595e+01 1.41980652e+02 1.28019348e+02]\n",
            "   [6.97588196e+01 1.41758820e+02 1.28241180e+02]\n",
            "   [6.95369873e+01 1.41536987e+02 1.28463013e+02]]\n",
            "\n",
            "  [[0.00000000e+00 0.00000000e+00 0.00000000e+00]\n",
            "   [0.00000000e+00 0.00000000e+00 0.00000000e+00]\n",
            "   [0.00000000e+00 0.00000000e+00 0.00000000e+00]\n",
            "   ...\n",
            "   [7.00000000e+01 1.42000000e+02 1.28000000e+02]\n",
            "   [7.00000000e+01 1.42000000e+02 1.28000000e+02]\n",
            "   [7.00000000e+01 1.42000000e+02 1.28000000e+02]]\n",
            "\n",
            "  [[0.00000000e+00 0.00000000e+00 0.00000000e+00]\n",
            "   [0.00000000e+00 0.00000000e+00 0.00000000e+00]\n",
            "   [0.00000000e+00 0.00000000e+00 0.00000000e+00]\n",
            "   ...\n",
            "   [6.62766953e+01 1.40138351e+02 1.27069176e+02]\n",
            "   [6.71640396e+01 1.40582016e+02 1.27291008e+02]\n",
            "   [6.80513840e+01 1.41025696e+02 1.27512848e+02]]]\n",
            "\n",
            "\n",
            " [[[3.00000000e+00 3.00000000e+00 3.00000000e+00]\n",
            "   [3.00000000e+00 3.00000000e+00 3.00000000e+00]\n",
            "   [3.00000000e+00 3.00000000e+00 3.00000000e+00]\n",
            "   ...\n",
            "   [2.58528733e+00 2.58528733e+00 2.58528733e+00]\n",
            "   [2.41129470e+00 2.41129470e+00 2.41129470e+00]\n",
            "   [3.00000000e+00 3.00000000e+00 2.18424678e+00]]\n",
            "\n",
            "  [[4.17741060e+00 4.17741060e+00 4.17741060e+00]\n",
            "   [4.01219082e+00 4.01219082e+00 4.01219082e+00]\n",
            "   [3.84697080e+00 3.84697080e+00 3.84697080e+00]\n",
            "   ...\n",
            "   [2.50267720e+00 2.50267720e+00 2.50267720e+00]\n",
            "   [2.49390459e+00 2.49390459e+00 2.49390459e+00]\n",
            "   [3.00000000e+00 3.00000000e+00 2.01902676e+00]]\n",
            "\n",
            "  [[4.41471291e+00 4.41471291e+00 4.41471291e+00]\n",
            "   [4.49732256e+00 4.49732256e+00 4.49732256e+00]\n",
            "   [4.57993269e+00 4.57993269e+00 4.57993269e+00]\n",
            "   ...\n",
            "   [2.42006731e+00 2.42006731e+00 2.42006731e+00]\n",
            "   [2.57651472e+00 2.57651472e+00 2.57651472e+00]\n",
            "   [3.00000000e+00 3.00000000e+00 1.85380685e+00]]\n",
            "\n",
            "  ...\n",
            "\n",
            "  [[1.00000000e+00 1.00000000e+00 5.73096573e-01]\n",
            "   [1.00000000e+00 1.00000000e+00 4.23485368e-01]\n",
            "   [1.00000000e+00 1.00000000e+00 1.00000000e+00]\n",
            "   ...\n",
            "   [1.57993269e+00 1.57993269e+00 1.57993269e+00]\n",
            "   [1.49732268e+00 1.49732268e+00 1.49732268e+00]\n",
            "   [1.41471279e+00 1.41471279e+00 1.41471279e+00]]\n",
            "\n",
            "  [[1.00000000e+00 1.00000000e+00 4.90486622e-01]\n",
            "   [1.00000000e+00 1.00000000e+00 5.06095350e-01]\n",
            "   [1.00000000e+00 1.00000000e+00 1.00000000e+00]\n",
            "   ...\n",
            "   [2.00000000e+00 2.00000000e+00 8.46970737e-01]\n",
            "   [2.00000000e+00 2.00000000e+00 1.01219070e+00]\n",
            "   [2.00000000e+00 2.00000000e+00 1.17741060e+00]]\n",
            "\n",
            "  [[1.00000000e+00 1.00000000e+00 4.07876641e-01]\n",
            "   [1.00000000e+00 1.00000000e+00 5.88705301e-01]\n",
            "   [1.00000000e+00 1.00000000e+00 1.00000000e+00]\n",
            "   ...\n",
            "   [1.42690337e+00 1.42690337e+00 5.73096573e-01]\n",
            "   [1.50951338e+00 1.50951338e+00 4.90486622e-01]\n",
            "   [1.59212339e+00 1.59212339e+00 4.07876641e-01]]]\n",
            "\n",
            "\n",
            " [[[4.00000000e+00 4.00000000e+00 4.00000000e+00]\n",
            "   [4.75898981e+00 4.75898981e+00 4.75898981e+00]\n",
            "   [4.24983883e+00 4.24983883e+00 4.24983883e+00]\n",
            "   ...\n",
            "   [4.00000000e+00 4.00000000e+00 4.00000000e+00]\n",
            "   [4.00000000e+00 4.00000000e+00 4.00000000e+00]\n",
            "   [4.00000000e+00 4.00000000e+00 4.00000000e+00]]\n",
            "\n",
            "  [[4.00000000e+00 4.00000000e+00 4.00000000e+00]\n",
            "   [4.62640285e+00 4.62640285e+00 4.62640285e+00]\n",
            "   [4.38242579e+00 4.38242579e+00 4.38242579e+00]\n",
            "   ...\n",
            "   [4.00000000e+00 4.00000000e+00 4.00000000e+00]\n",
            "   [4.00000000e+00 4.00000000e+00 4.00000000e+00]\n",
            "   [4.00000000e+00 4.00000000e+00 4.00000000e+00]]\n",
            "\n",
            "  [[4.00000000e+00 4.00000000e+00 4.00000000e+00]\n",
            "   [4.49381590e+00 4.49381590e+00 4.49381590e+00]\n",
            "   [4.51501226e+00 4.51501226e+00 4.51501226e+00]\n",
            "   ...\n",
            "   [4.00000000e+00 4.00000000e+00 4.00000000e+00]\n",
            "   [4.00000000e+00 4.00000000e+00 4.00000000e+00]\n",
            "   [4.00000000e+00 4.00000000e+00 4.00000000e+00]]\n",
            "\n",
            "  ...\n",
            "\n",
            "  [[3.24983883e+00 3.24983883e+00 3.24983883e+00]\n",
            "   [3.38242579e+00 3.38242579e+00 3.38242579e+00]\n",
            "   [3.51501250e+00 3.51501250e+00 3.51501250e+00]\n",
            "   ...\n",
            "   [1.00000000e+00 1.00000000e+00 1.00000000e+00]\n",
            "   [1.00000000e+00 1.00000000e+00 1.00000000e+00]\n",
            "   [1.49735522e+00 1.49735522e+00 1.49735522e+00]]\n",
            "\n",
            "  [[3.75898981e+00 3.75898981e+00 3.75898981e+00]\n",
            "   [3.62640285e+00 3.62640285e+00 3.62640285e+00]\n",
            "   [3.49381614e+00 3.49381614e+00 3.49381614e+00]\n",
            "   ...\n",
            "   [1.00000000e+00 1.00000000e+00 1.00000000e+00]\n",
            "   [1.00000000e+00 1.00000000e+00 1.00000000e+00]\n",
            "   [1.36476851e+00 1.36476851e+00 1.36476851e+00]]\n",
            "\n",
            "  [[3.00000000e+00 3.00000000e+00 3.00000000e+00]\n",
            "   [3.00000000e+00 3.00000000e+00 3.00000000e+00]\n",
            "   [3.00000000e+00 3.00000000e+00 3.00000000e+00]\n",
            "   ...\n",
            "   [1.00000000e+00 1.00000000e+00 1.00000000e+00]\n",
            "   [1.00000000e+00 1.00000000e+00 1.00000000e+00]\n",
            "   [1.23218167e+00 1.23218167e+00 1.23218167e+00]]]\n",
            "\n",
            "\n",
            " ...\n",
            "\n",
            "\n",
            " [[[0.00000000e+00 0.00000000e+00 0.00000000e+00]\n",
            "   [0.00000000e+00 0.00000000e+00 0.00000000e+00]\n",
            "   [0.00000000e+00 0.00000000e+00 0.00000000e+00]\n",
            "   ...\n",
            "   [0.00000000e+00 0.00000000e+00 6.33806992e+00]\n",
            "   [0.00000000e+00 0.00000000e+00 5.16870403e+00]\n",
            "   [0.00000000e+00 0.00000000e+00 0.00000000e+00]]\n",
            "\n",
            "  [[0.00000000e+00 0.00000000e+00 0.00000000e+00]\n",
            "   [0.00000000e+00 0.00000000e+00 0.00000000e+00]\n",
            "   [0.00000000e+00 0.00000000e+00 0.00000000e+00]\n",
            "   ...\n",
            "   [0.00000000e+00 0.00000000e+00 7.77048063e+00]\n",
            "   [0.00000000e+00 0.00000000e+00 2.59036493e+00]\n",
            "   [0.00000000e+00 0.00000000e+00 0.00000000e+00]]\n",
            "\n",
            "  [[0.00000000e+00 0.00000000e+00 0.00000000e+00]\n",
            "   [0.00000000e+00 0.00000000e+00 0.00000000e+00]\n",
            "   [0.00000000e+00 0.00000000e+00 0.00000000e+00]\n",
            "   ...\n",
            "   [0.00000000e+00 0.00000000e+00 8.63479614e+00]\n",
            "   [0.00000000e+00 0.00000000e+00 1.20257968e-02]\n",
            "   [0.00000000e+00 0.00000000e+00 0.00000000e+00]]\n",
            "\n",
            "  ...\n",
            "\n",
            "  [[0.00000000e+00 0.00000000e+00 0.00000000e+00]\n",
            "   [0.00000000e+00 0.00000000e+00 0.00000000e+00]\n",
            "   [0.00000000e+00 0.00000000e+00 0.00000000e+00]\n",
            "   ...\n",
            "   [0.00000000e+00 0.00000000e+00 0.00000000e+00]\n",
            "   [0.00000000e+00 0.00000000e+00 0.00000000e+00]\n",
            "   [0.00000000e+00 0.00000000e+00 0.00000000e+00]]\n",
            "\n",
            "  [[0.00000000e+00 0.00000000e+00 0.00000000e+00]\n",
            "   [0.00000000e+00 0.00000000e+00 0.00000000e+00]\n",
            "   [0.00000000e+00 0.00000000e+00 0.00000000e+00]\n",
            "   ...\n",
            "   [0.00000000e+00 0.00000000e+00 0.00000000e+00]\n",
            "   [0.00000000e+00 0.00000000e+00 0.00000000e+00]\n",
            "   [0.00000000e+00 0.00000000e+00 0.00000000e+00]]\n",
            "\n",
            "  [[0.00000000e+00 0.00000000e+00 0.00000000e+00]\n",
            "   [0.00000000e+00 0.00000000e+00 0.00000000e+00]\n",
            "   [0.00000000e+00 0.00000000e+00 0.00000000e+00]\n",
            "   ...\n",
            "   [0.00000000e+00 0.00000000e+00 0.00000000e+00]\n",
            "   [0.00000000e+00 0.00000000e+00 0.00000000e+00]\n",
            "   [0.00000000e+00 0.00000000e+00 0.00000000e+00]]]\n",
            "\n",
            "\n",
            " [[[6.58656921e+01 3.82985344e+01 2.72985325e+01]\n",
            "   [6.75948486e+01 4.01138153e+01 2.91138172e+01]\n",
            "   [7.00000000e+01 4.39415665e+01 3.48246994e+01]\n",
            "   ...\n",
            "   [1.00000000e+00 1.00000000e+00 1.00000000e+00]\n",
            "   [7.39520729e-01 7.39520729e-01 1.26047921e+00]\n",
            "   [4.32844460e-01 4.32844460e-01 1.56715548e+00]]\n",
            "\n",
            "  [[6.64790421e+01 3.92185631e+01 2.82185631e+01]\n",
            "   [6.60614624e+01 3.82737579e+01 2.72737579e+01]\n",
            "   [7.00000000e+01 4.33282127e+01 3.29846420e+01]\n",
            "   ...\n",
            "   [9.43831205e-02 9.43831205e-02 1.90561688e+00]\n",
            "   [2.12293148e-01 2.12293148e-01 1.78770685e+00]\n",
            "   [5.18969417e-01 5.18969417e-01 1.48103058e+00]]\n",
            "\n",
            "  [[6.73233795e+01 4.01847878e+01 2.91847878e+01]\n",
            "   [6.51887665e+01 3.72831497e+01 2.62831497e+01]\n",
            "   [6.92871552e+01 4.21445847e+01 3.11445847e+01]\n",
            "   ...\n",
            "   [8.57430756e-01 8.57430756e-01 1.14256918e+00]\n",
            "   [1.00000000e+00 1.00000000e+00 1.00000000e+00]\n",
            "   [1.00000000e+00 1.00000000e+00 1.00000000e+00]]\n",
            "\n",
            "  ...\n",
            "\n",
            "  [[6.84707870e+01 1.42470779e+02 1.27470787e+02]\n",
            "   [6.81641083e+01 1.42164108e+02 1.27164108e+02]\n",
            "   [6.81425705e+01 1.42142563e+02 1.27427711e+02]\n",
            "   ...\n",
            "   [2.08142563e+02 1.21142570e+02 9.32851410e+01]\n",
            "   [2.09377533e+02 1.22094383e+02 9.53775330e+01]\n",
            "   [2.12769012e+02 1.22769012e+02 9.87690125e+01]]\n",
            "\n",
            "  [[6.84810333e+01 1.42481033e+02 1.28443085e+02]\n",
            "   [6.87877045e+01 1.42787704e+02 1.29363113e+02]\n",
            "   [6.89056168e+01 1.42716858e+02 1.29622467e+02]\n",
            "   ...\n",
            "   [2.08984650e+02 1.21492325e+02 9.38205338e+01]\n",
            "   [2.08787704e+02 1.21787704e+02 9.45754166e+01]\n",
            "   [2.11958084e+02 1.22739517e+02 9.79580841e+01]]\n",
            "\n",
            "  [[6.85671539e+01 1.41701462e+02 1.28268616e+02]\n",
            "   [6.82604828e+01 1.40781433e+02 1.27041916e+02]\n",
            "   [6.80923920e+01 1.40092392e+02 1.26184792e+02]\n",
            "   ...\n",
            "   [2.10824707e+02 1.22412354e+02 9.53539200e+01]\n",
            "   [2.08481033e+02 1.21481033e+02 9.39620590e+01]\n",
            "   [2.10731384e+02 1.22432846e+02 9.67313766e+01]]]\n",
            "\n",
            "\n",
            " [[[2.68061966e-01 2.68061966e-01 2.68061966e-01]\n",
            "   [4.93302802e-03 4.93302802e-03 4.93302802e-03]\n",
            "   [5.16391814e-01 5.16391814e-01 5.16391814e-01]\n",
            "   ...\n",
            "   [1.03951664e+01 1.15927496e+01 1.30000000e+01]\n",
            "   [1.15343552e+01 1.33015318e+01 1.14656448e+01]\n",
            "   [1.05361242e+01 1.25361242e+01 1.10000000e+01]]\n",
            "\n",
            "  [[7.67177343e-01 7.67177343e-01 7.67177343e-01]\n",
            "   [9.69693720e-01 9.69693720e-01 9.69693720e-01]\n",
            "   [7.06564784e-01 7.06564784e-01 7.06564784e-01]\n",
            "   ...\n",
            "   [1.01310911e+01 1.11966372e+01 1.28689089e+01]\n",
            "   [1.19393873e+01 1.39393873e+01 1.10000000e+01]\n",
            "   [1.00098658e+01 1.20098658e+01 1.10000000e+01]]\n",
            "\n",
            "  [[0.00000000e+00 0.00000000e+00 0.00000000e+00]\n",
            "   [6.55456260e-02 6.55456260e-02 6.55456260e-02]\n",
            "   [3.28674555e-01 3.28674555e-01 3.28674555e-01]\n",
            "   ...\n",
            "   [1.06573496e+01 1.19860239e+01 1.23426504e+01]\n",
            "   [1.14131298e+01 1.34131298e+01 1.10000000e+01]\n",
            "   [1.05163918e+01 1.25163918e+01 1.15163918e+01]]\n",
            "\n",
            "  ...\n",
            "\n",
            "  [[3.94836082e+01 1.53258194e+02 1.33000000e+02]\n",
            "   [4.00000000e+01 1.53000000e+02 1.33000000e+02]\n",
            "   [4.00000000e+01 1.53000000e+02 1.33000000e+02]\n",
            "   ...\n",
            "   [3.13426514e+01 2.10000000e+01 1.46713257e+01]\n",
            "   [3.18689079e+01 2.10000000e+01 1.49344540e+01]\n",
            "   [3.16048336e+01 2.10000000e+01 1.48024168e+01]]\n",
            "\n",
            "  [[4.00000000e+01 1.53000000e+02 1.33000000e+02]\n",
            "   [4.00000000e+01 1.53000000e+02 1.33000000e+02]\n",
            "   [4.00000000e+01 1.53000000e+02 1.33000000e+02]\n",
            "   ...\n",
            "   [3.00000000e+01 2.10000000e+01 1.40000000e+01]\n",
            "   [3.00000000e+01 2.10000000e+01 1.40000000e+01]\n",
            "   [3.04656448e+01 2.10000000e+01 1.42328224e+01]]\n",
            "\n",
            "  [[4.00000000e+01 1.53000000e+02 1.33000000e+02]\n",
            "   [4.00000000e+01 1.53000000e+02 1.33000000e+02]\n",
            "   [4.01975822e+01 1.53197586e+02 1.33197586e+02]\n",
            "   ...\n",
            "   [3.02581959e+01 2.17745876e+01 1.50327835e+01]\n",
            "   [3.00000000e+01 2.10000000e+01 1.40000000e+01]\n",
            "   [3.00000000e+01 2.10000000e+01 1.40000000e+01]]]] [[0. 0. 1. 0. 0. 0. 0. 0. 0. 0. 0. 0. 0. 0.]\n",
            " [0. 0. 0. 0. 1. 0. 0. 0. 0. 0. 0. 0. 0. 0.]\n",
            " [0. 0. 0. 0. 0. 0. 0. 0. 0. 0. 0. 1. 0. 0.]\n",
            " [0. 0. 0. 0. 0. 0. 1. 0. 0. 0. 0. 0. 0. 0.]\n",
            " [0. 0. 0. 0. 1. 0. 0. 0. 0. 0. 0. 0. 0. 0.]\n",
            " [0. 0. 0. 1. 0. 0. 0. 0. 0. 0. 0. 0. 0. 0.]\n",
            " [0. 0. 0. 0. 0. 0. 1. 0. 0. 0. 0. 0. 0. 0.]\n",
            " [1. 0. 0. 0. 0. 0. 0. 0. 0. 0. 0. 0. 0. 0.]\n",
            " [0. 0. 0. 0. 0. 0. 0. 0. 0. 0. 0. 0. 0. 1.]\n",
            " [0. 0. 0. 0. 0. 0. 0. 0. 0. 0. 0. 1. 0. 0.]\n",
            " [0. 0. 0. 0. 1. 0. 0. 0. 0. 0. 0. 0. 0. 0.]\n",
            " [0. 1. 0. 0. 0. 0. 0. 0. 0. 0. 0. 0. 0. 0.]\n",
            " [0. 0. 0. 0. 0. 0. 0. 0. 0. 1. 0. 0. 0. 0.]\n",
            " [0. 0. 0. 0. 0. 0. 0. 0. 0. 1. 0. 0. 0. 0.]\n",
            " [0. 0. 0. 0. 1. 0. 0. 0. 0. 0. 0. 0. 0. 0.]\n",
            " [0. 0. 0. 0. 0. 0. 1. 0. 0. 0. 0. 0. 0. 0.]\n",
            " [0. 1. 0. 0. 0. 0. 0. 0. 0. 0. 0. 0. 0. 0.]\n",
            " [0. 0. 0. 1. 0. 0. 0. 0. 0. 0. 0. 0. 0. 0.]\n",
            " [0. 0. 0. 0. 0. 0. 1. 0. 0. 0. 0. 0. 0. 0.]\n",
            " [0. 1. 0. 0. 0. 0. 0. 0. 0. 0. 0. 0. 0. 0.]\n",
            " [0. 0. 0. 1. 0. 0. 0. 0. 0. 0. 0. 0. 0. 0.]\n",
            " [0. 0. 0. 0. 0. 1. 0. 0. 0. 0. 0. 0. 0. 0.]\n",
            " [1. 0. 0. 0. 0. 0. 0. 0. 0. 0. 0. 0. 0. 0.]\n",
            " [0. 1. 0. 0. 0. 0. 0. 0. 0. 0. 0. 0. 0. 0.]\n",
            " [0. 0. 0. 1. 0. 0. 0. 0. 0. 0. 0. 0. 0. 0.]\n",
            " [0. 0. 0. 0. 0. 0. 1. 0. 0. 0. 0. 0. 0. 0.]\n",
            " [0. 0. 0. 0. 0. 0. 0. 0. 0. 0. 0. 1. 0. 0.]\n",
            " [0. 1. 0. 0. 0. 0. 0. 0. 0. 0. 0. 0. 0. 0.]\n",
            " [0. 0. 1. 0. 0. 0. 0. 0. 0. 0. 0. 0. 0. 0.]\n",
            " [0. 0. 0. 0. 0. 0. 1. 0. 0. 0. 0. 0. 0. 0.]\n",
            " [0. 0. 0. 0. 0. 0. 0. 1. 0. 0. 0. 0. 0. 0.]\n",
            " [0. 0. 0. 1. 0. 0. 0. 0. 0. 0. 0. 0. 0. 0.]]\n"
          ]
        }
      ]
    },
    {
      "cell_type": "code",
      "source": [
        "y_true=[]\n",
        "for i in range(len(Y_test)):\n",
        "    K= Y_test[i]\n",
        "    \n",
        "    y_true.append(list(K).index(max(list(K))))"
      ],
      "metadata": {
        "id": "-JrXTktxC0Xj"
      },
      "execution_count": null,
      "outputs": []
    },
    {
      "cell_type": "code",
      "source": [
        "print(y_true)"
      ],
      "metadata": {
        "colab": {
          "base_uri": "https://localhost:8080/"
        },
        "id": "YTJtvbIlWCpI",
        "outputId": "6feb5537-6e35-4d5c-fa31-7397f2d811cd"
      },
      "execution_count": null,
      "outputs": [
        {
          "output_type": "stream",
          "name": "stdout",
          "text": [
            "[2, 4, 11, 6, 4, 3, 6, 0, 13, 11, 4, 1, 9, 9, 4, 6, 1, 3, 6, 1, 3, 5, 0, 1, 3, 6, 11, 1, 2, 6, 7, 3]\n"
          ]
        }
      ]
    },
    {
      "cell_type": "code",
      "source": [
        "M = vgg_16_model.predict(X_test)\n",
        "X_t=[]\n",
        "for i in range(len(M)):\n",
        "    K= M[i]\n",
        "    X_t.append(list(K).index(max(list(K))))"
      ],
      "metadata": {
        "id": "IK7OxGJnWE6g",
        "colab": {
          "base_uri": "https://localhost:8080/"
        },
        "outputId": "9c2a490a-bcbd-457a-8396-57485147496f"
      },
      "execution_count": null,
      "outputs": [
        {
          "output_type": "stream",
          "name": "stdout",
          "text": [
            "1/1 [==============================] - 0s 194ms/step\n"
          ]
        }
      ]
    },
    {
      "cell_type": "code",
      "source": [
        "print(X_t)"
      ],
      "metadata": {
        "colab": {
          "base_uri": "https://localhost:8080/"
        },
        "id": "Kh5ZuKMJWJyR",
        "outputId": "b7c45534-d54d-4466-c5b7-3a0e1f7fb793"
      },
      "execution_count": null,
      "outputs": [
        {
          "output_type": "stream",
          "name": "stdout",
          "text": [
            "[2, 4, 11, 6, 4, 3, 6, 0, 11, 11, 4, 1, 11, 11, 4, 6, 1, 3, 6, 1, 4, 0, 0, 1, 3, 6, 11, 1, 2, 6, 7, 3]\n"
          ]
        }
      ]
    },
    {
      "cell_type": "code",
      "source": [
        "print(classification_report(y_true, X_t, zero_division = 0))"
      ],
      "metadata": {
        "colab": {
          "base_uri": "https://localhost:8080/"
        },
        "id": "duHNJ44jWMnR",
        "outputId": "70792772-2ab4-4716-e507-0b26f789ff33"
      },
      "execution_count": null,
      "outputs": [
        {
          "output_type": "stream",
          "name": "stdout",
          "text": [
            "              precision    recall  f1-score   support\n",
            "\n",
            "           0       0.67      1.00      0.80         2\n",
            "           1       1.00      1.00      1.00         5\n",
            "           2       1.00      1.00      1.00         2\n",
            "           3       1.00      0.80      0.89         5\n",
            "           4       0.80      1.00      0.89         4\n",
            "           5       0.00      0.00      0.00         1\n",
            "           6       1.00      1.00      1.00         6\n",
            "           7       1.00      1.00      1.00         1\n",
            "           9       0.00      0.00      0.00         2\n",
            "          11       0.50      1.00      0.67         3\n",
            "          13       0.00      0.00      0.00         1\n",
            "\n",
            "    accuracy                           0.84        32\n",
            "   macro avg       0.63      0.71      0.66        32\n",
            "weighted avg       0.78      0.84      0.80        32\n",
            "\n"
          ]
        }
      ]
    },
    {
      "cell_type": "code",
      "source": [
        "print(confusion_matrix(y_true,X_t))"
      ],
      "metadata": {
        "colab": {
          "base_uri": "https://localhost:8080/"
        },
        "id": "dy_8gnwmWQZB",
        "outputId": "e748075f-1093-4cfd-fc7f-aa17638bf6bd"
      },
      "execution_count": null,
      "outputs": [
        {
          "output_type": "stream",
          "name": "stdout",
          "text": [
            "[[2 0 0 0 0 0 0 0 0 0 0]\n",
            " [0 5 0 0 0 0 0 0 0 0 0]\n",
            " [0 0 2 0 0 0 0 0 0 0 0]\n",
            " [0 0 0 4 1 0 0 0 0 0 0]\n",
            " [0 0 0 0 4 0 0 0 0 0 0]\n",
            " [1 0 0 0 0 0 0 0 0 0 0]\n",
            " [0 0 0 0 0 0 6 0 0 0 0]\n",
            " [0 0 0 0 0 0 0 1 0 0 0]\n",
            " [0 0 0 0 0 0 0 0 0 2 0]\n",
            " [0 0 0 0 0 0 0 0 0 3 0]\n",
            " [0 0 0 0 0 0 0 0 0 1 0]]\n"
          ]
        }
      ]
    },
    {
      "cell_type": "code",
      "source": [],
      "metadata": {
        "id": "RqN6Ru94Y_Aq"
      },
      "execution_count": null,
      "outputs": []
    }
  ]
}