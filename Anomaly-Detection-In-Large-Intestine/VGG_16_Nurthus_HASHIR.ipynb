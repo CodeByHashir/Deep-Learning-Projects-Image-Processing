{
  "cells": [
    {
      "cell_type": "code",
      "execution_count": null,
      "metadata": {
        "id": "gkXlrdgZcPGh"
      },
      "outputs": [],
      "source": [
        "# THIS CODE IS DONE ********** DONT MAKE CHANGES IN IT ****************"
      ]
    },
    {
      "cell_type": "code",
      "execution_count": 5,
      "metadata": {
        "id": "MBN0FspD1XOE"
      },
      "outputs": [],
      "source": [
        "# import pertinent libraries\n",
        "import os\n",
        "import sys\n",
        "import datetime\n",
        "import glob as glob\n",
        "import numpy as np\n",
        "import cv2\n",
        "# [Keras Models]\n",
        "# import the Keras implementations of VGG16, VGG19, InceptionV3 and Xception models\n",
        "# the model used here is VGG16\n",
        "from keras.applications.vgg19 import VGG19, preprocess_input\n",
        "from keras.models import Model, Sequential\n",
        "from keras.layers import Dense, GlobalAveragePooling2D, Dropout, Add, GlobalAvgPool2D, Flatten\n",
        "from keras.preprocessing.image import ImageDataGenerator\n",
        "from tensorflow.keras.optimizers import Adam\n",
        "import tensorflow as tf\n",
        "from tensorflow import keras\n",
        "import tensorflow\n",
        "import pandas as pd\n",
        "import matplotlib.pyplot as plt\n",
        "%matplotlib inline\n",
        "from sklearn.metrics import classification_report, confusion_matrix\n"
      ]
    },
    {
      "cell_type": "code",
      "execution_count": 1,
      "metadata": {
        "colab": {
          "base_uri": "https://localhost:8080/"
        },
        "id": "A2SvNF91LBTm",
        "outputId": "5a950333-8708-404d-a326-1d165384287c"
      },
      "outputs": [
        {
          "name": "stdout",
          "output_type": "stream",
          "text": [
            "Mounted at /content/drive\n"
          ]
        }
      ],
      "source": [
        "from google.colab import drive\n",
        "drive.mount('/content/drive')"
      ]
    },
    {
      "cell_type": "code",
      "execution_count": 6,
      "metadata": {
        "id": "YJr60tHd2jng"
      },
      "outputs": [],
      "source": [
        "img_width, img_height = 224, 224\n",
        "\n",
        "train_dir = '/content/drive/MyDrive/Data_Sets_of_abnormality_in_large_intestine/nerthus_dataset/test'\n",
        "validate_dir = '/content/drive/MyDrive/Data_Sets_of_abnormality_in_large_intestine/nerthus_dataset/val'\n",
        "test_dir = '/content/drive/MyDrive/Data_Sets_of_abnormality_in_large_intestine/nerthus_dataset/test'\n",
        "nb_epochs = 10\n",
        "batch_size = 32\n",
        "nb_classes = len(glob.glob(train_dir + '/*'))\n",
        "\n",
        "# get number of images in training directory\n",
        "nb_train_samples = 0\n",
        "for r, dirs, files in os.walk(train_dir):\n",
        "    for dr in dirs:\n",
        "        nb_train_samples += len(glob.glob(os.path.join(r, dr + \"/*\")))\n",
        "# get number of images in validation directory\n",
        "nb_validate_samples = 0\n",
        "for r, dirs, files in os.walk(validate_dir):\n",
        "    for dr in dirs:\n",
        "        nb_validate_samples += len(glob.glob(os.path.join(r, dr + \"/*\")))\n",
        "# get the number of images in test directory\n",
        "nb_test_samples = 0\n",
        "for r, dirs, files in os.walk(test_dir):\n",
        "    for dr in dirs:\n",
        "        nb_test_samples += len(glob.glob(os.path.join(r, dr + \"/*\")))"
      ]
    },
    {
      "cell_type": "code",
      "execution_count": 7,
      "metadata": {
        "colab": {
          "base_uri": "https://localhost:8080/"
        },
        "id": "VeuSJj-22oAD",
        "outputId": "50ef1010-3c09-4c36-cf33-bdda3543ec98"
      },
      "outputs": [
        {
          "name": "stdout",
          "output_type": "stream",
          "text": [
            "4\n"
          ]
        }
      ],
      "source": [
        "print(nb_classes)"
      ]
    },
    {
      "cell_type": "code",
      "execution_count": 8,
      "metadata": {
        "id": "I13RDe_W2sga"
      },
      "outputs": [],
      "source": [
        "# Data preprocessing for training\n",
        "train_datagen =  ImageDataGenerator(\n",
        "    rotation_range = 20,\n",
        "    fill_mode = 'nearest',\n",
        "    horizontal_flip = True)"
      ]
    },
    {
      "cell_type": "code",
      "execution_count": 9,
      "metadata": {
        "id": "pOwJfr_N2v-k"
      },
      "outputs": [],
      "source": [
        "# data pre-processing for validation\n",
        "validate_datagen =  ImageDataGenerator(\n",
        "    rotation_range = 20,\n",
        "    fill_mode = 'nearest',\n",
        "    horizontal_flip = True)"
      ]
    },
    {
      "cell_type": "code",
      "execution_count": 10,
      "metadata": {
        "id": "Sc5gyS83OAer"
      },
      "outputs": [],
      "source": [
        "# data pre-processing for testing\n",
        "test_datagen =  ImageDataGenerator(\n",
        "    rotation_range = 20,\n",
        "    fill_mode = 'nearest',\n",
        "    horizontal_flip = True)"
      ]
    },
    {
      "cell_type": "code",
      "execution_count": 11,
      "metadata": {
        "colab": {
          "base_uri": "https://localhost:8080/"
        },
        "id": "h7rNVC38OJLk",
        "outputId": "fa220308-1e02-491d-d426-4a6eab4ae71c"
      },
      "outputs": [
        {
          "name": "stdout",
          "output_type": "stream",
          "text": [
            "Found 553 images belonging to 4 classes.\n"
          ]
        }
      ],
      "source": [
        "# generate and store training data\n",
        "train_generator = train_datagen.flow_from_directory(\n",
        "    train_dir,\n",
        "    target_size = (img_width, img_height),\n",
        "    batch_size = batch_size)"
      ]
    },
    {
      "cell_type": "code",
      "execution_count": 12,
      "metadata": {
        "colab": {
          "base_uri": "https://localhost:8080/"
        },
        "id": "Ge7Z66ckOLDT",
        "outputId": "30e71a56-46a4-4c79-fd44-d3c0055e9620"
      },
      "outputs": [
        {
          "name": "stdout",
          "output_type": "stream",
          "text": [
            "Found 552 images belonging to 4 classes.\n"
          ]
        }
      ],
      "source": [
        "# generate and store validation data\n",
        "validate_generator = validate_datagen.flow_from_directory(\n",
        "    validate_dir,\n",
        "    target_size = (img_width, img_height),\n",
        "    batch_size = batch_size)"
      ]
    },
    {
      "cell_type": "code",
      "execution_count": 13,
      "metadata": {
        "colab": {
          "base_uri": "https://localhost:8080/"
        },
        "id": "_t-s9z30OOPz",
        "outputId": "55f6f1f3-42a9-4256-e2bc-79b08e3670fb"
      },
      "outputs": [
        {
          "name": "stdout",
          "output_type": "stream",
          "text": [
            "Found 553 images belonging to 4 classes.\n"
          ]
        }
      ],
      "source": [
        "# generate and store test data\n",
        "test_generator = validate_datagen.flow_from_directory(\n",
        "    test_dir,\n",
        "    target_size = (img_width, img_height),\n",
        "    batch_size = batch_size)"
      ]
    },
    {
      "cell_type": "code",
      "execution_count": 15,
      "metadata": {
        "id": "yPCIJ43yF4Hf"
      },
      "outputs": [],
      "source": [
        "vgg_16_model = Sequential()\n",
        "\n",
        "pretrained_model = tf.keras.applications.VGG16(\n",
        "    include_top=False,\n",
        "    weights='imagenet',\n",
        "    input_tensor=None,\n",
        "    input_shape=(224,224,3),\n",
        "    pooling='maxpool'\n",
        ")\n",
        "\n",
        "vgg_16_model.add(pretrained_model)\n",
        "vgg_16_model.add(GlobalAvgPool2D())\n",
        "vgg_16_model.add(Flatten())\n",
        "vgg_16_model.add(Dropout(0.5))\n",
        "vgg_16_model.add(Dense(4, activation = 'softmax'))"
      ]
    },
    {
      "cell_type": "code",
      "execution_count": 16,
      "metadata": {
        "id": "EoxlKV3Z2-Zd"
      },
      "outputs": [],
      "source": [
        "vgg_16_model.compile(Adam(learning_rate = 0.0001), loss = 'categorical_crossentropy', metrics = ['accuracy'])"
      ]
    },
    {
      "cell_type": "code",
      "execution_count": 17,
      "metadata": {
        "colab": {
          "base_uri": "https://localhost:8080/"
        },
        "id": "QOy0hLnI3B7Y",
        "outputId": "4e8eb658-b36f-44aa-e006-9b41bb0915d0"
      },
      "outputs": [
        {
          "name": "stdout",
          "output_type": "stream",
          "text": [
            "Model: \"sequential_1\"\n",
            "_________________________________________________________________\n",
            " Layer (type)                Output Shape              Param #   \n",
            "=================================================================\n",
            " vgg16 (Functional)          (None, 7, 7, 512)         14714688  \n",
            "                                                                 \n",
            " global_average_pooling2d_1   (None, 512)              0         \n",
            " (GlobalAveragePooling2D)                                        \n",
            "                                                                 \n",
            " flatten_1 (Flatten)         (None, 512)               0         \n",
            "                                                                 \n",
            " dropout_1 (Dropout)         (None, 512)               0         \n",
            "                                                                 \n",
            " dense_1 (Dense)             (None, 4)                 2052      \n",
            "                                                                 \n",
            "=================================================================\n",
            "Total params: 14,716,740\n",
            "Trainable params: 14,716,740\n",
            "Non-trainable params: 0\n",
            "_________________________________________________________________\n"
          ]
        }
      ],
      "source": [
        "vgg_16_model.summary()"
      ]
    },
    {
      "cell_type": "code",
      "execution_count": 18,
      "metadata": {
        "id": "qIcGMvJf3Ec7"
      },
      "outputs": [],
      "source": [
        "# Currently skipped, will be used later\n",
        "early_stopping = tf.keras.callbacks.EarlyStopping(\n",
        "                          monitor= \"val_loss\",\n",
        "                          patience = 2)"
      ]
    },
    {
      "cell_type": "code",
      "execution_count": 19,
      "metadata": {
        "colab": {
          "base_uri": "https://localhost:8080/"
        },
        "id": "0WFAvvKDHEYg",
        "outputId": "0c7af6ff-0307-435d-f86e-eb896ca54b18"
      },
      "outputs": [
        {
          "name": "stderr",
          "output_type": "stream",
          "text": [
            "<ipython-input-19-8af4685f2f28>:4: UserWarning: `Model.fit_generator` is deprecated and will be removed in a future version. Please use `Model.fit`, which supports generators.\n",
            "  transfer_learning_history = vgg_16_model.fit_generator(\n"
          ]
        },
        {
          "name": "stdout",
          "output_type": "stream",
          "text": [
            "Epoch 1/10\n",
            "17/17 [==============================] - 300s 17s/step - loss: 2.1227 - accuracy: 0.4069 - val_loss: 1.1902 - val_accuracy: 0.4890\n",
            "Epoch 2/10\n",
            "17/17 [==============================] - 21s 1s/step - loss: 1.2047 - accuracy: 0.4894 - val_loss: 0.9035 - val_accuracy: 0.6434\n",
            "Epoch 3/10\n",
            "17/17 [==============================] - 21s 1s/step - loss: 1.0036 - accuracy: 0.5441 - val_loss: 0.7738 - val_accuracy: 0.6783\n",
            "Epoch 4/10\n",
            "17/17 [==============================] - 21s 1s/step - loss: 0.8771 - accuracy: 0.6238 - val_loss: 0.5795 - val_accuracy: 0.7022\n",
            "Epoch 5/10\n",
            "17/17 [==============================] - 21s 1s/step - loss: 0.6663 - accuracy: 0.7206 - val_loss: 0.4571 - val_accuracy: 0.8382\n",
            "Epoch 6/10\n",
            "17/17 [==============================] - 21s 1s/step - loss: 0.6555 - accuracy: 0.7409 - val_loss: 0.7440 - val_accuracy: 0.6783\n",
            "Epoch 7/10\n",
            "17/17 [==============================] - 21s 1s/step - loss: 0.6836 - accuracy: 0.7063 - val_loss: 0.5363 - val_accuracy: 0.8235\n",
            "Epoch 8/10\n",
            "17/17 [==============================] - 21s 1s/step - loss: 0.6186 - accuracy: 0.7543 - val_loss: 0.4684 - val_accuracy: 0.8603\n",
            "Epoch 9/10\n",
            "17/17 [==============================] - 21s 1s/step - loss: 0.4863 - accuracy: 0.7946 - val_loss: 0.3079 - val_accuracy: 0.9246\n",
            "Epoch 10/10\n",
            "17/17 [==============================] - 21s 1s/step - loss: 0.3832 - accuracy: 0.8733 - val_loss: 0.2061 - val_accuracy: 0.9283\n",
            "Training time: 0:10:40.278235\n"
          ]
        }
      ],
      "source": [
        "# fit the model, log the results and the training time\n",
        "now = datetime.datetime.now\n",
        "t = now()\n",
        "transfer_learning_history = vgg_16_model.fit_generator(\n",
        "    train_generator,\n",
        "    epochs = nb_epochs,\n",
        "    steps_per_epoch = nb_train_samples//batch_size,\n",
        "    validation_data = validate_generator,\n",
        "    validation_steps = nb_validate_samples//batch_size)\n",
        "print('Training time: %s' % (now() - t))"
      ]
    },
    {
      "cell_type": "code",
      "execution_count": 20,
      "metadata": {
        "id": "b63PWGwVQ4UF"
      },
      "outputs": [],
      "source": [
        "model = vgg_16_model.save(\"vgg_16_Nurthus.h5\")"
      ]
    },
    {
      "cell_type": "code",
      "execution_count": 21,
      "metadata": {
        "id": "pCY70NkfQzZf"
      },
      "outputs": [],
      "source": [
        "from keras import models\n",
        "model = models.load_model(\"vgg_16_Nurthus.h5\")"
      ]
    },
    {
      "cell_type": "code",
      "execution_count": 22,
      "metadata": {
        "colab": {
          "base_uri": "https://localhost:8080/"
        },
        "id": "j_XQ4oqPVUXG",
        "outputId": "9c349630-5cb0-4242-886d-cd69fa6689ee"
      },
      "outputs": [
        {
          "name": "stderr",
          "output_type": "stream",
          "text": [
            "<ipython-input-22-571fe7bb1dd5>:1: UserWarning: `Model.evaluate_generator` is deprecated and will be removed in a future version. Please use `Model.evaluate`, which supports generators.\n",
            "  score = vgg_16_model.evaluate_generator(validate_generator, nb_validate_samples/batch_size)\n"
          ]
        },
        {
          "name": "stdout",
          "output_type": "stream",
          "text": [
            "Test Score: 0.206655815243721\n",
            "Test Accuracy: 0.9365941882133484\n"
          ]
        }
      ],
      "source": [
        "score = vgg_16_model.evaluate_generator(validate_generator, nb_validate_samples/batch_size)\n",
        "print(\"Test Score:\", score[0])\n",
        "print(\"Test Accuracy:\", score[1])"
      ]
    },
    {
      "cell_type": "code",
      "execution_count": 23,
      "metadata": {
        "colab": {
          "base_uri": "https://localhost:8080/",
          "height": 295
        },
        "id": "kyiz8P8dCfpf",
        "outputId": "f635d3fc-8c33-4785-8df2-4fcc85bd7b52"
      },
      "outputs": [
        {
          "data": {
            "image/png": "[encoded data removed]",
            "text/plain": [
              "<Figure size 432x288 with 1 Axes>"
            ]
          },
          "metadata": {
            "needs_background": "light"
          },
          "output_type": "display_data"
        }
      ],
      "source": [
        "plt.plot(transfer_learning_history.history[\"loss\"])\n",
        "plt.plot(transfer_learning_history.history[\"val_loss\"])\n",
        "plt.grid()\n",
        "plt.title(\"Model Loss\")\n",
        "plt.ylabel(\"Loss\")\n",
        "plt.xlabel(\"Epochs\")\n",
        "plt.legend([\"train\", \"validation\"])\n",
        "plt.show()"
      ]
    },
    {
      "cell_type": "code",
      "execution_count": 24,
      "metadata": {
        "id": "Tt4Zx1m0CmK5"
      },
      "outputs": [],
      "source": [
        "X_test, Y_test = next(test_generator)"
      ]
    },
    {
      "cell_type": "code",
      "execution_count": null,
      "metadata": {
        "colab": {
          "base_uri": "https://localhost:8080/"
        },
        "id": "NB7JS7_xCxN6",
        "outputId": "29b16dd4-11d6-4ca8-d4f7-24a1ea1b799e"
      },
      "outputs": [],
      "source": [
        "print(X_test,Y_test)"
      ]
    },
    {
      "cell_type": "code",
      "execution_count": 26,
      "metadata": {
        "id": "-JrXTktxC0Xj"
      },
      "outputs": [],
      "source": [
        "y_true=[]\n",
        "for i in range(len(Y_test)):\n",
        "    K= Y_test[i]\n",
        "    \n",
        "    y_true.append(list(K).index(max(list(K))))"
      ]
    },
    {
      "cell_type": "code",
      "execution_count": 27,
      "metadata": {
        "colab": {
          "base_uri": "https://localhost:8080/"
        },
        "id": "YTJtvbIlWCpI",
        "outputId": "2aa888c9-a6da-4dd2-fa55-ff1a3a470297"
      },
      "outputs": [
        {
          "name": "stdout",
          "output_type": "stream",
          "text": [
            "[3, 1, 1, 2, 0, 1, 0, 0, 0, 1, 2, 2, 1, 3, 1, 3, 2, 3, 1, 2, 1, 1, 2, 2, 2, 1, 3, 1, 1, 3, 3, 1]\n"
          ]
        }
      ],
      "source": [
        "print(y_true)"
      ]
    },
    {
      "cell_type": "code",
      "execution_count": 28,
      "metadata": {
        "colab": {
          "base_uri": "https://localhost:8080/"
        },
        "id": "IK7OxGJnWE6g",
        "outputId": "8e895725-34ed-437a-b444-32a5446b4a84"
      },
      "outputs": [
        {
          "name": "stdout",
          "output_type": "stream",
          "text": [
            "1/1 [==============================] - 0s 185ms/step\n"
          ]
        }
      ],
      "source": [
        "M = vgg_16_model.predict(X_test)\n",
        "X_t=[]\n",
        "for i in range(len(M)):\n",
        "    K= M[i]\n",
        "    X_t.append(list(K).index(max(list(K))))"
      ]
    },
    {
      "cell_type": "code",
      "execution_count": 29,
      "metadata": {
        "colab": {
          "base_uri": "https://localhost:8080/"
        },
        "id": "Kh5ZuKMJWJyR",
        "outputId": "ec253779-7cec-4861-b436-71c8b7a1d354"
      },
      "outputs": [
        {
          "name": "stdout",
          "output_type": "stream",
          "text": [
            "[3, 1, 1, 2, 0, 1, 0, 0, 0, 1, 2, 3, 1, 3, 1, 3, 2, 2, 1, 2, 1, 1, 2, 2, 2, 1, 3, 1, 1, 3, 3, 1]\n"
          ]
        }
      ],
      "source": [
        "print(X_t)"
      ]
    },
    {
      "cell_type": "code",
      "execution_count": 30,
      "metadata": {
        "colab": {
          "base_uri": "https://localhost:8080/"
        },
        "id": "duHNJ44jWMnR",
        "outputId": "57063a81-45f8-44bd-9ae2-391a132d9458"
      },
      "outputs": [
        {
          "name": "stdout",
          "output_type": "stream",
          "text": [
            "              precision    recall  f1-score   support\n",
            "\n",
            "           0       1.00      1.00      1.00         4\n",
            "           1       1.00      1.00      1.00        13\n",
            "           2       0.88      0.88      0.88         8\n",
            "           3       0.86      0.86      0.86         7\n",
            "\n",
            "    accuracy                           0.94        32\n",
            "   macro avg       0.93      0.93      0.93        32\n",
            "weighted avg       0.94      0.94      0.94        32\n",
            "\n"
          ]
        }
      ],
      "source": [
        "print(classification_report(y_true, X_t, zero_division = 0))"
      ]
    },
    {
      "cell_type": "code",
      "execution_count": 31,
      "metadata": {
        "colab": {
          "base_uri": "https://localhost:8080/"
        },
        "id": "dy_8gnwmWQZB",
        "outputId": "22b0e68f-b0e5-4d86-dd1f-a5f7afd8845b"
      },
      "outputs": [
        {
          "name": "stdout",
          "output_type": "stream",
          "text": [
            "[[ 4  0  0  0]\n",
            " [ 0 13  0  0]\n",
            " [ 0  0  7  1]\n",
            " [ 0  0  1  6]]\n"
          ]
        }
      ],
      "source": [
        "print(confusion_matrix(y_true,X_t))"
      ]
    },
    {
      "cell_type": "code",
      "execution_count": null,
      "metadata": {
        "id": "RqN6Ru94Y_Aq"
      },
      "outputs": [],
      "source": []
    }
  ],
  "metadata": {
    "accelerator": "GPU",
    "colab": {
      "provenance": []
    },
    "kernelspec": {
      "display_name": "Python 3",
      "name": "python3"
    },
    "language_info": {
      "name": "python"
    }
  },
  "nbformat": 4,
  "nbformat_minor": 0
}
